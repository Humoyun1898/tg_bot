{
 "cells": [
  {
   "cell_type": "markdown",
   "id": "566bd001",
   "metadata": {},
   "source": [
    "1.Create your own virtual environment and install some python packages"
   ]
  },
  {
   "cell_type": "code",
   "execution_count": null,
   "id": "b4c5f52d",
   "metadata": {},
   "outputs": [],
   "source": [
    "mkdir my_project\n",
    "cd my_project\n",
    "python -m venv venv\n",
    "venv\\Scripts\\activate\n",
    "pip install requests\n",
    "pip install pandas"
   ]
  },
  {
   "cell_type": "markdown",
   "id": "ddbd9f7f",
   "metadata": {},
   "source": [
    "2.Create custom modules.\n",
    "Create math_operations.py module. Define add, subtract, multiply and divide functions in it. (All functions accept two arguments in this task)\n",
    "Create string_utils.py module. Define reverse_string and count_vowels functions in it. (All functions accept one argument in this task)"
   ]
  },
  {
   "cell_type": "code",
   "execution_count": null,
   "id": "d14fe950",
   "metadata": {},
   "outputs": [],
   "source": [
    "#math_operations.py\n",
    "def add(a,b):\n",
    "    return a+b\n",
    "\n",
    "def subtract(a,b):\n",
    "    return a-b\n",
    "\n",
    "def multiply(a,b):\n",
    "    return a*b\n",
    "\n",
    "def devide(a,b):\n",
    "    if b == 0:\n",
    "        return 'You cannot devide by 0'\n",
    "    else:\n",
    "        return a/b\n",
    "\n",
    "import math_operations\n",
    "\n",
    "print(math_operations.add(3,5))\n",
    "print(math_operations.subract(6,5))\n",
    "print(math_operations.devide(4,7))\n",
    "print(math_operations.multiply(2,8))\n",
    "\n"
   ]
  },
  {
   "cell_type": "code",
   "execution_count": null,
   "id": "685b48ee",
   "metadata": {},
   "outputs": [],
   "source": [
    "#string_utils.py\n",
    "def reverse_string(a):\n",
    "    reversed = a[::-1]\n",
    "    return reversed\n",
    "\n",
    "def count_vowels(string):\n",
    "    vowels = ['a', 'e', 'i', 'o', 'u','A','E','I','O','U']\n",
    "    count = 0\n",
    "\n",
    "    for x in vowels:\n",
    "        for y in string:\n",
    "            if x == y:\n",
    "                count +=1\n",
    "    return count\n",
    "\n",
    "import string_utils\n",
    "\n",
    "print(string_utils.reverse_string('Hello'))\n",
    "print(string_utils.count_vowels('Uzbekistan'))"
   ]
  },
  {
   "cell_type": "markdown",
   "id": "cb22bc74",
   "metadata": {},
   "source": []
  },
  {
   "cell_type": "code",
   "execution_count": null,
   "id": "bcaa9467",
   "metadata": {},
   "outputs": [],
   "source": [
    "# geometry/circle.py\n",
    "import math\n",
    "\n",
    "def calculate_area(radius):\n",
    "    return math.pi * radius ** 2\n",
    "\n",
    "def calculate_circumference(radius):\n",
    "    return 2 * math.pi * radius"
   ]
  },
  {
   "cell_type": "code",
   "execution_count": null,
   "id": "4bf0370f",
   "metadata": {},
   "outputs": [],
   "source": [
    "# geometry/__init__.py\n",
    "\n",
    "from .circle import calculate_area, calculate_circumference"
   ]
  },
  {
   "cell_type": "code",
   "execution_count": null,
   "id": "776db974",
   "metadata": {},
   "outputs": [],
   "source": [
    "# file_operations/file_reader.py\n",
    "\n",
    "def read_file(file_path):\n",
    "    with open(file_path, 'r') as file:\n",
    "        return file.read()"
   ]
  },
  {
   "cell_type": "code",
   "execution_count": null,
   "id": "24de53b4",
   "metadata": {},
   "outputs": [],
   "source": [
    "def write_file(file_path, content):\n",
    "    with open(file_path, 'w') as file:\n",
    "        file.write(content)"
   ]
  },
  {
   "cell_type": "code",
   "execution_count": null,
   "id": "4ceeee59",
   "metadata": {},
   "outputs": [],
   "source": [
    "from .file_reader import read_file\n",
    "from .file_writer import write_file"
   ]
  },
  {
   "cell_type": "code",
   "execution_count": null,
   "id": "1688005e",
   "metadata": {},
   "outputs": [],
   "source": [
    "from geometry import calculate_area, calculate_circumference\n",
    "from file_operations import read_file, write_file\n",
    "\n",
    "radius = 5\n",
    "area = calculate_area(radius)\n",
    "circ = calculate_circumference(radius)\n",
    "print(f\"Circle with radius {radius}: Area = {area:.2f}, Circumference = {circ:.2f}\")\n",
    "\n",
    "file_path = \"test.txt\"\n",
    "write_file(file_path, f\"Area: {area}\\nCircumference: {circ}\")\n",
    "print(\"File written.\")\n",
    "\n",
    "content = read_file(file_path)\n",
    "print(\"File content:\")\n",
    "print(content)"
   ]
  }
 ],
 "metadata": {
  "kernelspec": {
   "display_name": "Python 3",
   "language": "python",
   "name": "python3"
  },
  "language_info": {
   "codemirror_mode": {
    "name": "ipython",
    "version": 3
   },
   "file_extension": ".py",
   "mimetype": "text/x-python",
   "name": "python",
   "nbconvert_exporter": "python",
   "pygments_lexer": "ipython3",
   "version": "3.13.3"
  }
 },
 "nbformat": 4,
 "nbformat_minor": 5
}

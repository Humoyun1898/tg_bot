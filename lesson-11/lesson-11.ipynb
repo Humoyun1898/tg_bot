{
 "cells": [
  {
   "cell_type": "code",
   "execution_count": 5,
   "id": "b2eaa547",
   "metadata": {},
   "outputs": [
    {
     "name": "stdout",
     "output_type": "stream",
     "text": [
      "3\n"
     ]
    }
   ],
   "source": [
    "vowels = ['a', 'e', 'i', 'o', 'u','A','E','I','O','U']\n",
    "string = input('Print something')\n",
    "count = 0\n",
    "\n",
    "for x in vowels:\n",
    "    for y in string:\n",
    "        if x == y:\n",
    "            count +=1\n",
    "print(count)"
   ]
  },
  {
   "cell_type": "code",
   "execution_count": 7,
   "id": "d8dc5924",
   "metadata": {},
   "outputs": [
    {
     "data": {
      "text/plain": [
       "3"
      ]
     },
     "execution_count": 7,
     "metadata": {},
     "output_type": "execute_result"
    }
   ],
   "source": [
    "def count_vowels(string):\n",
    "    vowels = ['a', 'e', 'i', 'o', 'u','A','E','I','O','U']\n",
    "    count = 0\n",
    "\n",
    "    for x in vowels:\n",
    "        for y in string:\n",
    "            if x == y:\n",
    "                count +=1\n",
    "    return count\n",
    "\n",
    "count_vowels('Hello world')\n",
    "    "
   ]
  },
  {
   "cell_type": "code",
   "execution_count": null,
   "id": "209116ce",
   "metadata": {},
   "outputs": [],
   "source": [
    "string = input('Print something')\n",
    "count = len([char.lower() for char in my_string if char.lower() in 'aeuio'])\n",
    "count = sum([1 for char in my_string if char.lower() in 'aeuio'])\n",
    "print(count)"
   ]
  }
 ],
 "metadata": {
  "kernelspec": {
   "display_name": "Python 3",
   "language": "python",
   "name": "python3"
  },
  "language_info": {
   "codemirror_mode": {
    "name": "ipython",
    "version": 3
   },
   "file_extension": ".py",
   "mimetype": "text/x-python",
   "name": "python",
   "nbconvert_exporter": "python",
   "pygments_lexer": "ipython3",
   "version": "3.13.3"
  }
 },
 "nbformat": 4,
 "nbformat_minor": 5
}

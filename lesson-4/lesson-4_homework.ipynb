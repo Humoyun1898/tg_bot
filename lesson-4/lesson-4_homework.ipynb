{
 "cells": [
  {
   "cell_type": "markdown",
   "id": "85f65481",
   "metadata": {},
   "source": [
    "1.Write a Python script to sort (ascending and descending) a dictionary by value."
   ]
  },
  {
   "cell_type": "code",
   "execution_count": 20,
   "id": "64467c8c",
   "metadata": {},
   "outputs": [
    {
     "name": "stdout",
     "output_type": "stream",
     "text": [
      "{'c': 11, 'a': 14, 'b': 20, 'd': 50}\n"
     ]
    }
   ],
   "source": [
    "dict = {'a':14,'b':20,'c':11,'d':50}\n",
    "dict_values = dict.values()\n",
    "value_list = list(dict_values)\n",
    "ordered_list = sorted(value_list)\n",
    "ordered_dict = {}\n",
    "for y in ordered_list:\n",
    "    for x in dict:\n",
    "        if y==dict[x]:\n",
    "            ordered_dict.update([(f'{x}',dict[x])])\n",
    "\n",
    "print(ordered_dict)"
   ]
  },
  {
   "cell_type": "markdown",
   "id": "a8cf0a84",
   "metadata": {},
   "source": [
    "2.Write a Python script to add a key to a dictionary."
   ]
  },
  {
   "cell_type": "code",
   "execution_count": 2,
   "id": "a588fc3e",
   "metadata": {},
   "outputs": [
    {
     "data": {
      "text/plain": [
       "{0: 10, 1: 20, 2: 30}"
      ]
     },
     "execution_count": 2,
     "metadata": {},
     "output_type": "execute_result"
    }
   ],
   "source": [
    "my_dictionary = {0:10,1:20}\n",
    "my_dictionary.update([(2,30)])\n",
    "my_dictionary"
   ]
  },
  {
   "cell_type": "markdown",
   "id": "0c45092c",
   "metadata": {},
   "source": [
    "3.Write a Python script to concatenate the following dictionaries to create a new one."
   ]
  },
  {
   "cell_type": "code",
   "execution_count": 7,
   "id": "cb22cac4",
   "metadata": {},
   "outputs": [
    {
     "name": "stdout",
     "output_type": "stream",
     "text": [
      "{1: 10, 2: 20, 3: 30, 4: 40, 5: 50, 6: 60}\n"
     ]
    }
   ],
   "source": [
    "dic1 = {1: 10, 2: 20}\n",
    "dic2 = {3: 30, 4: 40}\n",
    "dic3 = {5: 50, 6: 60}\n",
    "dic1.update(dic2)\n",
    "dic1.update(dic3)\n",
    "print(dic1)"
   ]
  },
  {
   "cell_type": "markdown",
   "id": "0eb1ec7f",
   "metadata": {},
   "source": [
    "4.Write a Python script to generate and print a dictionary that contains a number (between 1 and n) in the form (x, x*x).\n",
    "\n"
   ]
  },
  {
   "cell_type": "code",
   "execution_count": 11,
   "id": "1b2611e1",
   "metadata": {},
   "outputs": [
    {
     "name": "stdout",
     "output_type": "stream",
     "text": [
      "{1: 1, 2: 4, 3: 9, 4: 16, 5: 25}\n"
     ]
    }
   ],
   "source": [
    "n = 5\n",
    "new_dict = {}\n",
    "for x in range (1,n+1):\n",
    "    new_dict.update([(x,x**2)])\n",
    "print(new_dict)\n"
   ]
  },
  {
   "cell_type": "markdown",
   "id": "f470fb16",
   "metadata": {},
   "source": [
    "5.Write a Python script to print a dictionary where the keys are numbers between 1 and 15 (both included) and the values are the square of the keys."
   ]
  },
  {
   "cell_type": "code",
   "execution_count": 12,
   "id": "d44ee89d",
   "metadata": {},
   "outputs": [
    {
     "name": "stdout",
     "output_type": "stream",
     "text": [
      "{1: 1, 2: 4, 3: 9, 4: 16, 5: 25, 6: 36, 7: 49, 8: 64, 9: 81, 10: 100, 11: 121, 12: 144, 13: 169, 14: 196, 15: 225}\n"
     ]
    }
   ],
   "source": [
    "dict = {}\n",
    "for x in range(1,16):\n",
    "    dict.update([(x,x**2)])\n",
    "print(dict)"
   ]
  },
  {
   "cell_type": "markdown",
   "id": "672e41dc",
   "metadata": {},
   "source": [
    "### SET\n",
    "1.Write a Python program to create a set."
   ]
  },
  {
   "cell_type": "code",
   "execution_count": 14,
   "id": "f8000c42",
   "metadata": {},
   "outputs": [
    {
     "name": "stdout",
     "output_type": "stream",
     "text": [
      "{1, 2, 3, 4, 5, 6}\n"
     ]
    }
   ],
   "source": [
    "#1-method\n",
    "empty_set = set()\n",
    "#2-method\n",
    "new_set = {1,2,3,4,6}\n",
    "#3-method\n",
    "list = [1,2,3,5,6,4]\n",
    "new_set2 = set(list)\n",
    "print(new_set2)"
   ]
  },
  {
   "cell_type": "markdown",
   "id": "79815ba9",
   "metadata": {},
   "source": [
    "2.Write a Python program to iterate over sets."
   ]
  },
  {
   "cell_type": "code",
   "execution_count": 16,
   "id": "e7d43baf",
   "metadata": {},
   "outputs": [
    {
     "name": "stdout",
     "output_type": "stream",
     "text": [
      "1\n",
      "67\n",
      "35\n",
      "244\n",
      "444\n",
      "12\n"
     ]
    }
   ],
   "source": [
    "set = {1,12,35,67,244,444}\n",
    "for x in set:\n",
    "    print(x)"
   ]
  },
  {
   "cell_type": "markdown",
   "id": "9dfc01e1",
   "metadata": {},
   "source": [
    "3.Write a Python program to add member(s) to a set."
   ]
  },
  {
   "cell_type": "code",
   "execution_count": 18,
   "id": "14e9b285",
   "metadata": {},
   "outputs": [
    {
     "name": "stdout",
     "output_type": "stream",
     "text": [
      "{'Dilshod', 'Markhabo', 'Khurshida', 'Maruf', 'Afruza', 'Khumoyun'}\n"
     ]
    }
   ],
   "source": [
    "members = {'Maruf','Khumoyun','Khurshida','Markhabo','Dilshod'}\n",
    "members.add('Afruza')\n",
    "print(members)"
   ]
  },
  {
   "cell_type": "markdown",
   "id": "e7cbbb3c",
   "metadata": {},
   "source": [
    "4.Write a Python program to remove item(s) from a given set"
   ]
  },
  {
   "cell_type": "code",
   "execution_count": 21,
   "id": "3715f436",
   "metadata": {},
   "outputs": [
    {
     "name": "stdout",
     "output_type": "stream",
     "text": [
      "{'Dilshod', 'Markhabo', 'Khurshida', 'Khumoyun'}\n"
     ]
    }
   ],
   "source": [
    "members = {'Maruf','Khumoyun','Khurshida','Markhabo','Dilshod'}\n",
    "members.remove('Maruf')\n",
    "print(members)"
   ]
  },
  {
   "cell_type": "markdown",
   "id": "ee400636",
   "metadata": {},
   "source": [
    "5. Remove an Item if Present in the Set"
   ]
  },
  {
   "cell_type": "code",
   "execution_count": 25,
   "id": "975590e7",
   "metadata": {},
   "outputs": [
    {
     "name": "stdout",
     "output_type": "stream",
     "text": [
      "{'Dilshod', 'Markhabo', 'Khurshida', 'Maruf', 'Khumoyun'}\n"
     ]
    }
   ],
   "source": [
    "members = {'Maruf','Khumoyun','Khurshida','Markhabo','Dilshod'}\n",
    "members.discard('Suyun')\n",
    "print(members)"
   ]
  }
 ],
 "metadata": {
  "kernelspec": {
   "display_name": "Python 3",
   "language": "python",
   "name": "python3"
  },
  "language_info": {
   "codemirror_mode": {
    "name": "ipython",
    "version": 3
   },
   "file_extension": ".py",
   "mimetype": "text/x-python",
   "name": "python",
   "nbconvert_exporter": "python",
   "pygments_lexer": "ipython3",
   "version": "3.13.3"
  }
 },
 "nbformat": 4,
 "nbformat_minor": 5
}

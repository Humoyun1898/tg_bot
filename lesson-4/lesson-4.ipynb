{
 "cells": [
  {
   "cell_type": "markdown",
   "id": "32435cdf",
   "metadata": {},
   "source": [
    "TUPLES"
   ]
  },
  {
   "cell_type": "markdown",
   "id": "fbe35586",
   "metadata": {},
   "source": [
    "tupples are immutable. We can not change values after creating\n",
    "there should be more than one argument in the tuple\n",
    "tuple can be used without brackets\n"
   ]
  },
  {
   "cell_type": "markdown",
   "id": "1c27c7a8",
   "metadata": {},
   "source": [
    "tuple methods"
   ]
  },
  {
   "cell_type": "code",
   "execution_count": null,
   "id": "60fd4e14",
   "metadata": {},
   "outputs": [
    {
     "name": "stdout",
     "output_type": "stream",
     "text": [
      "1\n",
      "0\n"
     ]
    }
   ],
   "source": [
    "my_tuple = (12,54,64,444,33) \n",
    "print(my_tuple.count(12)) # counts the number of element in the tuple\n",
    "print (my_tuple.index(12)) # gives the index.if there are several, it gives the first one\n"
   ]
  },
  {
   "cell_type": "code",
   "execution_count": 5,
   "id": "c0ce7e28",
   "metadata": {},
   "outputs": [
    {
     "name": "stdout",
     "output_type": "stream",
     "text": [
      "JOHN\n",
      "22\n",
      "Paris\n"
     ]
    }
   ],
   "source": [
    "my_tuple = ('JOHN',22,'Paris')\n",
    "age, name,city = my_tuple\n",
    "print(age)\n",
    "print(name)\n",
    "print(city)"
   ]
  },
  {
   "cell_type": "code",
   "execution_count": 12,
   "id": "eafd7f93",
   "metadata": {},
   "outputs": [
    {
     "name": "stdout",
     "output_type": "stream",
     "text": [
      "JOHN\n",
      "[22, 'Paris', 43, 2452, 2435, 24, 43, 2452, 2435, 24, 43, 2452, 2435, 24, 43, 2452, 2435, 24, 43, 2452, 2435, 24, 43, 2452, 2435, 24, 43]\n",
      "24\n"
     ]
    }
   ],
   "source": [
    "my_tuple\n",
    "my_tuple +=(43,2452,2435,24)\n",
    "name,*middle, number1,number2,number3 = my_tuple\n",
    "print(name)\n",
    "print (middle)\n",
    "print(number3)"
   ]
  },
  {
   "cell_type": "markdown",
   "id": "f2626142",
   "metadata": {},
   "source": [
    "DICTIONARIES"
   ]
  },
  {
   "cell_type": "markdown",
   "id": "84bcce8d",
   "metadata": {},
   "source": [
    "DICTIONARY IS A DATA TYPE THAT STORES DATA AS KEY:VALUE PAIRS\n",
    "--KEY SHOULD BE ALWAYS IN SINGEL OR DOUBLE QUOTES "
   ]
  },
  {
   "cell_type": "code",
   "execution_count": null,
   "id": "ede107a3",
   "metadata": {},
   "outputs": [],
   "source": [
    "my_dict = {key:value}\n",
    "my_dict = {'name':'John','age':25, 'city':'Tashkent'}"
   ]
  },
  {
   "cell_type": "code",
   "execution_count": 14,
   "id": "ac3850f7",
   "metadata": {},
   "outputs": [
    {
     "name": "stdout",
     "output_type": "stream",
     "text": [
      "{'name': 'john', 'age': 22, 'city': 'Paris'}\n"
     ]
    }
   ],
   "source": [
    "info_list = [('name','john'),('age',22),('city','Paris')]\n",
    "info_dict = dict(info_list)\n",
    "print(info_dict)"
   ]
  },
  {
   "cell_type": "markdown",
   "id": "36d17966",
   "metadata": {},
   "source": [
    "ACCESSING VALUES"
   ]
  },
  {
   "cell_type": "code",
   "execution_count": 18,
   "id": "9506915a",
   "metadata": {},
   "outputs": [
    {
     "data": {
      "text/plain": [
       "'Paris'"
      ]
     },
     "execution_count": 18,
     "metadata": {},
     "output_type": "execute_result"
    }
   ],
   "source": [
    "info_dict\n",
    "info_dict['city']"
   ]
  },
  {
   "cell_type": "code",
   "execution_count": null,
   "id": "52872f14",
   "metadata": {},
   "outputs": [
    {
     "data": {
      "text/plain": [
       "False"
      ]
     },
     "execution_count": 19,
     "metadata": {},
     "output_type": "execute_result"
    }
   ],
   "source": [
    "'address' in info_dict #shows whethee it exists or not"
   ]
  },
  {
   "cell_type": "markdown",
   "id": "e4818d92",
   "metadata": {},
   "source": [
    "GET"
   ]
  },
  {
   "cell_type": "code",
   "execution_count": null,
   "id": "e303ea74",
   "metadata": {},
   "outputs": [
    {
     "data": {
      "text/plain": [
       "25"
      ]
     },
     "execution_count": 22,
     "metadata": {},
     "output_type": "execute_result"
    }
   ],
   "source": [
    "my_dict = {'name':'John','age':25, 'city':'Tashkent'}\n",
    "my_dict.get('age','Not found') #if there is key that you put to the brackets, it will return none. second argument is optional\n",
    "my_dict['age']"
   ]
  },
  {
   "cell_type": "markdown",
   "id": "5898ebea",
   "metadata": {},
   "source": [
    "clear"
   ]
  },
  {
   "cell_type": "code",
   "execution_count": 23,
   "id": "33174feb",
   "metadata": {},
   "outputs": [
    {
     "data": {
      "text/plain": [
       "{}"
      ]
     },
     "execution_count": 23,
     "metadata": {},
     "output_type": "execute_result"
    }
   ],
   "source": [
    "my_dict = {'name':'John','age':25, 'city':'Tashkent'}\n",
    "my_dict.clear()\n",
    "my_dict\n"
   ]
  },
  {
   "cell_type": "markdown",
   "id": "634407dc",
   "metadata": {},
   "source": [
    "copy"
   ]
  },
  {
   "cell_type": "code",
   "execution_count": 25,
   "id": "63a4bd77",
   "metadata": {},
   "outputs": [
    {
     "name": "stdout",
     "output_type": "stream",
     "text": [
      "{'name': 'John', 'age': 25, 'city': 'Tashkent'}\n"
     ]
    }
   ],
   "source": [
    "my_dict = {'name':'John','age':25, 'city':'Tashkent'}\n",
    "new_dict = my_dict.copy()\n",
    "print(new_dict)\n"
   ]
  },
  {
   "cell_type": "markdown",
   "id": "0449284d",
   "metadata": {},
   "source": [
    "ITEMS - makes list from the dictionary"
   ]
  },
  {
   "cell_type": "code",
   "execution_count": 26,
   "id": "546ea751",
   "metadata": {},
   "outputs": [
    {
     "data": {
      "text/plain": [
       "dict_items([('name', 'John'), ('age', 25), ('city', 'Tashkent')])"
      ]
     },
     "execution_count": 26,
     "metadata": {},
     "output_type": "execute_result"
    }
   ],
   "source": [
    "my_dict = {'name':'John','age':25, 'city':'Tashkent'}\n",
    "my_dict.items()\n"
   ]
  },
  {
   "cell_type": "markdown",
   "id": "e1e0da1a",
   "metadata": {},
   "source": [
    "KEYS"
   ]
  },
  {
   "cell_type": "code",
   "execution_count": null,
   "id": "54cae546",
   "metadata": {},
   "outputs": [
    {
     "data": {
      "text/plain": [
       "dict_keys(['name', 'age', 'city'])"
      ]
     },
     "execution_count": 27,
     "metadata": {},
     "output_type": "execute_result"
    }
   ],
   "source": [
    "my_dict = {'name':'John','age':25, 'city':'Tashkent'}\n",
    "my_dict.keys() #SHOWS THE KEYS"
   ]
  },
  {
   "cell_type": "markdown",
   "id": "1133d0f3",
   "metadata": {},
   "source": [
    "VALUES"
   ]
  },
  {
   "cell_type": "code",
   "execution_count": 28,
   "id": "6403b604",
   "metadata": {},
   "outputs": [
    {
     "data": {
      "text/plain": [
       "dict_values(['John', 25, 'Tashkent'])"
      ]
     },
     "execution_count": 28,
     "metadata": {},
     "output_type": "execute_result"
    }
   ],
   "source": [
    "my_dict = {'name':'John','age':25, 'city':'Tashkent'}\n",
    "my_dict.values()"
   ]
  },
  {
   "cell_type": "markdown",
   "id": "20214123",
   "metadata": {},
   "source": [
    "### POP\n",
    "deletes the given key from dictionary and returns its value"
   ]
  },
  {
   "cell_type": "code",
   "execution_count": 29,
   "id": "220ab453",
   "metadata": {},
   "outputs": [
    {
     "data": {
      "text/plain": [
       "'John'"
      ]
     },
     "execution_count": 29,
     "metadata": {},
     "output_type": "execute_result"
    }
   ],
   "source": [
    "my_dict = {'name':'John','age':25, 'city':'Tashkent'}\n",
    "\n",
    "my_dict.pop('name')"
   ]
  },
  {
   "cell_type": "markdown",
   "id": "45d2643d",
   "metadata": {},
   "source": [
    "### update\n",
    "updates the dictionary by adding new key and value"
   ]
  },
  {
   "cell_type": "code",
   "execution_count": 32,
   "id": "568390cc",
   "metadata": {},
   "outputs": [
    {
     "data": {
      "text/plain": [
       "{'name': 'John',\n",
       " 'age': 25,\n",
       " 'city': 'Tashkent',\n",
       " 'birth_date': '25.12.43',\n",
       " 'Region': 'Surkhandarya'}"
      ]
     },
     "execution_count": 32,
     "metadata": {},
     "output_type": "execute_result"
    }
   ],
   "source": [
    "my_dict = {'name':'John','age':25, 'city':'Tashkent'}\n",
    "my_dict.update([('birth_date','25.12.43'),('Region','Surkhandarya')])\n",
    "my_dict"
   ]
  },
  {
   "cell_type": "code",
   "execution_count": 34,
   "id": "1dbeb8f4",
   "metadata": {},
   "outputs": [
    {
     "data": {
      "text/plain": [
       "{'name': 'John',\n",
       " 'age': 25,\n",
       " 'city': 'Tashkent',\n",
       " 'birth_date': '25.12.43',\n",
       " 'Region': 'Andijan'}"
      ]
     },
     "execution_count": 34,
     "metadata": {},
     "output_type": "execute_result"
    }
   ],
   "source": [
    "my_dict['Region'] = 'Andijan'\n",
    "my_dict"
   ]
  },
  {
   "cell_type": "code",
   "execution_count": 35,
   "id": "920ae284",
   "metadata": {},
   "outputs": [
    {
     "data": {
      "text/plain": [
       "'John'"
      ]
     },
     "execution_count": 35,
     "metadata": {},
     "output_type": "execute_result"
    }
   ],
   "source": [
    "my_dict = {'name':'John','age':25, 'city':'Tashkent'}\n",
    "my_dict.pop('name','Key not found')\n"
   ]
  },
  {
   "cell_type": "markdown",
   "id": "e6c5a6fc",
   "metadata": {},
   "source": [
    "### SETS\n",
    "SETS US A PYTHON DATA TYPE\n",
    "SETS IS UNORDERED COLLECTION OF DISTINCT DATA TYPE\n",
    "deletes duplicates and make in order ascending"
   ]
  },
  {
   "cell_type": "code",
   "execution_count": 36,
   "id": "e4d928af",
   "metadata": {},
   "outputs": [
    {
     "name": "stdout",
     "output_type": "stream",
     "text": [
      "{1, 2, 3, 899, 5, 6, 7, 9}\n"
     ]
    }
   ],
   "source": [
    "my_set = {1,2,3,5,6,7,899,9,6,6,6}\n",
    "print(my_set)"
   ]
  }
 ],
 "metadata": {
  "kernelspec": {
   "display_name": "Python 3",
   "language": "python",
   "name": "python3"
  },
  "language_info": {
   "codemirror_mode": {
    "name": "ipython",
    "version": 3
   },
   "file_extension": ".py",
   "mimetype": "text/x-python",
   "name": "python",
   "nbconvert_exporter": "python",
   "pygments_lexer": "ipython3",
   "version": "3.13.3"
  }
 },
 "nbformat": 4,
 "nbformat_minor": 5
}

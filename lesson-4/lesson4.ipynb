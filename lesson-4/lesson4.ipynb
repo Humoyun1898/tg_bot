{
 "cells": [
  {
   "cell_type": "markdown",
   "id": "91345bf8",
   "metadata": {},
   "source": [
    "## Tuples\n",
    "\n",
    "immutable(we can't change its values after creating)\n",
    "\n",
    "\n"
   ]
  },
  {
   "cell_type": "markdown",
   "id": "1fb8adae",
   "metadata": {},
   "source": [
    "### Lists\n",
    "\n",
    "ordered\n",
    "mutable\n",
    "iterable\n",
    "\n"
   ]
  },
  {
   "cell_type": "code",
   "execution_count": 1,
   "id": "7e1bb4ac",
   "metadata": {},
   "outputs": [
    {
     "data": {
      "text/plain": [
       "[5, 10, 9, 2]"
      ]
     },
     "execution_count": 1,
     "metadata": {},
     "output_type": "execute_result"
    }
   ],
   "source": [
    "my_list = [5,7,9,2]\n",
    "\n",
    "my_list[1] = 10\n",
    "\n",
    "my_list\n"
   ]
  },
  {
   "cell_type": "code",
   "execution_count": 2,
   "metadata": {},
   "outputs": [
    {
     "data": {
      "text/plain": [
       "(1, 5, 'John', 'Paris')"
      ]
     },
     "execution_count": 2,
     "metadata": {},
     "output_type": "execute_result"
    }
   ],
   "source": [
    "my_tuple = 1, 5, 'John', 'Paris'\n",
    "\n",
    "my_tuple"
   ]
  },
  {
   "cell_type": "code",
   "execution_count": 3,
   "metadata": {},
   "outputs": [
    {
     "data": {
      "text/plain": [
       "(5, 12, 'New York', 'Anna')"
      ]
     },
     "execution_count": 3,
     "metadata": {},
     "output_type": "execute_result"
    }
   ],
   "source": [
    "new_tuple = (5, 12, 'New York', 'Anna')\n",
    "\n",
    "new_tuple"
   ]
  },
  {
   "cell_type": "code",
   "execution_count": null,
   "id": "97a8028a",
   "metadata": {},
   "outputs": [
    {
     "ename": "TypeError",
     "evalue": "'tuple' object does not support item assignment",
     "output_type": "error",
     "traceback": [
      "\u001b[31m---------------------------------------------------------------------------\u001b[39m",
      "\u001b[31mTypeError\u001b[39m                                 Traceback (most recent call last)",
      "\u001b[36mCell\u001b[39m\u001b[36m \u001b[39m\u001b[32mIn[7]\u001b[39m\u001b[32m, line 7\u001b[39m\n\u001b[32m      3\u001b[39m new_tuple = (\u001b[32m5\u001b[39m, \u001b[32m12\u001b[39m, \u001b[33m'\u001b[39m\u001b[33mNew York\u001b[39m\u001b[33m'\u001b[39m, \u001b[33m'\u001b[39m\u001b[33mAnna\u001b[39m\u001b[33m'\u001b[39m)\n\u001b[32m      4\u001b[39m new_tuple\n\u001b[32m----> \u001b[39m\u001b[32m7\u001b[39m \u001b[43mnew_tuple\u001b[49m\u001b[43m[\u001b[49m\u001b[32;43m2\u001b[39;49m\u001b[43m]\u001b[49m = \u001b[33m'\u001b[39m\u001b[33mParis\u001b[39m\u001b[33m'\u001b[39m\n",
      "\u001b[31mTypeError\u001b[39m: 'tuple' object does not support item assignment"
     ]
    }
   ],
   "source": [
    "# tuples are immutable\n",
    "# lists are mutable (we can change it values)\n",
    "new_tuple = (5, 12, 'New York', 'Anna')\n",
    "new_tuple\n",
    "\n",
    "new_tuple[2] = 'Paris'"
   ]
  },
  {
   "cell_type": "code",
   "execution_count": 8,
   "metadata": {},
   "outputs": [
    {
     "data": {
      "text/plain": [
       "list"
      ]
     },
     "execution_count": 8,
     "metadata": {},
     "output_type": "execute_result"
    }
   ],
   "source": [
    "my_tuple = [2345,2452,345]\n",
    "\n",
    "type(my_tuple)"
   ]
  },
  {
   "cell_type": "code",
   "execution_count": 11,
   "metadata": {},
   "outputs": [
    {
     "data": {
      "text/plain": [
       "(5, 'Washington', 100)"
      ]
     },
     "execution_count": 11,
     "metadata": {},
     "output_type": "execute_result"
    }
   ],
   "source": [
    "# iterables so far (lists, strings)\n",
    "\n",
    "# iterable - har bitta elementiga murojaat qila olasiz(miz)\n",
    "\n",
    "my_tuple = tuple([5,'Washington', 100])\n",
    "my_tuple"
   ]
  },
  {
   "cell_type": "code",
   "execution_count": 15,
   "metadata": {},
   "outputs": [
    {
     "data": {
      "text/plain": [
       "tuple"
      ]
     },
     "execution_count": 15,
     "metadata": {},
     "output_type": "execute_result"
    }
   ],
   "source": [
    "my_tuple = 12,\n",
    "\n",
    "my_tuple\n",
    "type(my_tuple)"
   ]
  },
  {
   "cell_type": "markdown",
   "id": "aef13401",
   "metadata": {},
   "source": [
    "### list methods\n",
    "\n",
    "insert\n",
    "copy\n",
    "index\n",
    "append\n",
    "pop\n",
    "remove\n",
    ".....\n",
    "\n"
   ]
  },
  {
   "cell_type": "markdown",
   "id": "a0c8bedc",
   "metadata": {},
   "source": [
    "## Tuple Methods\n"
   ]
  },
  {
   "cell_type": "markdown",
   "id": "32f5e39a",
   "metadata": {},
   "source": [
    "### Count\n",
    "\n",
    "counts the number of occurencing in the Tuple of a given element"
   ]
  },
  {
   "cell_type": "code",
   "execution_count": null,
   "metadata": {},
   "outputs": [
    {
     "data": {
      "text/plain": [
       "0"
      ]
     },
     "execution_count": 18,
     "metadata": {},
     "output_type": "execute_result"
    }
   ],
   "source": [
    "my_tuple = (1, 5, 8, 10, 5, 12, 1, 9, 5)\n",
    "\n",
    "my_tuple.count(1)\n",
    "\n",
    "my_tuple.count(5)\n",
    "\n",
    "my_tuple.count(50)"
   ]
  },
  {
   "cell_type": "markdown",
   "id": "432cdda3",
   "metadata": {},
   "source": [
    "### Index\n",
    "\n",
    "returns the index of the first occured element from the Tuple"
   ]
  },
  {
   "cell_type": "code",
   "execution_count": 20,
   "id": "1cb8805e",
   "metadata": {},
   "outputs": [
    {
     "data": {
      "text/plain": [
       "7"
      ]
     },
     "execution_count": 20,
     "metadata": {},
     "output_type": "execute_result"
    }
   ],
   "source": [
    "my_tuple = (1, 5, 8, 10, 5, 12, 1, 9, 5)\n",
    "\n",
    "\n",
    "my_tuple.index(5)\n",
    "\n",
    "my_tuple.index(9)"
   ]
  },
  {
   "cell_type": "markdown",
   "id": "d11c7f44",
   "metadata": {},
   "source": [
    "## Tuple Unpacking\n",
    "\n",
    "provide the same number of variable as the same number of element the tuple has"
   ]
  },
  {
   "cell_type": "code",
   "execution_count": null,
   "metadata": {},
   "outputs": [
    {
     "name": "stdout",
     "output_type": "stream",
     "text": [
      "22\n",
      "John\n",
      "Paris\n"
     ]
    }
   ],
   "source": [
    "my_tuple = ('John', 22, 'Paris')\n",
    "\n",
    "\n",
    "age,name, city = my_tuple\n",
    "\n",
    "\n",
    "print(name)\n",
    "\n",
    "print(age)\n",
    "\n",
    "print(city)\n"
   ]
  },
  {
   "cell_type": "code",
   "execution_count": 27,
   "metadata": {},
   "outputs": [
    {
     "ename": "ValueError",
     "evalue": "too many values to unpack (expected 2)",
     "output_type": "error",
     "traceback": [
      "\u001b[31m---------------------------------------------------------------------------\u001b[39m",
      "\u001b[31mValueError\u001b[39m                                Traceback (most recent call last)",
      "\u001b[36mCell\u001b[39m\u001b[36m \u001b[39m\u001b[32mIn[27]\u001b[39m\u001b[32m, line 4\u001b[39m\n\u001b[32m      1\u001b[39m my_tuple\n\u001b[32m----> \u001b[39m\u001b[32m4\u001b[39m name, age = my_tuple\n",
      "\u001b[31mValueError\u001b[39m: too many values to unpack (expected 2)"
     ]
    }
   ],
   "source": [
    "my_tuple\n",
    "\n",
    "\n",
    "name, age = my_tuple"
   ]
  },
  {
   "cell_type": "code",
   "execution_count": 34,
   "metadata": {},
   "outputs": [
    {
     "name": "stdout",
     "output_type": "stream",
     "text": [
      "('John', 22, 'Paris', '2003-11-10', 43, 2452, 2435, 24) original \n",
      "\n",
      "[22, 'Paris', '2003-11-10', 43] middle \n",
      "\n",
      "John name \n",
      "\n",
      "2452 number1 \n",
      "\n",
      "2435 number2 \n",
      "\n",
      "24 number3 \n",
      "\n"
     ]
    }
   ],
   "source": [
    "my_tuple = ('John', 22, 'Paris', '2003-11-10', 43, 2452, 2435, 24)\n",
    "\n",
    "\n",
    "\n",
    "# *args\n",
    "name, *middle, number1, number2, number3 = my_tuple\n",
    "\n",
    "print(my_tuple, 'original \\n')\n",
    "print(middle, 'middle \\n')\n",
    "# \\n - new line\n",
    "print(name, 'name \\n')\n",
    "print(number1, 'number1 \\n')\n",
    "print(number2, 'number2 \\n')\n",
    "print(number3, 'number3 \\n')\n"
   ]
  },
  {
   "cell_type": "code",
   "execution_count": 36,
   "id": "eb7e4b79",
   "metadata": {},
   "outputs": [
    {
     "name": "stdout",
     "output_type": "stream",
     "text": [
      "John\n",
      "24\n",
      "[22, 'Paris', '2003-11-10', 43, 2452, 2435]\n"
     ]
    }
   ],
   "source": [
    "my_tuple\n",
    "\n",
    "name, *middle , end = my_tuple\n",
    "\n",
    "print(name)\n",
    "\n",
    "print(end)\n",
    "\n",
    "print(middle)\n"
   ]
  },
  {
   "cell_type": "markdown",
   "id": "a3c5db29",
   "metadata": {},
   "source": [
    "# Dictionaries and Sets"
   ]
  },
  {
   "cell_type": "markdown",
   "id": "3d2e19a3",
   "metadata": {},
   "source": [
    "## Dictionary\n",
    "\n",
    "dictionary is a python data type that stores data as key:value pairs.\n",
    "\n"
   ]
  },
  {
   "cell_type": "code",
   "execution_count": null,
   "id": "8aabdb5e",
   "metadata": {},
   "outputs": [
    {
     "data": {
      "text/plain": [
       "{'name': 'John'}"
      ]
     },
     "execution_count": 37,
     "metadata": {},
     "output_type": "execute_result"
    }
   ],
   "source": [
    "# square brackets for list creation\n",
    "# brackets or paranthesis for tuple creation\n",
    "# curly brackets for dictionary creation\n",
    "\n",
    "\n",
    "# my_dict = {key:value}\n",
    "# my_dict = {key:value, key1:value1, key2: value2, ...... keyN: valueN}\n",
    "\n",
    "\n",
    "#key name must be always in single or double quotes\n",
    "\n",
    "\n",
    "my_dict = {\"name\" : \"John\"}\n",
    "\n",
    "my_dict"
   ]
  },
  {
   "cell_type": "code",
   "execution_count": null,
   "id": "9256eba0",
   "metadata": {},
   "outputs": [
    {
     "data": {
      "text/plain": [
       "{'name': 'John', 'age': 25, 'City': 'Tashkent'}"
      ]
     },
     "execution_count": 38,
     "metadata": {},
     "output_type": "execute_result"
    }
   ],
   "source": [
    "my_dict = {\"name\": \"John\", 'age': 25, 'City': \"Tashkent\"}\n",
    "\n",
    "my_dict"
   ]
  },
  {
   "cell_type": "code",
   "execution_count": 40,
   "id": "171698ee",
   "metadata": {},
   "outputs": [
    {
     "data": {
      "text/plain": [
       "{'email': 'sdfgsdgskdjfg@gmail.com', 'phone_number': '+999999999'}"
      ]
     },
     "execution_count": 40,
     "metadata": {},
     "output_type": "execute_result"
    }
   ],
   "source": [
    "user_info = {\"email\": \"sdfgsdgskdjfg@gmail.com\", \"phone_number\": \"+999999999\"}\n",
    "\n",
    "user_info"
   ]
  },
  {
   "cell_type": "code",
   "execution_count": 42,
   "id": "31bf361e",
   "metadata": {},
   "outputs": [
    {
     "data": {
      "text/plain": [
       "{'name': 'Anna', 'age': '22', 'email': 'sdfgsdfgdf@gmail.com'}"
      ]
     },
     "execution_count": 42,
     "metadata": {},
     "output_type": "execute_result"
    }
   ],
   "source": [
    "# dict(key_name = value, key_2 = value_2, key_3 = value_3)\n",
    "my_dict = dict(name = \"Anna\", age = '22', email = 'sdfgsdfgdf@gmail.com')\n",
    "\n",
    "my_dict\n",
    "\n",
    "\n",
    "\n"
   ]
  },
  {
   "cell_type": "code",
   "execution_count": 43,
   "id": "fba782c2",
   "metadata": {},
   "outputs": [
    {
     "data": {
      "text/plain": [
       "{'name': 'John', 'city': 'Paris', 'age': 20}"
      ]
     },
     "execution_count": 43,
     "metadata": {},
     "output_type": "execute_result"
    }
   ],
   "source": [
    "info_list = [(\"name\", 'John'), (\"city\", \"Paris\"), (\"age\", 20)]\n",
    "\n",
    "info_dictionary = dict(info_list)\n",
    "\n",
    "\n",
    "info_dictionary\n",
    "\n"
   ]
  },
  {
   "cell_type": "markdown",
   "id": "1019d149",
   "metadata": {},
   "source": [
    "### Accessing Values\n",
    "\n",
    "provide the key name in square brackets"
   ]
  },
  {
   "cell_type": "code",
   "execution_count": 52,
   "id": "317e3ddd",
   "metadata": {},
   "outputs": [
    {
     "data": {
      "text/plain": [
       "22"
      ]
     },
     "execution_count": 52,
     "metadata": {},
     "output_type": "execute_result"
    }
   ],
   "source": [
    "\n",
    "my_dict = {\"name\" : \"Anna\", \"age\" : 22, \"email\": 'sdfgsdfgdf@gmail.com'}\n",
    "\n",
    "\n",
    "my_dict['email']\n",
    "\n",
    "my_dict['name']\n",
    "\n",
    "my_dict['age']\n",
    "\n"
   ]
  },
  {
   "cell_type": "code",
   "execution_count": 54,
   "id": "2646e20f",
   "metadata": {},
   "outputs": [
    {
     "ename": "KeyError",
     "evalue": "'address'",
     "output_type": "error",
     "traceback": [
      "\u001b[31m---------------------------------------------------------------------------\u001b[39m",
      "\u001b[31mKeyError\u001b[39m                                  Traceback (most recent call last)",
      "\u001b[36mCell\u001b[39m\u001b[36m \u001b[39m\u001b[32mIn[54]\u001b[39m\u001b[32m, line 1\u001b[39m\n\u001b[32m----> \u001b[39m\u001b[32m1\u001b[39m \u001b[43mmy_dict\u001b[49m\u001b[43m[\u001b[49m\u001b[33;43m'\u001b[39;49m\u001b[33;43maddress\u001b[39;49m\u001b[33;43m'\u001b[39;49m\u001b[43m]\u001b[49m\n",
      "\u001b[31mKeyError\u001b[39m: 'address'"
     ]
    }
   ],
   "source": [
    "my_dict['address']"
   ]
  },
  {
   "cell_type": "code",
   "execution_count": 55,
   "id": "323ad29d",
   "metadata": {},
   "outputs": [
    {
     "data": {
      "text/plain": [
       "False"
      ]
     },
     "execution_count": 55,
     "metadata": {},
     "output_type": "execute_result"
    }
   ],
   "source": [
    "'address' in my_dict"
   ]
  },
  {
   "cell_type": "code",
   "execution_count": 56,
   "id": "55078320",
   "metadata": {},
   "outputs": [
    {
     "data": {
      "text/plain": [
       "True"
      ]
     },
     "execution_count": 56,
     "metadata": {},
     "output_type": "execute_result"
    }
   ],
   "source": [
    "'email' in my_dict"
   ]
  },
  {
   "cell_type": "markdown",
   "id": "155d4cb1",
   "metadata": {},
   "source": [
    "## Dictionary Methods"
   ]
  },
  {
   "cell_type": "markdown",
   "id": "57d5074b",
   "metadata": {},
   "source": [
    "### Get\n",
    "returns the value of the provided key\n"
   ]
  },
  {
   "cell_type": "code",
   "execution_count": null,
   "id": "6a047426",
   "metadata": {},
   "outputs": [
    {
     "name": "stdout",
     "output_type": "stream",
     "text": [
      "22\n",
      "The key(address) is not found \n",
      "sdfgsdfgdf@gmail.com\n"
     ]
    }
   ],
   "source": [
    "my_dict = {\"name\" : \"Anna\", \"age\" : 22, \"email\": 'sdfgsdfgdf@gmail.com'}\n",
    "\n",
    "\n",
    "print(my_dict.get(\"age\"))\n",
    "my_dict[\"age\"]\n",
    "\n",
    "\n",
    "\n",
    "print(my_dict.get(\"address\", 'The key(address) is not found!'))\n",
    "\n",
    "print(my_dict.get(\"email\", 'The key is not found'))"
   ]
  },
  {
   "cell_type": "markdown",
   "id": "545bc947",
   "metadata": {},
   "source": [
    "### Clear\n",
    "\n",
    "removes keys and values from the dictionary"
   ]
  },
  {
   "cell_type": "code",
   "execution_count": 68,
   "id": "27349567",
   "metadata": {},
   "outputs": [
    {
     "data": {
      "text/plain": [
       "{}"
      ]
     },
     "execution_count": 68,
     "metadata": {},
     "output_type": "execute_result"
    }
   ],
   "source": [
    "my_dict = {\"name\" : \"Anna\", \"age\" : 22, \"email\": 'sdfgsdfgdf@gmail.com'}\n",
    "\n",
    "my_dict.clear()\n",
    "\n",
    "my_dict\n"
   ]
  },
  {
   "cell_type": "markdown",
   "id": "f168f9e1",
   "metadata": {},
   "source": [
    "### Copy\n",
    "\n",
    "copies dictionary keys and values to another dict"
   ]
  },
  {
   "cell_type": "code",
   "execution_count": null,
   "id": "d3ab5f0d",
   "metadata": {},
   "outputs": [
    {
     "data": {
      "text/plain": [
       "{'email': 'sdfgsdgskdjfg@gmail.com', 'phone_number': '+999999999'}"
      ]
     },
     "execution_count": 71,
     "metadata": {},
     "output_type": "execute_result"
    }
   ],
   "source": [
    "user_info = {\"email\": \"sdfgsdgskdjfg@gmail.com\", \"phone_number\": \"+999999999\"}\n",
    "\n",
    "\n",
    "new_user = user_info.copy()\n",
    "\n",
    "new_user"
   ]
  },
  {
   "cell_type": "markdown",
   "id": "90016548",
   "metadata": {},
   "source": [
    "### Items\n",
    "\n",
    "returns the keys and values in a list"
   ]
  },
  {
   "cell_type": "code",
   "execution_count": null,
   "id": "f6df2b5d",
   "metadata": {},
   "outputs": [
    {
     "data": {
      "text/plain": [
       "dict_items([('email', 'sdfgsdgskdjfg@gmail.com'), ('phone_number', '+999999999')])"
      ]
     },
     "execution_count": 72,
     "metadata": {},
     "output_type": "execute_result"
    }
   ],
   "source": [
    "user_info.items()\n",
    "\n",
    "#dict_items(\n",
    "# [\n",
    "# ('email', 'sdfgsdgskdjfg@gmail.com'),\n",
    "# ('phone_number', '+999999999')\n",
    "# ]\n",
    "# \n",
    "\n",
    "\n",
    "\n",
    "# reverse of below code\n",
    "# info_list = [(\"name\", 'John'), (\"city\", \"Paris\"), (\"age\", 20)]\n",
    "\n",
    "# info_dictionary = dict(info_list)\n"
   ]
  },
  {
   "cell_type": "markdown",
   "id": "601ca8cd",
   "metadata": {},
   "source": [
    "### Keys\n",
    "\n",
    "returns the key names of the dictionary"
   ]
  },
  {
   "cell_type": "code",
   "execution_count": 75,
   "id": "c036cd93",
   "metadata": {},
   "outputs": [
    {
     "data": {
      "text/plain": [
       "dict_keys(['email', 'phone_number'])"
      ]
     },
     "execution_count": 75,
     "metadata": {},
     "output_type": "execute_result"
    }
   ],
   "source": [
    "new_user.keys()\n",
    "\n",
    "# my_dict.keys()"
   ]
  },
  {
   "cell_type": "markdown",
   "id": "447e4f73",
   "metadata": {},
   "source": [
    "### Values\n",
    "\n",
    "returns the values of the dictionary"
   ]
  },
  {
   "cell_type": "code",
   "execution_count": 76,
   "id": "7ac79d4e",
   "metadata": {},
   "outputs": [
    {
     "data": {
      "text/plain": [
       "dict_values(['sdfgsdgskdjfg@gmail.com', '+999999999'])"
      ]
     },
     "execution_count": 76,
     "metadata": {},
     "output_type": "execute_result"
    }
   ],
   "source": [
    "user_info.values()\n"
   ]
  },
  {
   "cell_type": "markdown",
   "id": "c56a85f3",
   "metadata": {},
   "source": [
    "### Pop\n",
    "delete given key from the dictionary"
   ]
  },
  {
   "cell_type": "code",
   "execution_count": 88,
   "id": "70702fed",
   "metadata": {},
   "outputs": [
    {
     "data": {
      "text/plain": [
       "{'email': 'sdfgsdgskdjfg@gmail.com'}"
      ]
     },
     "execution_count": 88,
     "metadata": {},
     "output_type": "execute_result"
    }
   ],
   "source": [
    "user_info = {\"email\": \"sdfgsdgskdjfg@gmail.com\", \"phone_number\": \"+999999999\"}\n",
    "\n",
    "user_info.pop('phone_number')\n",
    "\n",
    "user_info\n"
   ]
  },
  {
   "cell_type": "code",
   "execution_count": null,
   "id": "5e220d69",
   "metadata": {},
   "outputs": [
    {
     "data": {
      "text/plain": [
       "{'email': 'sdfgsdgskdjfg@gmail.com'}"
      ]
     },
     "execution_count": 101,
     "metadata": {},
     "output_type": "execute_result"
    }
   ],
   "source": [
    "user_info = {\"email\": \"sdfgsdgskdjfg@gmail.com\", \"phone_number\": \"+999999999\"}\n",
    "\n",
    "user_info.pop('phone_number', \"Key not found\")\n",
    "\n",
    "user_info.pop('phone_number', \"Key not found\")\n",
    "\n",
    "\n",
    "user_info"
   ]
  },
  {
   "cell_type": "markdown",
   "id": "02ec0a49",
   "metadata": {},
   "source": [
    "### popitem\n",
    "\n",
    "removes the last added key from the dictionary"
   ]
  },
  {
   "cell_type": "code",
   "execution_count": null,
   "id": "2cd750f2",
   "metadata": {},
   "outputs": [
    {
     "ename": "KeyError",
     "evalue": "'popitem(): dictionary is empty'",
     "output_type": "error",
     "traceback": [
      "\u001b[31m---------------------------------------------------------------------------\u001b[39m",
      "\u001b[31mKeyError\u001b[39m                                  Traceback (most recent call last)",
      "\u001b[36mCell\u001b[39m\u001b[36m \u001b[39m\u001b[32mIn[110]\u001b[39m\u001b[32m, line 7\u001b[39m\n\u001b[32m      3\u001b[39m user_info.popitem()\n\u001b[32m      5\u001b[39m user_info.popitem()\n\u001b[32m----> \u001b[39m\u001b[32m7\u001b[39m \u001b[43muser_info\u001b[49m\u001b[43m.\u001b[49m\u001b[43mpopitem\u001b[49m\u001b[43m(\u001b[49m\u001b[43m)\u001b[49m\n",
      "\u001b[31mKeyError\u001b[39m: 'popitem(): dictionary is empty'"
     ]
    }
   ],
   "source": [
    "user_info = {\"email\": \"sdfgsdgskdjfg@gmail.com\", \"phone_number\": \"+999999999\"}\n",
    "\n",
    "user_info.popitem()\n",
    "\n",
    "user_info.popitem()\n",
    "\n",
    "# if you use popitem() with a empty dict then you will get an error\n",
    "user_info.popitem()\n",
    "\n"
   ]
  },
  {
   "cell_type": "markdown",
   "id": "8bceebff",
   "metadata": {},
   "source": [
    "### Update\n",
    "use update to add or change your dictionary"
   ]
  },
  {
   "cell_type": "code",
   "execution_count": 113,
   "id": "31d05f55",
   "metadata": {},
   "outputs": [
    {
     "data": {
      "text/plain": [
       "{'email': 'sdfgsdgskdjfg@gmail.com',\n",
       " 'phone_number': '+999999999',\n",
       " 'name': 'Anna',\n",
       " 'address': 'Tashkent',\n",
       " 'age': 25}"
      ]
     },
     "execution_count": 113,
     "metadata": {},
     "output_type": "execute_result"
    }
   ],
   "source": [
    "user_info = {\"email\": \"sdfgsdgskdjfg@gmail.com\", \"phone_number\": \"+999999999\"}\n",
    "\n",
    "user_info.update([(\"name\", \"Anna\"), (\"address\", \"Tashkent\"), (\"age\", 25)])\n",
    "\n",
    "user_info"
   ]
  },
  {
   "cell_type": "markdown",
   "id": "1a52f0da",
   "metadata": {},
   "source": [
    "### Edit Existing key value\n",
    "\n",
    "assign a new value after calling the key"
   ]
  },
  {
   "cell_type": "code",
   "execution_count": 115,
   "id": "9096a06c",
   "metadata": {},
   "outputs": [
    {
     "data": {
      "text/plain": [
       "{'email': 'anna25tash@gmail.com',\n",
       " 'phone_number': '+999999999',\n",
       " 'name': 'Anna',\n",
       " 'address': 'Tashkent',\n",
       " 'age': 25}"
      ]
     },
     "execution_count": 115,
     "metadata": {},
     "output_type": "execute_result"
    }
   ],
   "source": [
    "user_info['email'] = 'anna25tash@gmail.com'\n",
    "\n",
    "user_info"
   ]
  },
  {
   "cell_type": "markdown",
   "id": "98ee5566",
   "metadata": {},
   "source": [
    "### pop\n",
    "pop(key_name), removes the value of the given key\n"
   ]
  },
  {
   "cell_type": "code",
   "execution_count": 121,
   "id": "a177811d",
   "metadata": {},
   "outputs": [
    {
     "data": {
      "text/plain": [
       "'key not found'"
      ]
     },
     "execution_count": 121,
     "metadata": {},
     "output_type": "execute_result"
    }
   ],
   "source": [
    "user_info.pop('age', \"key not found\")"
   ]
  },
  {
   "cell_type": "code",
   "execution_count": 127,
   "id": "55cf94e2",
   "metadata": {},
   "outputs": [
    {
     "data": {
      "text/plain": [
       "{'email': 'anna25tash@gmail.com',\n",
       " 'phone_number': '+999999999',\n",
       " 'name': 'Anna',\n",
       " 'address': 'Tashkent'}"
      ]
     },
     "execution_count": 127,
     "metadata": {},
     "output_type": "execute_result"
    }
   ],
   "source": [
    "user_info"
   ]
  },
  {
   "cell_type": "markdown",
   "id": "3b60fabb",
   "metadata": {},
   "source": [
    "# Sets\n",
    "set is a python data type\n",
    "\n",
    "set is \"unordered collection of distinct object\"\n",
    "\n",
    "iterable\n",
    "immputable"
   ]
  },
  {
   "cell_type": "code",
   "execution_count": 140,
   "id": "f876e1f2",
   "metadata": {},
   "outputs": [
    {
     "data": {
      "text/plain": [
       "set"
      ]
     },
     "execution_count": 140,
     "metadata": {},
     "output_type": "execute_result"
    }
   ],
   "source": [
    "# list = [] - square brackets\n",
    "# tuple = () - paranthesis, brackets\n",
    "# dictionary {} - curly brackets\n",
    "# \" - double-quote\n",
    "# ' - single-quote\n",
    "\n",
    "## set = {}\n",
    "sdgsgdfg = {1, 3, 6, 9, 3, 8, 6}\n",
    "\n",
    "sdgsgdfg\n",
    "type(sdgsgdfg)\n",
    "# dictionary { key:value, key:value}"
   ]
  },
  {
   "cell_type": "code",
   "execution_count": 156,
   "id": "9003fb8f",
   "metadata": {},
   "outputs": [],
   "source": [
    "## do not create a var name the same as python code\n",
    "\n",
    "set = {}\n",
    "\n",
    "set\n",
    "\n",
    "del set"
   ]
  },
  {
   "cell_type": "code",
   "execution_count": 157,
   "id": "cafd1352",
   "metadata": {},
   "outputs": [
    {
     "data": {
      "text/plain": [
       "{'Akmal', 'Akobir', 'Fuzayl', 'Islombek', 'Oybek', 'Sanjar'}"
      ]
     },
     "execution_count": 157,
     "metadata": {},
     "output_type": "execute_result"
    }
   ],
   "source": [
    "my_list = [\"Sanjar\", \"Oybek\", \"Akobir\", \"Fuzayl\", \"Islombek\", \"Akobir\", 'Akmal']\n",
    "\n",
    "my_set = set(my_list)\n",
    "\n",
    "my_set\n"
   ]
  },
  {
   "cell_type": "code",
   "execution_count": 152,
   "id": "cdd6d62a",
   "metadata": {},
   "outputs": [],
   "source": [
    "list = [234,523,452,345]\n",
    "\n",
    "list\n",
    "del list"
   ]
  },
  {
   "cell_type": "code",
   "execution_count": 154,
   "id": "3aa0eb89",
   "metadata": {},
   "outputs": [
    {
     "data": {
      "text/plain": [
       "[2354, 234, 52, 345, 23, 452, 354, 234, 5234, 5]"
      ]
     },
     "execution_count": 154,
     "metadata": {},
     "output_type": "execute_result"
    }
   ],
   "source": [
    "my_tuple = (2354,234,52,345,23,452,354,234,5234,5)\n",
    "\n",
    "new_list = list(my_tuple)\n",
    "\n",
    "new_list"
   ]
  },
  {
   "cell_type": "markdown",
   "id": "9ac3bb72",
   "metadata": {},
   "source": [
    "### Acsessing\n",
    "acsessing by indexes are not possible"
   ]
  },
  {
   "cell_type": "code",
   "execution_count": null,
   "id": "f41306c2",
   "metadata": {},
   "outputs": [
    {
     "name": "stdout",
     "output_type": "stream",
     "text": [
      "Akmal\n",
      "Sanjar\n",
      "Islombek\n",
      "Fuzayl\n",
      "Akobir\n",
      "Oybek\n"
     ]
    }
   ],
   "source": [
    "for item in my_set:\n",
    "    print(item)\n",
    "\n",
    "# sets are unordered\n",
    "\n",
    "\n",
    "\n"
   ]
  },
  {
   "cell_type": "code",
   "execution_count": 163,
   "metadata": {},
   "outputs": [
    {
     "data": {
      "text/plain": [
       "'rajnaS'"
      ]
     },
     "execution_count": 163,
     "metadata": {},
     "output_type": "execute_result"
    }
   ],
   "source": [
    "name = 'Sanjar'\n",
    "\n",
    "name_2 = name[::-1]\n",
    "\n",
    "name_2\n"
   ]
  },
  {
   "cell_type": "markdown",
   "id": "5be80c64",
   "metadata": {},
   "source": [
    "### Adding Items"
   ]
  },
  {
   "cell_type": "code",
   "execution_count": 165,
   "id": "53e57ea7",
   "metadata": {},
   "outputs": [
    {
     "data": {
      "text/plain": [
       "{'Akmal', 'Akobir', 'Fuzayl', 'Islombek', 'Monitor', 'Oybek', 'Sanjar'}"
      ]
     },
     "execution_count": 165,
     "metadata": {},
     "output_type": "execute_result"
    }
   ],
   "source": [
    "my_set.add('Monitor')\n",
    "\n",
    "my_set"
   ]
  },
  {
   "cell_type": "code",
   "execution_count": 168,
   "id": "32891af3",
   "metadata": {},
   "outputs": [
    {
     "data": {
      "text/plain": [
       "{'Akmal',\n",
       " 'Akobir',\n",
       " 'Fuzayl',\n",
       " 'Habibulla',\n",
       " 'Humoyun',\n",
       " 'Islombek',\n",
       " 'M',\n",
       " 'Maab',\n",
       " 'Monitor',\n",
       " 'Oybek',\n",
       " 'Sanjar',\n",
       " 'Xudaybergan',\n",
       " 'a',\n",
       " 'b'}"
      ]
     },
     "execution_count": 168,
     "metadata": {},
     "output_type": "execute_result"
    }
   ],
   "source": [
    "my_set.update(['Maab', 'Xudaybergan', 'Habibulla', 'Humoyun'])\n",
    "\n",
    "my_set\n"
   ]
  },
  {
   "cell_type": "code",
   "execution_count": null,
   "id": "c9d968ec",
   "metadata": {},
   "outputs": [
    {
     "ename": "TypeError",
     "evalue": "'list' object is not callable",
     "output_type": "error",
     "traceback": [
      "\u001b[31m---------------------------------------------------------------------------\u001b[39m",
      "\u001b[31mTypeError\u001b[39m                                 Traceback (most recent call last)",
      "\u001b[36mCell\u001b[39m\u001b[36m \u001b[39m\u001b[32mIn[5]\u001b[39m\u001b[32m, line 2\u001b[39m\n\u001b[32m      1\u001b[39m name = \u001b[33m'\u001b[39m\u001b[33mkhumoyun\u001b[39m\u001b[33m'\u001b[39m\n\u001b[32m----> \u001b[39m\u001b[32m2\u001b[39m \u001b[38;5;28mlist\u001b[39m = \u001b[38;5;28;43mlist\u001b[39;49m\u001b[43m(\u001b[49m\u001b[43mname\u001b[49m\u001b[43m)\u001b[49m\n\u001b[32m      3\u001b[39m sett = \u001b[38;5;28mset\u001b[39m(\u001b[38;5;28mlist\u001b[39m)\n\u001b[32m      4\u001b[39m sett.discard(\u001b[33m'\u001b[39m\u001b[33mk\u001b[39m\u001b[33m'\u001b[39m)\n",
      "\u001b[31mTypeError\u001b[39m: 'list' object is not callable"
     ]
    }
   ],
   "source": [
    "name = 'khumoyun'\n",
    "list = list(name)\n",
    "sett = set(list)\n",
    "sett.discard('k') # discard deletes the element and does not give error while remove gives error"
   ]
  },
  {
   "cell_type": "markdown",
   "id": "9063482a",
   "metadata": {},
   "source": [
    "union"
   ]
  },
  {
   "cell_type": "code",
   "execution_count": 8,
   "id": "38266224",
   "metadata": {},
   "outputs": [
    {
     "data": {
      "text/plain": [
       "{' ', 'D', 'H', 'M', 'a', 'd', 'e', 'i', 'l', 'o', 'r', 's'}"
      ]
     },
     "execution_count": 8,
     "metadata": {},
     "output_type": "execute_result"
    }
   ],
   "source": [
    "first_set = set(list('Hello Dears'))\n",
    "second_set = set(list('Hala Madrid'))\n",
    "first_set.union(second_set)\n"
   ]
  },
  {
   "cell_type": "markdown",
   "id": "63daaedb",
   "metadata": {},
   "source": [
    "intersect"
   ]
  },
  {
   "cell_type": "code",
   "execution_count": 10,
   "id": "5c81eb0a",
   "metadata": {},
   "outputs": [
    {
     "data": {
      "text/plain": [
       "{' ', 'H', 'a', 'l', 'r'}"
      ]
     },
     "execution_count": 10,
     "metadata": {},
     "output_type": "execute_result"
    }
   ],
   "source": [
    "first_set = set(list('Hello Dears'))\n",
    "second_set = set(list('Hala Madrid'))\n",
    "new_set = first_set.intersection(second_set)\n",
    "new_set"
   ]
  },
  {
   "cell_type": "markdown",
   "id": "88333a5a",
   "metadata": {},
   "source": [
    "DIFFERENCE"
   ]
  },
  {
   "cell_type": "code",
   "execution_count": 12,
   "id": "6734a4b0",
   "metadata": {},
   "outputs": [
    {
     "data": {
      "text/plain": [
       "{'D', 'e', 'o', 's'}"
      ]
     },
     "execution_count": 12,
     "metadata": {},
     "output_type": "execute_result"
    }
   ],
   "source": [
    "first_set = set(list('Hello Dears'))\n",
    "second_set = set(list('Hala Madrid'))\n",
    "newest = first_set.difference(second_set)\n",
    "newest"
   ]
  }
 ],
 "metadata": {
  "kernelspec": {
   "display_name": "Python 3",
   "language": "python",
   "name": "python3"
  },
  "language_info": {
   "codemirror_mode": {
    "name": "ipython",
    "version": 3
   },
   "file_extension": ".py",
   "mimetype": "text/x-python",
   "name": "python",
   "nbconvert_exporter": "python",
   "pygments_lexer": "ipython3",
   "version": "3.13.3"
  }
 },
 "nbformat": 4,
 "nbformat_minor": 5
}

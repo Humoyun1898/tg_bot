{
 "cells": [
  {
   "cell_type": "markdown",
   "id": "855485a0",
   "metadata": {},
   "source": [
    "1.Given a side of square. Find its perimeter and area."
   ]
  },
  {
   "cell_type": "code",
   "execution_count": null,
   "id": "56207ce0",
   "metadata": {},
   "outputs": [],
   "source": [
    "a = float(input('Tell the side of the square'))\n",
    "P =4*a\n",
    "S =a**2\n",
    "print(P)\n",
    "print(S)"
   ]
  },
  {
   "cell_type": "markdown",
   "id": "0395ff54",
   "metadata": {},
   "source": [
    "2.Given diameter of circle. Find its length."
   ]
  },
  {
   "cell_type": "code",
   "execution_count": null,
   "id": "72be9b8b",
   "metadata": {},
   "outputs": [],
   "source": [
    "d = float(input('Tell me the diameter of the circle'))\n",
    "R = d/2 \n",
    "П = 3,14\n",
    "C = 2*П*R\n",
    "print(C)"
   ]
  },
  {
   "cell_type": "markdown",
   "id": "387e743d",
   "metadata": {},
   "source": [
    "3.Given two numbers a and b. Find their mean."
   ]
  },
  {
   "cell_type": "code",
   "execution_count": null,
   "id": "4819ed22",
   "metadata": {},
   "outputs": [],
   "source": [
    "a = float(input('Give me the first number'))\n",
    "b = float(input('Give me the second number'))\n",
    "mean = (a+b)/2\n",
    "print(mean)"
   ]
  },
  {
   "cell_type": "markdown",
   "id": "342bae23",
   "metadata": {},
   "source": [
    "4.Given two numbers a and b. Find their sum, product and square of each number."
   ]
  },
  {
   "cell_type": "code",
   "execution_count": null,
   "id": "5fe92313",
   "metadata": {},
   "outputs": [],
   "source": [
    "a = float(input('Give me the first number'))\n",
    "b = float(input('Give me the second number'))\n",
    "sum = a+b\n",
    "product = a*b\n",
    "square_of_a = a**2\n",
    "square_of_b = b**2\n",
    "print(sum)\n",
    "print(product)\n",
    "print(square_of_a)\n",
    "print(square_of_b)\n"
   ]
  }
 ],
 "metadata": {
  "kernelspec": {
   "display_name": "Python 3",
   "language": "python",
   "name": "python3"
  },
  "language_info": {
   "codemirror_mode": {
    "name": "ipython",
    "version": 3
   },
   "file_extension": ".py",
   "mimetype": "text/x-python",
   "name": "python",
   "nbconvert_exporter": "python",
   "pygments_lexer": "ipython3",
   "version": "3.13.3"
  }
 },
 "nbformat": 4,
 "nbformat_minor": 5
}

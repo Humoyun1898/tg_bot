{
 "cells": [
  {
   "cell_type": "markdown",
   "id": "e9029202",
   "metadata": {},
   "source": [
    "1. Given a string txt, insert an underscore (_) after every third character. If a character is a vowel or already has an underscore after it, shift the underscore placement to the next character. No underscore should be added at the end."
   ]
  },
  {
   "cell_type": "code",
   "execution_count": null,
   "id": "f30a5e31",
   "metadata": {},
   "outputs": [],
   "source": [
    "string = input('Give me some word')\n",
    "vowels = 'aeiouAEIOU'\n",
    "new_list = []\n",
    "count = 0\n",
    "i = 0\n",
    "\n",
    "while i < len(string):\n",
    "    new_list.append(string[i])\n",
    "    count += 1\n",
    "\n",
    "    if count == 3:\n",
    "        if i + 1 < len(string):\n",
    "            if string[i] in vowels or string[i+1] == '_':\n",
    "                new_list.append(string[i+1])\n",
    "                new_list.append('_')\n",
    "                i+=1\n",
    "            else:\n",
    "                new_list.append('_')\n",
    "        count = 0\n",
    "    i +=1\n",
    "\n",
    "    if string[-1] == '_':\n",
    "        string[-1].pop\n",
    "\n",
    "final_result = ''.join(new_list)\n",
    "print(final_result)"
   ]
  },
  {
   "cell_type": "markdown",
   "id": "c519b443",
   "metadata": {},
   "source": [
    "2.The provided code stub reads an integer, n, from STDIN. For all non-negative integers i where 0 <= i < n, print i^2.\n",
    "\n"
   ]
  },
  {
   "cell_type": "code",
   "execution_count": null,
   "id": "bbb77e8e",
   "metadata": {},
   "outputs": [],
   "source": [
    "number = int(input('Enter a number: '))\n",
    "argument = 0\n",
    "\n",
    "if number >= 0:\n",
    "    while argument < number:\n",
    "        new_number = argument **2\n",
    "        print(new_number)\n",
    "        argument += 1"
   ]
  },
  {
   "cell_type": "markdown",
   "id": "8c62ce99",
   "metadata": {},
   "source": [
    "3. Loop-Based Exercises\n",
    "Exercise 1: Print first 10 natural numbers using a while loop\n"
   ]
  },
  {
   "cell_type": "code",
   "execution_count": 2,
   "id": "403ebe4c",
   "metadata": {},
   "outputs": [
    {
     "name": "stdout",
     "output_type": "stream",
     "text": [
      "1 \n",
      "1 2 \n",
      "1 2 3 \n",
      "1 2 3 4 \n",
      "1 2 3 4 5 \n"
     ]
    }
   ],
   "source": [
    "for i in range(1, 6):  \n",
    "    for j in range(1, i + 1): \n",
    "        print(j, end=' ')\n",
    "    print()\n",
    "    \n",
    "    "
   ]
  },
  {
   "cell_type": "markdown",
   "id": "2be8de96",
   "metadata": {},
   "source": [
    "Exercise 2: Print the following pattern"
   ]
  },
  {
   "cell_type": "markdown",
   "id": "eea11908",
   "metadata": {},
   "source": [
    "Exercise 3: Calculate sum of all numbers from 1 to a given number"
   ]
  },
  {
   "cell_type": "code",
   "execution_count": null,
   "id": "8e129f8f",
   "metadata": {},
   "outputs": [],
   "source": [
    "number = int(input('Enter the number: '))\n",
    "list = []\n",
    "n = 1\n",
    "while n <=  number:\n",
    "    list.append(n)\n",
    "    n += 1\n",
    "print(sum(list))\n"
   ]
  },
  {
   "cell_type": "markdown",
   "id": "551abf63",
   "metadata": {},
   "source": [
    "Exercise 4: Print multiplication table of a given number"
   ]
  },
  {
   "cell_type": "code",
   "execution_count": null,
   "id": "84647c23",
   "metadata": {},
   "outputs": [],
   "source": [
    "number = int(input('Enter the number: '))\n",
    "n = 1\n",
    "while n <= number:\n",
    "    print(n*2)\n",
    "    n+=1"
   ]
  },
  {
   "cell_type": "markdown",
   "id": "62a4dc24",
   "metadata": {},
   "source": [
    "Exercise 5: Display numbers from a list using a loop"
   ]
  },
  {
   "cell_type": "code",
   "execution_count": null,
   "id": "a4aa95a8",
   "metadata": {},
   "outputs": [],
   "source": [
    "numbers = [12, 75, 150, 180, 145, 525, 50]\n",
    "for x in numbers:\n",
    "    if x in [75,150,145]:\n",
    "        print(x)"
   ]
  },
  {
   "cell_type": "markdown",
   "id": "835a8856",
   "metadata": {},
   "source": [
    "Exercise 6: Count the total number of digits in a number"
   ]
  },
  {
   "cell_type": "code",
   "execution_count": null,
   "id": "9afb2864",
   "metadata": {},
   "outputs": [],
   "source": [
    "number = input('Please, enter the number: ')\n",
    "count=0\n",
    "for i in number:\n",
    "    count +=1\n",
    "print(count)\n"
   ]
  },
  {
   "cell_type": "markdown",
   "id": "e6bcafb5",
   "metadata": {},
   "source": [
    "Exercise 7: Print reverse number pattern"
   ]
  },
  {
   "cell_type": "code",
   "execution_count": null,
   "id": "e56e0d24",
   "metadata": {},
   "outputs": [],
   "source": [
    "number = int(input('Please, enter the number: '))\n",
    "\n",
    "for i in range(number,0,-1):\n",
    "    for j in range(i,0,-1):\n",
    "        print(j,end = ' ')\n",
    "    print()"
   ]
  },
  {
   "cell_type": "markdown",
   "id": "ab7902e3",
   "metadata": {},
   "source": [
    "Exercise 8: Print list in reverse order using a loop\n"
   ]
  },
  {
   "cell_type": "code",
   "execution_count": 1,
   "id": "85c03a41",
   "metadata": {},
   "outputs": [
    {
     "name": "stdout",
     "output_type": "stream",
     "text": [
      "50\n",
      "40\n",
      "30\n",
      "20\n",
      "10\n"
     ]
    }
   ],
   "source": [
    "list1 = [10, 20, 30, 40, 50]\n",
    "\n",
    "for x in list1[::-1]:\n",
    "    print(x)\n"
   ]
  },
  {
   "cell_type": "markdown",
   "id": "0ef322e7",
   "metadata": {},
   "source": [
    "Exercise 9: Display numbers from -10 to -1 using a for loop\n"
   ]
  },
  {
   "cell_type": "code",
   "execution_count": 2,
   "id": "59e99a66",
   "metadata": {},
   "outputs": [
    {
     "name": "stdout",
     "output_type": "stream",
     "text": [
      "-10\n",
      "-9\n",
      "-8\n",
      "-7\n",
      "-6\n",
      "-5\n",
      "-4\n",
      "-3\n",
      "-2\n",
      "-1\n"
     ]
    }
   ],
   "source": [
    "for i in range(-10,0):\n",
    "    print(i)\n"
   ]
  },
  {
   "cell_type": "markdown",
   "id": "3a93d09f",
   "metadata": {},
   "source": [
    "Exercise 10: Display message “Done” after successful loop execution\n"
   ]
  },
  {
   "cell_type": "code",
   "execution_count": null,
   "id": "faf421ec",
   "metadata": {},
   "outputs": [],
   "source": [
    "number = int(input('Please, enter the number: '))\n",
    "\n",
    "for i in range(0,number+1):\n",
    "    if i == number:\n",
    "        print(i)\n",
    "        print('Done')\n",
    "    else:\n",
    "        print(i)"
   ]
  },
  {
   "cell_type": "markdown",
   "id": "e75cc6bd",
   "metadata": {},
   "source": [
    "Exercise 11: Print all prime numbers within a range\n"
   ]
  },
  {
   "cell_type": "code",
   "execution_count": null,
   "id": "2237ab88",
   "metadata": {},
   "outputs": [],
   "source": [
    "number = int(input('Please, enter the number: '))\n",
    "\n",
    "prime_number = True\n",
    "if number >= 1:\n",
    "    for i in range (2,int(number**0.5) + 1):\n",
    "        if number % i == 0:\n",
    "            prime_number = False\n",
    "            break\n",
    "\n",
    "else:\n",
    "    prime_number = False\n",
    "\n",
    "if prime_number == True:\n",
    "    print('This is prime number')\n",
    "else:\n",
    "    print('This is not prime number')\n"
   ]
  },
  {
   "cell_type": "markdown",
   "id": "6cfafad6",
   "metadata": {},
   "source": [
    "Exercise 12: Display Fibonacci series up to 10 terms\n"
   ]
  },
  {
   "cell_type": "code",
   "execution_count": 3,
   "id": "85cb543b",
   "metadata": {},
   "outputs": [
    {
     "name": "stdout",
     "output_type": "stream",
     "text": [
      "0 1 1 2 3 5 8 13 21 34 "
     ]
    }
   ],
   "source": [
    "times = 10\n",
    "\n",
    "a = 0\n",
    "b = 1\n",
    "for i in range(times):\n",
    "    print(a, end=' ')\n",
    "    temp = a\n",
    "    a = b\n",
    "    b = temp + b\n"
   ]
  },
  {
   "cell_type": "markdown",
   "id": "39c731a8",
   "metadata": {},
   "source": [
    "Exercise 13: Find the factorial of a given number\n"
   ]
  },
  {
   "cell_type": "code",
   "execution_count": null,
   "id": "1352c53b",
   "metadata": {},
   "outputs": [],
   "source": [
    "number = int(input('Enter the number: '))\n",
    "i = 1\n",
    "factorial = i\n",
    "while i <= number:\n",
    "    factorial *= i\n",
    "    i+=1\n",
    "print(factorial)\n"
   ]
  },
  {
   "cell_type": "markdown",
   "id": "9a567b5e",
   "metadata": {},
   "source": [
    "4. Return Uncommon Elements of Lists\n"
   ]
  },
  {
   "cell_type": "code",
   "execution_count": 1,
   "id": "68fc2741",
   "metadata": {},
   "outputs": [
    {
     "name": "stdout",
     "output_type": "stream",
     "text": [
      "[1, 1, 2, 4, 5]\n"
     ]
    }
   ],
   "source": [
    "list1 = [1,1,2,3]\n",
    "list2 = [3,4,5]\n",
    "new_list = []\n",
    "for x in list1:\n",
    "    if x not in list2:\n",
    "        new_list.append(x)\n",
    "\n",
    "for y in list2:\n",
    "    if y not in list1:\n",
    "        new_list.append(y)\n",
    "print(new_list)"
   ]
  }
 ],
 "metadata": {
  "kernelspec": {
   "display_name": "Python 3",
   "language": "python",
   "name": "python3"
  },
  "language_info": {
   "codemirror_mode": {
    "name": "ipython",
    "version": 3
   },
   "file_extension": ".py",
   "mimetype": "text/x-python",
   "name": "python",
   "nbconvert_exporter": "python",
   "pygments_lexer": "ipython3",
   "version": "3.13.3"
  }
 },
 "nbformat": 4,
 "nbformat_minor": 5
}

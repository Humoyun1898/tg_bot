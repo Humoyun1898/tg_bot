{
 "cells": [
  {
   "cell_type": "markdown",
   "id": "09b88271",
   "metadata": {},
   "source": [
    "LESSON-8"
   ]
  },
  {
   "cell_type": "markdown",
   "id": "6e757dca",
   "metadata": {},
   "source": [
    "### POSITIONAL ONLY ARGUMENTS"
   ]
  },
  {
   "cell_type": "markdown",
   "id": "23aa75af",
   "metadata": {},
   "source": [
    "def func_name([positional only params],/,[positional or keyword params],*,[keyword only params])\n"
   ]
  },
  {
   "cell_type": "code",
   "execution_count": 2,
   "id": "3c1cdee7",
   "metadata": {},
   "outputs": [
    {
     "name": "stdout",
     "output_type": "stream",
     "text": [
      "Hello,your name is Anna, you are 25 years old. You are from Paris and the zipcode is 100010.You are Single\n",
      "Hello,your name is Anna, you are 25 years old. You are from Paris and the zipcode is 100010.You are Single\n"
     ]
    }
   ],
   "source": [
    "def my_funct (name,age,/,city,zipcode,*,marital_status):\n",
    "    print(f'Hello,your name is {name}, you are {age} years old. You are from {city} and the zipcode is {zipcode}.You are {marital_status}')\n",
    "my_funct('Anna',25,'Paris','100010', marital_status='Single')\n",
    "my_funct('Anna',25,zipcode='100010',city='Paris', marital_status='Single')"
   ]
  },
  {
   "cell_type": "markdown",
   "id": "c6df69e5",
   "metadata": {},
   "source": [
    "#### SCOPE"
   ]
  },
  {
   "cell_type": "code",
   "execution_count": 3,
   "id": "7600f45c",
   "metadata": {},
   "outputs": [
    {
     "ename": "TypeError",
     "evalue": "welcome() missing 1 required positional argument: 'name'",
     "output_type": "error",
     "traceback": [
      "\u001b[31m---------------------------------------------------------------------------\u001b[39m",
      "\u001b[31mTypeError\u001b[39m                                 Traceback (most recent call last)",
      "\u001b[36mCell\u001b[39m\u001b[36m \u001b[39m\u001b[32mIn[3]\u001b[39m\u001b[32m, line 4\u001b[39m\n\u001b[32m      2\u001b[39m \u001b[38;5;28;01mdef\u001b[39;00m\u001b[38;5;250m \u001b[39m\u001b[34mwelcome\u001b[39m(name):\n\u001b[32m      3\u001b[39m     \u001b[38;5;28mprint\u001b[39m(\u001b[33mf\u001b[39m\u001b[33m'\u001b[39m\u001b[33mHello name\u001b[39m\u001b[33m'\u001b[39m)\n\u001b[32m----> \u001b[39m\u001b[32m4\u001b[39m \u001b[43mwelcome\u001b[49m\u001b[43m(\u001b[49m\u001b[43m)\u001b[49m\n",
      "\u001b[31mTypeError\u001b[39m: welcome() missing 1 required positional argument: 'name'"
     ]
    }
   ],
   "source": [
    "name = 'John'\n",
    "def welcome(name):\n",
    "    print(f'Hello name')\n",
    "welcome()"
   ]
  },
  {
   "cell_type": "code",
   "execution_count": 4,
   "id": "130f3957",
   "metadata": {},
   "outputs": [
    {
     "name": "stdout",
     "output_type": "stream",
     "text": [
      "10\n"
     ]
    }
   ],
   "source": [
    "num = 10\n",
    "def my_num(my_num):\n",
    "    my_num = num\n",
    "    print(my_num)\n",
    "my_num(15)\n"
   ]
  },
  {
   "cell_type": "code",
   "execution_count": 6,
   "id": "15a99a3b",
   "metadata": {},
   "outputs": [
    {
     "ename": "NameError",
     "evalue": "name 'a' is not defined",
     "output_type": "error",
     "traceback": [
      "\u001b[31m---------------------------------------------------------------------------\u001b[39m",
      "\u001b[31mNameError\u001b[39m                                 Traceback (most recent call last)",
      "\u001b[36mCell\u001b[39m\u001b[36m \u001b[39m\u001b[32mIn[6]\u001b[39m\u001b[32m, line 9\u001b[39m\n\u001b[32m      7\u001b[39m     c = \u001b[32m20\u001b[39m\n\u001b[32m      8\u001b[39m     \u001b[38;5;28;01mreturn\u001b[39;00m c - a\n\u001b[32m----> \u001b[39m\u001b[32m9\u001b[39m \u001b[43msubtract\u001b[49m\u001b[43m(\u001b[49m\u001b[43m)\u001b[49m\n",
      "\u001b[36mCell\u001b[39m\u001b[36m \u001b[39m\u001b[32mIn[6]\u001b[39m\u001b[32m, line 8\u001b[39m, in \u001b[36msubtract\u001b[39m\u001b[34m()\u001b[39m\n\u001b[32m      6\u001b[39m \u001b[38;5;28;01mdef\u001b[39;00m\u001b[38;5;250m \u001b[39m\u001b[34msubtract\u001b[39m():\n\u001b[32m      7\u001b[39m     c = \u001b[32m20\u001b[39m\n\u001b[32m----> \u001b[39m\u001b[32m8\u001b[39m     \u001b[38;5;28;01mreturn\u001b[39;00m c - \u001b[43ma\u001b[49m\n",
      "\u001b[31mNameError\u001b[39m: name 'a' is not defined"
     ]
    }
   ],
   "source": [
    "def add():\n",
    "    a = 10\n",
    "    b = 8\n",
    "    return a + b\n",
    "\n",
    "def subtract():\n",
    "    c = 20\n",
    "    return c - a\n",
    "subtract()\n"
   ]
  },
  {
   "cell_type": "code",
   "execution_count": 12,
   "id": "6928694e",
   "metadata": {},
   "outputs": [
    {
     "data": {
      "text/plain": [
       "-30"
      ]
     },
     "execution_count": 12,
     "metadata": {},
     "output_type": "execute_result"
    }
   ],
   "source": [
    "a = 50\n",
    "def add():\n",
    "    global a\n",
    "    a = 1\n",
    "    b = 8\n",
    "    return a + b\n",
    "\n",
    "def subtract():\n",
    "    c = 20\n",
    "    return c - a\n",
    "subtract()"
   ]
  },
  {
   "cell_type": "code",
   "execution_count": 14,
   "id": "08b142f9",
   "metadata": {},
   "outputs": [
    {
     "name": "stdout",
     "output_type": "stream",
     "text": [
      "Your name is John\n"
     ]
    }
   ],
   "source": [
    "name = 'John'\n",
    "def my_name():\n",
    "    global name\n",
    "    print(f'Your name is {name}')\n",
    "my_name()\n",
    "    "
   ]
  },
  {
   "cell_type": "markdown",
   "id": "f357dbbf",
   "metadata": {},
   "source": [
    "### RECURSIVE"
   ]
  },
  {
   "cell_type": "code",
   "execution_count": 18,
   "id": "4a708e46",
   "metadata": {},
   "outputs": [
    {
     "data": {
      "text/plain": [
       "120"
      ]
     },
     "execution_count": 18,
     "metadata": {},
     "output_type": "execute_result"
    }
   ],
   "source": [
    "def factorial(n):\n",
    "    if n == 1 or n == 0:\n",
    "        return 1\n",
    "    else:\n",
    "        return (n*factorial(n-1))\n",
    "factorial(5)"
   ]
  },
  {
   "cell_type": "markdown",
   "id": "26fe55e7",
   "metadata": {},
   "source": [
    "### lambda functions\n",
    "we create lambda istead of def to create lambda functions\n",
    "### lambda args: code"
   ]
  },
  {
   "cell_type": "code",
   "execution_count": 20,
   "id": "64aa59f0",
   "metadata": {},
   "outputs": [
    {
     "name": "stdout",
     "output_type": "stream",
     "text": [
      "Hello World\n"
     ]
    }
   ],
   "source": [
    "welcome = lambda:print('Hello World')\n",
    "welcome()"
   ]
  },
  {
   "cell_type": "code",
   "execution_count": 22,
   "id": "f9561ade",
   "metadata": {},
   "outputs": [
    {
     "name": "stdout",
     "output_type": "stream",
     "text": [
      "Hello John\n"
     ]
    }
   ],
   "source": [
    "greet_user = lambda name:print(f'Hello {name}')\n",
    "greet_user('John')"
   ]
  },
  {
   "cell_type": "code",
   "execution_count": 23,
   "id": "d952c70f",
   "metadata": {},
   "outputs": [
    {
     "name": "stdout",
     "output_type": "stream",
     "text": [
      "5\n"
     ]
    }
   ],
   "source": [
    "x = lambda y: print(y)\n",
    "x(5)"
   ]
  },
  {
   "cell_type": "code",
   "execution_count": null,
   "id": "689582b8",
   "metadata": {},
   "outputs": [
    {
     "name": "stdout",
     "output_type": "stream",
     "text": [
      "4\n"
     ]
    }
   ],
   "source": [
    "square = lambda x : x**2\n",
    "print(square(2))"
   ]
  },
  {
   "cell_type": "markdown",
   "id": "6b57acb0",
   "metadata": {},
   "source": [
    "### EXCEPTION HANDLING\n",
    "### CTRL + ALT\n",
    "if error occurs, it goes to the except"
   ]
  },
  {
   "cell_type": "code",
   "execution_count": null,
   "id": "4e65f4b4",
   "metadata": {},
   "outputs": [],
   "source": [
    "#type error\n",
    "try:\n",
    "    print('John'+5)\n",
    "except:\n",
    "    print('An error occured')"
   ]
  },
  {
   "cell_type": "code",
   "execution_count": null,
   "id": "6c3e5002",
   "metadata": {},
   "outputs": [],
   "source": [
    "#value error\n",
    "try:\n",
    "    age = int(input('Enter an integer: '))\n",
    "except:\n",
    "    print('An error occured')"
   ]
  },
  {
   "cell_type": "code",
   "execution_count": null,
   "id": "8e6e0164",
   "metadata": {},
   "outputs": [],
   "source": [
    "try:\n",
    "    age = int (input('Enter your age: '))\n",
    "except ValueError:#you can specify the error type and the output that you want to get from it\n",
    "    print('You have not entered an integer')\n"
   ]
  },
  {
   "cell_type": "code",
   "execution_count": null,
   "id": "f5d78abb",
   "metadata": {},
   "outputs": [],
   "source": [
    "try:\n",
    "    age = int (input('Enter your age: '))\n",
    "    print(age)\n",
    "    name = 'Michael'\n",
    "    city = 'Paris'\n",
    "except ValueError:#you can specify the error type and the output that you want to get from it\n",
    "    print('You have not entered an integer')\n",
    "except TypeError:\n",
    "    print('Type error occured')"
   ]
  },
  {
   "cell_type": "code",
   "execution_count": null,
   "id": "22a59ce9",
   "metadata": {},
   "outputs": [],
   "source": [
    "try:\n",
    "    age = int (input('Enter your age: '))\n",
    "    print(age)\n",
    "    name = 'Michael'\n",
    "    city = 'Paris'\n",
    "except (ValueError,TypeError):#you can specify SEVERAL  error types and the output that you want to get from them\n",
    "    print('You have not entered an integer')"
   ]
  },
  {
   "cell_type": "code",
   "execution_count": null,
   "id": "e1c1b14e",
   "metadata": {},
   "outputs": [],
   "source": [
    "max_limit = 5\n",
    "if max_limit == 5:\n",
    "    raise ValueError"
   ]
  },
  {
   "cell_type": "code",
   "execution_count": null,
   "id": "d856811f",
   "metadata": {},
   "outputs": [],
   "source": [
    "max_limit = 5\n",
    "if max_limit == 5:\n",
    "    raise ValueError('Max limit has reached')"
   ]
  },
  {
   "cell_type": "code",
   "execution_count": null,
   "id": "eaf411f9",
   "metadata": {},
   "outputs": [],
   "source": [
    "try:\n",
    "    age = int (input('Enter your age: '))\n",
    "    print(age)\n",
    "    name = 'Michael'\n",
    "    city = 'Paris'\n",
    "except (ValueError,TypeError):\n",
    "    print('You have not entered an integer')\n",
    "finally:\n",
    "    print('The code is completed with or without error')"
   ]
  },
  {
   "cell_type": "code",
   "execution_count": null,
   "id": "b61330c4",
   "metadata": {},
   "outputs": [],
   "source": [
    "try:\n",
    "    age = int (input('Enter your age: '))\n",
    "    print(age)\n",
    "    name = 'Michael'\n",
    "    city = 'Paris'\n",
    "except (ValueError,TypeError):\n",
    "    print('You have not entered an integer')\n",
    "except NameError:\n",
    "    print('Name error')\n",
    "else:\n",
    "    print('Your code is completed with no errors')\n",
    "    "
   ]
  },
  {
   "cell_type": "code",
   "execution_count": null,
   "id": "69f1212a",
   "metadata": {},
   "outputs": [],
   "source": []
  }
 ],
 "metadata": {
  "kernelspec": {
   "display_name": "Python 3",
   "language": "python",
   "name": "python3"
  },
  "language_info": {
   "codemirror_mode": {
    "name": "ipython",
    "version": 3
   },
   "file_extension": ".py",
   "mimetype": "text/x-python",
   "name": "python",
   "nbconvert_exporter": "python",
   "pygments_lexer": "ipython3",
   "version": "3.13.3"
  }
 },
 "nbformat": 4,
 "nbformat_minor": 5
}

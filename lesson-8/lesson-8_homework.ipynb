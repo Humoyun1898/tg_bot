{
 "cells": [
  {
   "cell_type": "markdown",
   "id": "ce65bc42",
   "metadata": {},
   "source": [
    "1.Write a Python program to handle a ZeroDivisionError exception when dividing a number by zero.\n",
    "\n"
   ]
  },
  {
   "cell_type": "code",
   "execution_count": 1,
   "id": "d538dd2e",
   "metadata": {},
   "outputs": [
    {
     "name": "stdout",
     "output_type": "stream",
     "text": [
      "Devision by 0 is not allowed\n"
     ]
    }
   ],
   "source": [
    "def devider (a,b):\n",
    "    try:\n",
    "        result=a/b\n",
    "        return result\n",
    "    except ZeroDivisionError:\n",
    "        print ('Devision by 0 is not allowed')\n",
    "devider(5,0)"
   ]
  },
  {
   "cell_type": "markdown",
   "id": "eb221c20",
   "metadata": {},
   "source": [
    "2.Write a Python program that prompts the user to input an integer and raises a ValueError exception if the input is not a valid integer.\n",
    "\n"
   ]
  },
  {
   "cell_type": "code",
   "execution_count": 3,
   "id": "a9522609",
   "metadata": {},
   "outputs": [
    {
     "name": "stdout",
     "output_type": "stream",
     "text": [
      "You entered not an integer\n"
     ]
    }
   ],
   "source": [
    "try:\n",
    "    age = int(input('What is your age?'))\n",
    "    print(f'Your age is {age}')\n",
    "except ValueError:\n",
    "    print ('You entered not an integer')\n",
    "\n"
   ]
  },
  {
   "cell_type": "markdown",
   "id": "4ce0c350",
   "metadata": {},
   "source": [
    "3.Write a Python program that opens a file and handles a FileNotFoundError exception if the file does not exist."
   ]
  },
  {
   "cell_type": "code",
   "execution_count": 6,
   "id": "fc6ad7e6",
   "metadata": {},
   "outputs": [
    {
     "name": "stdout",
     "output_type": "stream",
     "text": [
      "File does not exist\n"
     ]
    }
   ],
   "source": [
    "try:\n",
    "    file = open('C:\\\\Asus\\\\OneDrive\\\\Desktop\\\\texty-y2.txt','r')\n",
    "except FileNotFoundError:\n",
    "    print('File does not exist')"
   ]
  },
  {
   "cell_type": "markdown",
   "id": "e54c16dc",
   "metadata": {},
   "source": [
    "4.Write a Python program that prompts the user to input two numbers and raises a TypeError exception if the inputs are not numerical.\n",
    "\n"
   ]
  },
  {
   "cell_type": "code",
   "execution_count": 10,
   "id": "7a2bbdf7",
   "metadata": {},
   "outputs": [
    {
     "name": "stdout",
     "output_type": "stream",
     "text": [
      "Inputs must be numerical\n"
     ]
    }
   ],
   "source": [
    "try:    \n",
    "    num1 = input(\"Enter the first number: \")\n",
    "    \n",
    "    num2 = input(\"Enter the second number: \")\n",
    "    \n",
    "    sum = int(num1) + (num2)\n",
    "\n",
    "    print (sum)\n",
    "\n",
    "except TypeError:\n",
    "    print('Inputs must be numerical')"
   ]
  },
  {
   "cell_type": "markdown",
   "id": "76686cfc",
   "metadata": {},
   "source": [
    "5.Write a Python program that opens a file and handles a PermissionError exception if there is a permission issue."
   ]
  },
  {
   "cell_type": "code",
   "execution_count": 13,
   "id": "59568f27",
   "metadata": {},
   "outputs": [],
   "source": [
    "try:\n",
    "    with open(\"C:\\\\Users\\\\Asus\\\\OneDrive\\\\Desktop\\\\text-2.txt\",'w') as f:\n",
    "        f.write ('Hello')\n",
    "except PermissionError:\n",
    "    print('You are not permitted to open this file')\n",
    "\n"
   ]
  },
  {
   "cell_type": "markdown",
   "id": "93242fa1",
   "metadata": {},
   "source": [
    "6.Write a Python program that executes an operation on a list and handles an IndexError exception if the index is out of range."
   ]
  },
  {
   "cell_type": "code",
   "execution_count": 15,
   "id": "eb5dbebb",
   "metadata": {},
   "outputs": [
    {
     "name": "stdout",
     "output_type": "stream",
     "text": [
      "Sorry, the index is out of range\n"
     ]
    }
   ],
   "source": [
    "try:\n",
    "    list = [1,2,3,4,56,67,8,76,4]\n",
    "    print(list[len(list)+1])\n",
    "except IndexError:\n",
    "    print('Sorry, the index is out of range')"
   ]
  },
  {
   "cell_type": "markdown",
   "id": "d314d085",
   "metadata": {},
   "source": [
    "7.Write a Python program that prompts the user to input a number and handles a KeyboardInterrupt exception if the user cancels the input.\n",
    "\n"
   ]
  },
  {
   "cell_type": "code",
   "execution_count": 19,
   "id": "ab220bfe",
   "metadata": {},
   "outputs": [
    {
     "name": "stdout",
     "output_type": "stream",
     "text": [
      "Error: That's not a valid number. Please try again.\n"
     ]
    }
   ],
   "source": [
    "try:\n",
    "    number = input(\"Please enter a number (or press Ctrl+C to cancel): \")\n",
    "    print(float(number))\n",
    "except ValueError:\n",
    "    print(\"Error: That's not a valid number. Please try again.\")\n",
    "except KeyboardInterrupt:\n",
    "    print(\"\\nInput was cancelled by the user.\")\n",
    "    "
   ]
  },
  {
   "cell_type": "markdown",
   "id": "829531c4",
   "metadata": {},
   "source": [
    "8.Write a Python program that executes division and handles an ArithmeticError exception if there is an arithmetic error."
   ]
  },
  {
   "cell_type": "code",
   "execution_count": 20,
   "id": "ec350a29",
   "metadata": {},
   "outputs": [
    {
     "name": "stdout",
     "output_type": "stream",
     "text": [
      "You cannot devide by 0\n"
     ]
    }
   ],
   "source": [
    "try:\n",
    "    делимое = int(input('Enter a number'))\n",
    "    делитель = int(input('Enter a делитель'))\n",
    "    result = делимое/делитель\n",
    "    print(result)\n",
    "except ArithmeticError:\n",
    "    print('You cannot devide by 0')\n",
    "\n"
   ]
  },
  {
   "cell_type": "markdown",
   "id": "a1986f4f",
   "metadata": {},
   "source": [
    "9.Write a Python program that opens a file and handles a UnicodeDecodeError exception if there is an encoding issue."
   ]
  },
  {
   "cell_type": "code",
   "execution_count": null,
   "id": "cd6b2437",
   "metadata": {},
   "outputs": [],
   "source": [
    "try:\n",
    "    with open(\"C:\\\\Users\\\\Asus\\\\OneDrive\\\\Desktop\\\\text-2.txt\",'w',encoding='utf-8') as f:\n",
    "        f.write ('Hello')\n",
    "except UnicodeDecodeError:\n",
    "    print('Failed to read with {encoding} encoding, trying next...')"
   ]
  },
  {
   "cell_type": "markdown",
   "id": "9d6ab5ac",
   "metadata": {},
   "source": [
    "10.Write a Python program that executes a list operation and handles an AttributeError exception if the attribute does not exist.\n",
    "\n"
   ]
  },
  {
   "cell_type": "code",
   "execution_count": 28,
   "id": "4b388797",
   "metadata": {},
   "outputs": [
    {
     "name": "stdout",
     "output_type": "stream",
     "text": [
      "There is an attribute error\n"
     ]
    }
   ],
   "source": [
    "try:\n",
    "    list = [1,2,35,6,7,9]\n",
    "    list.upper()\n",
    "except AttributeError:\n",
    "    print('There is an attribute error')"
   ]
  },
  {
   "cell_type": "markdown",
   "id": "3bb57335",
   "metadata": {},
   "source": [
    "1.Write a Python program to read an entire text file."
   ]
  },
  {
   "cell_type": "code",
   "execution_count": 30,
   "id": "91f8af80",
   "metadata": {},
   "outputs": [
    {
     "name": "stdout",
     "output_type": "stream",
     "text": [
      "Hello\n"
     ]
    }
   ],
   "source": [
    "with open(\"C:\\\\Users\\\\Asus\\\\OneDrive\\\\Desktop\\\\text-2.txt\", 'r') as file:\n",
    "    inside = file.read()\n",
    "    print(inside)"
   ]
  },
  {
   "cell_type": "markdown",
   "id": "6a197f44",
   "metadata": {},
   "source": [
    "2.Write a Python program to read first n lines of a file."
   ]
  },
  {
   "cell_type": "code",
   "execution_count": 37,
   "id": "4fd7dd61",
   "metadata": {},
   "outputs": [
    {
     "name": "stdout",
     "output_type": "stream",
     "text": [
      "Hello\n"
     ]
    }
   ],
   "source": [
    "\n",
    "n = int(input('how many lines you want'))\n",
    "with open(\"C:\\\\Users\\\\Asus\\\\OneDrive\\\\Desktop\\\\text-2.txt\", 'r') as file:\n",
    "    for i in range(n):\n",
    "        line = file.readline()\n",
    "        if not line:\n",
    "            break\n",
    "        print(line.strip())\n",
    "\n"
   ]
  },
  {
   "cell_type": "markdown",
   "id": "49db04d7",
   "metadata": {},
   "source": [
    "3.Write a Python program to append text to a file and display the text.\n",
    "\n"
   ]
  },
  {
   "cell_type": "code",
   "execution_count": null,
   "id": "7cdf752c",
   "metadata": {},
   "outputs": [],
   "source": [
    "def open_and_append (path_to_file,appended_text):\n",
    "    with open(path_to_file,'a') as file:\n",
    "        file.write(appended_text)\n",
    "file_path = input(\"write a file_path\")\n",
    "append_text = input(\"Enter a text\")\n",
    "open_and_append(file_path,append_text)"
   ]
  },
  {
   "cell_type": "markdown",
   "id": "6e22b6bc",
   "metadata": {},
   "source": [
    "4.Write a Python program to read last n lines of a file."
   ]
  },
  {
   "cell_type": "code",
   "execution_count": 39,
   "id": "859ce5c3",
   "metadata": {},
   "outputs": [
    {
     "name": "stdout",
     "output_type": "stream",
     "text": [
      "['Hello']\n"
     ]
    }
   ],
   "source": [
    "n = int(input('how many lines you want'))\n",
    "with open(\"C:\\\\Users\\\\Asus\\\\OneDrive\\\\Desktop\\\\text-2.txt\", 'r') as file:\n",
    "    lines = file.readlines()\n",
    "    for line in lines[-n:]:\n",
    "        print(line.split())\n",
    "            \n",
    "            "
   ]
  },
  {
   "cell_type": "markdown",
   "id": "f6510458",
   "metadata": {},
   "source": [
    "5,Write a Python program to read a file line by line and store it into a list."
   ]
  },
  {
   "cell_type": "code",
   "execution_count": 41,
   "id": "18e84923",
   "metadata": {},
   "outputs": [
    {
     "name": "stdout",
     "output_type": "stream",
     "text": [
      "['Hello']\n"
     ]
    }
   ],
   "source": [
    "list = []\n",
    "with open(\"C:\\\\Users\\\\Asus\\\\OneDrive\\\\Desktop\\\\text-2.txt\", 'r') as file:\n",
    "    lines = file.readlines()\n",
    "    print (lines)\n",
    "\n"
   ]
  },
  {
   "cell_type": "markdown",
   "id": "97a1125d",
   "metadata": {},
   "source": [
    "6.Write a Python program to read a file line by line and store it into a variable."
   ]
  },
  {
   "cell_type": "code",
   "execution_count": null,
   "id": "02b01644",
   "metadata": {},
   "outputs": [],
   "source": [
    "list = []\n",
    "with open(\"C:\\\\Users\\\\Asus\\\\OneDrive\\\\Desktop\\\\text-2.txt\", 'r') as file:\n",
    "    lines = file.readlines()\n",
    "    for line in lines:\n",
    "        list.append(line)\n",
    "\n",
    "print(list)"
   ]
  },
  {
   "cell_type": "markdown",
   "id": "ec40fff2",
   "metadata": {},
   "source": [
    "7.Write a Python program to read a file line by line and store it into an array."
   ]
  },
  {
   "cell_type": "code",
   "execution_count": null,
   "id": "e26fdd33",
   "metadata": {},
   "outputs": [
    {
     "name": "stdout",
     "output_type": "stream",
     "text": [
      "['Hello']\n"
     ]
    }
   ],
   "source": [
    "list = []\n",
    "with open(\"C:\\\\Users\\\\Asus\\\\OneDrive\\\\Desktop\\\\text-2.txt\", 'r') as file:\n",
    "    lines_array = [line.strip() for line in file]  \n",
    "    print(lines_array)"
   ]
  },
  {
   "cell_type": "markdown",
   "id": "7d8a8bdd",
   "metadata": {},
   "source": [
    "8.Write a Python program to find the longest words."
   ]
  },
  {
   "cell_type": "code",
   "execution_count": null,
   "id": "7a59f75c",
   "metadata": {},
   "outputs": [
    {
     "name": "stdout",
     "output_type": "stream",
     "text": [
      "[]\n"
     ]
    }
   ],
   "source": [
    "filee_path = input(\"Enter a file path\")\n",
    "with open(filee_path, 'r') as file:\n",
    "    text = file.read()\n",
    "    words = text.split()\n",
    "    max_length = [len(word) for word in words]\n",
    "    longest_word = [word for word in words if len(word)==max_length]\n",
    "print(longest_word)"
   ]
  },
  {
   "cell_type": "markdown",
   "id": "5d803457",
   "metadata": {},
   "source": [
    "9. Write a Python program to count the number of lines in a text file."
   ]
  },
  {
   "cell_type": "code",
   "execution_count": null,
   "id": "73375bb0",
   "metadata": {},
   "outputs": [
    {
     "name": "stdout",
     "output_type": "stream",
     "text": [
      "{'This': 1, 'is': 4, 'new': 2, 'line': 1, 'Hello': 2, 'this': 3, 'appended': 2, 'text': 1, 'texthello': 1, 'data': 1}\n",
      "This:1\n",
      "is:4\n",
      "new:2\n",
      "line:1\n",
      "Hello:2\n",
      "this:3\n",
      "appended:2\n",
      "text:1\n",
      "texthello:1\n",
      "data:1\n",
      "dict_items([('This', 1), ('is', 4), ('new', 2), ('line', 1), ('Hello', 2), ('this', 3), ('appended', 2), ('text', 1), ('texthello', 1), ('data', 1)])\n"
     ]
    }
   ],
   "source": [
    "with open (\"C:\\\\Users\\\\Asus\\\\Downloads\\\\Telegram Desktop\\\\test.txt\") as file:\n",
    "    lines =[1 for _ in file]\n",
    "    print(len(lines))\n"
   ]
  },
  {
   "cell_type": "markdown",
   "id": "c9080d78",
   "metadata": {},
   "source": [
    "10.Write a Python program to count the frequency of words in a file."
   ]
  },
  {
   "cell_type": "code",
   "execution_count": null,
   "id": "a608849c",
   "metadata": {},
   "outputs": [
    {
     "name": "stdout",
     "output_type": "stream",
     "text": [
      "13\n"
     ]
    }
   ],
   "source": [
    "\n",
    "frequency = {}\n",
    "with open (\"C:\\\\Users\\\\Asus\\\\Downloads\\\\Telegram Desktop\\\\test.txt\") as file:\n",
    "    text = file.read()\n",
    "    words = text.split()\n",
    "    for x in words:\n",
    "        if x in frequency:\n",
    "            frequency[x]+=1\n",
    "        else:\n",
    "            frequency[x] = 1\n",
    "print(frequency)\n",
    "for x, count in frequency.items():\n",
    "    print(f'{x}:{count}')\n",
    "\n",
    "print(frequency.items())\n"
   ]
  },
  {
   "cell_type": "markdown",
   "id": "39ae4b49",
   "metadata": {},
   "source": [
    "11.Write a Python program to get the file size of a plain file"
   ]
  },
  {
   "cell_type": "code",
   "execution_count": 72,
   "id": "443c2ef2",
   "metadata": {},
   "outputs": [
    {
     "name": "stdout",
     "output_type": "stream",
     "text": [
      "120\n"
     ]
    }
   ],
   "source": [
    "with open (\"C:\\\\Users\\\\Asus\\\\Downloads\\\\Telegram Desktop\\\\test.txt\") as file:\n",
    "    file.seek(0,2)\n",
    "    size = file.tell()\n",
    "    print(size)"
   ]
  },
  {
   "cell_type": "markdown",
   "id": "bdd5388d",
   "metadata": {},
   "source": [
    "12.Write a Python program to write a list to a file."
   ]
  },
  {
   "cell_type": "code",
   "execution_count": 73,
   "id": "a9ff43c9",
   "metadata": {},
   "outputs": [],
   "source": [
    "list = [1,2,34,6,7]\n",
    "with open (\"C:\\\\Users\\\\Asus\\\\Downloads\\\\Telegram Desktop\\\\test.txt\",'w') as file:\n",
    "    for x in list:\n",
    "        file.write(str(x) + '\\n')"
   ]
  },
  {
   "cell_type": "markdown",
   "id": "c525904e",
   "metadata": {},
   "source": [
    "13.Write a Python program to copy the contents of a file to another file."
   ]
  },
  {
   "cell_type": "code",
   "execution_count": null,
   "id": "23e1eaad",
   "metadata": {},
   "outputs": [],
   "source": [
    "with open (\"C:\\\\Users\\\\Asus\\\\Downloads\\\\Telegram Desktop\\\\test.txt\",'r') as file:\n",
    "    content = file.read()\n",
    "with open(\"C:\\\\Users\\\\Asus\\\\OneDrive\\\\Desktop\\\\text-2.txt\", 'words') as new_file:\n",
    "    new_file.write(content)\n"
   ]
  },
  {
   "cell_type": "markdown",
   "id": "0ac0b5e2",
   "metadata": {},
   "source": [
    "14.Write a Python program to combine each line from the first file with the corresponding line in the second file.\n",
    "\n"
   ]
  },
  {
   "cell_type": "code",
   "execution_count": null,
   "id": "519fc1c8",
   "metadata": {},
   "outputs": [],
   "source": [
    "with open(\"C:\\\\Users\\\\Asus\\\\OneDrive\\\\Desktop\\\\text-2.txt\", 'r') as file1, open(\"C:\\\\Users\\\\Asus\\\\Downloads\\\\Telegram Desktop\\\\test.txt\",'r')_as file2, open(output_path, 'w') as output:\n",
    "            for line1, line2 in zip(file1, file2):\n",
    "                combined_line = line1.strip() + \" \" + line2.strip()\n",
    "                output.write(combined_line + '\\n')"
   ]
  },
  {
   "cell_type": "markdown",
   "id": "926af184",
   "metadata": {},
   "source": [
    "15.Write a Python program to read a random line from a file."
   ]
  },
  {
   "cell_type": "code",
   "execution_count": 75,
   "id": "64aaf2df",
   "metadata": {},
   "outputs": [
    {
     "name": "stdout",
     "output_type": "stream",
     "text": [
      "Hello\n"
     ]
    }
   ],
   "source": [
    "import random\n",
    "with open(\"C:\\\\Users\\\\Asus\\\\OneDrive\\\\Desktop\\\\text-2.txt\", 'r') as file:\n",
    "    lines = file.readlines()\n",
    "    random_line = random.choice(lines)\n",
    "print(random_line)"
   ]
  },
  {
   "cell_type": "markdown",
   "id": "70f7bc95",
   "metadata": {},
   "source": [
    "16.Write a Python program to assess if a file is closed or not.\n",
    "\n"
   ]
  },
  {
   "cell_type": "code",
   "execution_count": null,
   "id": "fed2f1c5",
   "metadata": {},
   "outputs": [],
   "source": [
    "with open(\"example.txt\", \"r\") as f:\n",
    "    print(\"Inside with block, is file closed?\", f.closed)\n",
    "\n",
    "print(\"Outside with block, is file closed?\", f.closed) "
   ]
  },
  {
   "cell_type": "markdown",
   "id": "856d26be",
   "metadata": {},
   "source": [
    "17.Write a Python program to remove newline characters from a file."
   ]
  },
  {
   "cell_type": "code",
   "execution_count": null,
   "id": "121f0afb",
   "metadata": {},
   "outputs": [],
   "source": [
    "with open(\"example.txt\", \"r\") as f:\n",
    "    content = f.read().replace('\\n','')\n",
    "with open(\"C:\\\\Users\\\\Asus\\\\OneDrive\\\\Desktop\\\\text-2.txt\", 'w') as file:\n",
    "    file.write(content)"
   ]
  },
  {
   "cell_type": "markdown",
   "id": "381e026d",
   "metadata": {},
   "source": [
    "18.Write a Python program that takes a text file as input and returns the number of words in a given text file."
   ]
  },
  {
   "cell_type": "code",
   "execution_count": 76,
   "id": "7b663f0f",
   "metadata": {},
   "outputs": [],
   "source": [
    "def file_word_counter(file_path):\n",
    "    with open(file_path, 'r') as file:\n",
    "        text = file.read()\n",
    "        words = text.split()\n",
    "        print(len(words))"
   ]
  },
  {
   "cell_type": "markdown",
   "id": "3c117417",
   "metadata": {},
   "source": [
    "19.Write a Python program to extract characters from various text files and put them into a list."
   ]
  },
  {
   "cell_type": "code",
   "execution_count": null,
   "id": "580f3c59",
   "metadata": {},
   "outputs": [],
   "source": [
    "def extract_characters_from_files(file_paths):\n",
    "    characters = []\n",
    "    for path in file_paths:\n",
    "        try:\n",
    "            with open(path, 'r') as file:\n",
    "                content = file.read()\n",
    "                characters.extend(list(content)) \n",
    "                return characters\n",
    "        except FileNotFoundError:\n",
    "            print(f\"Error: File '{path}' not found.\")\n",
    "        except IOError as e:\n",
    "            print(f\"An I/O error occurred with file '{path}': {e}\")\n",
    "    return characters"
   ]
  },
  {
   "cell_type": "markdown",
   "id": "3e0efccd",
   "metadata": {},
   "source": [
    "20.Write a Python program to generate 26 text files named A.txt, B.txt, and so on up to Z.txt"
   ]
  },
  {
   "cell_type": "code",
   "execution_count": null,
   "id": "e2eac20c",
   "metadata": {},
   "outputs": [],
   "source": [
    "import string\n",
    "for letter in string.ascii_uppercase:  # 'A' to 'Z'\n",
    "    filename = f\"{letter}.txt\"\n",
    "    with open(filename, 'w') as file:\n",
    "        file.write(f\"This is file {filename}\\n\")"
   ]
  },
  {
   "cell_type": "markdown",
   "id": "c87354b5",
   "metadata": {},
   "source": [
    "21.Write a Python program to create a file where all letters of the English alphabet are listed with a specified number of letters on each line."
   ]
  },
  {
   "cell_type": "code",
   "execution_count": null,
   "id": "fc4119b3",
   "metadata": {},
   "outputs": [],
   "source": [
    "import string\n",
    "def write_alphabet_by_line(file_path, letters_per_line):\n",
    "    alphabet = string.ascii_lowercase  # Use ascii_uppercase for uppercase letters\n",
    "    try:\n",
    "        with open(file_path, 'w') as file:\n",
    "            for i in range(0, len(alphabet), letters_per_line):\n",
    "                line = alphabet[i:i + letters_per_line]\n",
    "                file.write(line + '\\n')\n",
    "        print(f\"Alphabet written to '{file_path}' with {letters_per_line} letters per line.\")\n",
    "    except IOError as e:\n",
    "        print(f\"An I/O error occurred: {e}\")"
   ]
  }
 ],
 "metadata": {
  "kernelspec": {
   "display_name": "Python 3",
   "language": "python",
   "name": "python3"
  },
  "language_info": {
   "codemirror_mode": {
    "name": "ipython",
    "version": 3
   },
   "file_extension": ".py",
   "mimetype": "text/x-python",
   "name": "python",
   "nbconvert_exporter": "python",
   "pygments_lexer": "ipython3",
   "version": "3.13.3"
  }
 },
 "nbformat": 4,
 "nbformat_minor": 5
}

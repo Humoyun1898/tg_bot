{
 "cells": [
  {
   "cell_type": "markdown",
   "id": "b6077935",
   "metadata": {},
   "source": [
    "1.Write a Python program to ask for a user's name and year of birth, then calculate and display their age.\n",
    "\n"
   ]
  },
  {
   "cell_type": "code",
   "execution_count": null,
   "id": "6b3373e4",
   "metadata": {},
   "outputs": [],
   "source": [
    "from datetime import date\n",
    "current_year = date.today().year \n",
    "name = input('What is your name?')\n",
    "year_of_birth = int(input('What is your year of birth?'))\n",
    "age = current_year - year_of_birth\n",
    "print (f'{name} is {age} years old')\n"
   ]
  },
  {
   "cell_type": "markdown",
   "id": "2a75c70e",
   "metadata": {},
   "source": [
    "2.Extract car names from the following text:'LMaasleitbtui'"
   ]
  },
  {
   "cell_type": "code",
   "execution_count": 18,
   "id": "153fa0f6",
   "metadata": {},
   "outputs": [
    {
     "name": "stdout",
     "output_type": "stream",
     "text": [
      "Lasetti\n",
      "Malibu\n"
     ]
    }
   ],
   "source": [
    "txt = 'LMaasleitbtui'\n",
    "first_car = txt[0::2]\n",
    "print(first_car)\n",
    "second_car = txt[1::2]\n",
    "print(second_car)"
   ]
  },
  {
   "cell_type": "markdown",
   "id": "9eefaf00",
   "metadata": {},
   "source": [
    "3.Extract Car Names"
   ]
  },
  {
   "cell_type": "code",
   "execution_count": null,
   "id": "f5d59717",
   "metadata": {},
   "outputs": [
    {
     "name": "stdout",
     "output_type": "stream",
     "text": [
      "Matiz\n",
      "\n"
     ]
    }
   ],
   "source": [
    "txt = 'MsaatmiazD'\n",
    "first_car = txt[0::2]\n",
    "print(first_car)\n",
    "reversed_text = txt[0:0:-1]\n",
    "second_car = reversed_text[0:0:2]\n",
    "print(second_car)"
   ]
  },
  {
   "cell_type": "markdown",
   "id": "0106ac16",
   "metadata": {},
   "source": [
    "4.Extract Residence Area"
   ]
  },
  {
   "cell_type": "code",
   "execution_count": 23,
   "id": "376347ed",
   "metadata": {},
   "outputs": [
    {
     "name": "stdout",
     "output_type": "stream",
     "text": [
      "London\n"
     ]
    }
   ],
   "source": [
    "txt = \"I'am John. I am from London\"\n",
    "txt_as_list = txt.split(' ')\n",
    "residence_area = txt_as_list[-1]\n",
    "print(residence_area)"
   ]
  },
  {
   "cell_type": "markdown",
   "id": "6251e8c9",
   "metadata": {},
   "source": [
    "5. Reverse String"
   ]
  },
  {
   "cell_type": "code",
   "execution_count": null,
   "id": "11c99639",
   "metadata": {},
   "outputs": [],
   "source": [
    "user_input = input('Write something')\n",
    "reverse_input = user_input[::-1]\n",
    "print(reverse_input)"
   ]
  },
  {
   "cell_type": "markdown",
   "id": "8cab2946",
   "metadata": {},
   "source": [
    "6. Count Vowels"
   ]
  },
  {
   "cell_type": "code",
   "execution_count": null,
   "id": "ad97ca52",
   "metadata": {},
   "outputs": [
    {
     "name": "stdout",
     "output_type": "stream",
     "text": [
      "[]\n"
     ]
    }
   ],
   "source": [
    "user_input = input('Write something')\n",
    "vowels = ['a', 'e', 'i', 'o', 'u' ]\n",
    "\n",
    "number_of_vowels = 0\n",
    "for x in user_input:\n",
    "    for y in vowels:\n",
    "        if x == y:\n",
    "            number_of_vowels +=1\n",
    "print(number_of_vowels)"
   ]
  },
  {
   "cell_type": "markdown",
   "id": "2b36fe16",
   "metadata": {},
   "source": [
    "7.Write a Python program that takes a list of numbers as input and prints the maximum value.\n",
    "\n"
   ]
  },
  {
   "cell_type": "code",
   "execution_count": 2,
   "id": "afff8b01",
   "metadata": {},
   "outputs": [
    {
     "ename": "KeyboardInterrupt",
     "evalue": "Interrupted by user",
     "output_type": "error",
     "traceback": [
      "\u001b[31m---------------------------------------------------------------------------\u001b[39m",
      "\u001b[31mKeyboardInterrupt\u001b[39m                         Traceback (most recent call last)",
      "\u001b[36mCell\u001b[39m\u001b[36m \u001b[39m\u001b[32mIn[2]\u001b[39m\u001b[32m, line 1\u001b[39m\n\u001b[32m----> \u001b[39m\u001b[32m1\u001b[39m first_number = \u001b[38;5;28mint\u001b[39m(\u001b[38;5;28;43minput\u001b[39;49m\u001b[43m(\u001b[49m\u001b[33;43m'\u001b[39;49m\u001b[33;43mwrite the first number\u001b[39;49m\u001b[33;43m'\u001b[39;49m\u001b[43m)\u001b[49m)\n\u001b[32m      2\u001b[39m second_number = \u001b[38;5;28mint\u001b[39m(\u001b[38;5;28minput\u001b[39m(\u001b[33m'\u001b[39m\u001b[33mwrite the second number\u001b[39m\u001b[33m'\u001b[39m))\n\u001b[32m      3\u001b[39m third_number = \u001b[38;5;28mint\u001b[39m(\u001b[38;5;28minput\u001b[39m(\u001b[33m'\u001b[39m\u001b[33mwrite the third number\u001b[39m\u001b[33m'\u001b[39m))\n",
      "\u001b[36mFile \u001b[39m\u001b[32m~\\AppData\\Roaming\\Python\\Python313\\site-packages\\ipykernel\\kernelbase.py:1282\u001b[39m, in \u001b[36mKernel.raw_input\u001b[39m\u001b[34m(self, prompt)\u001b[39m\n\u001b[32m   1280\u001b[39m     msg = \u001b[33m\"\u001b[39m\u001b[33mraw_input was called, but this frontend does not support input requests.\u001b[39m\u001b[33m\"\u001b[39m\n\u001b[32m   1281\u001b[39m     \u001b[38;5;28;01mraise\u001b[39;00m StdinNotImplementedError(msg)\n\u001b[32m-> \u001b[39m\u001b[32m1282\u001b[39m \u001b[38;5;28;01mreturn\u001b[39;00m \u001b[38;5;28;43mself\u001b[39;49m\u001b[43m.\u001b[49m\u001b[43m_input_request\u001b[49m\u001b[43m(\u001b[49m\n\u001b[32m   1283\u001b[39m \u001b[43m    \u001b[49m\u001b[38;5;28;43mstr\u001b[39;49m\u001b[43m(\u001b[49m\u001b[43mprompt\u001b[49m\u001b[43m)\u001b[49m\u001b[43m,\u001b[49m\n\u001b[32m   1284\u001b[39m \u001b[43m    \u001b[49m\u001b[38;5;28;43mself\u001b[39;49m\u001b[43m.\u001b[49m\u001b[43m_parent_ident\u001b[49m\u001b[43m[\u001b[49m\u001b[33;43m\"\u001b[39;49m\u001b[33;43mshell\u001b[39;49m\u001b[33;43m\"\u001b[39;49m\u001b[43m]\u001b[49m\u001b[43m,\u001b[49m\n\u001b[32m   1285\u001b[39m \u001b[43m    \u001b[49m\u001b[38;5;28;43mself\u001b[39;49m\u001b[43m.\u001b[49m\u001b[43mget_parent\u001b[49m\u001b[43m(\u001b[49m\u001b[33;43m\"\u001b[39;49m\u001b[33;43mshell\u001b[39;49m\u001b[33;43m\"\u001b[39;49m\u001b[43m)\u001b[49m\u001b[43m,\u001b[49m\n\u001b[32m   1286\u001b[39m \u001b[43m    \u001b[49m\u001b[43mpassword\u001b[49m\u001b[43m=\u001b[49m\u001b[38;5;28;43;01mFalse\u001b[39;49;00m\u001b[43m,\u001b[49m\n\u001b[32m   1287\u001b[39m \u001b[43m\u001b[49m\u001b[43m)\u001b[49m\n",
      "\u001b[36mFile \u001b[39m\u001b[32m~\\AppData\\Roaming\\Python\\Python313\\site-packages\\ipykernel\\kernelbase.py:1325\u001b[39m, in \u001b[36mKernel._input_request\u001b[39m\u001b[34m(self, prompt, ident, parent, password)\u001b[39m\n\u001b[32m   1322\u001b[39m \u001b[38;5;28;01mexcept\u001b[39;00m \u001b[38;5;167;01mKeyboardInterrupt\u001b[39;00m:\n\u001b[32m   1323\u001b[39m     \u001b[38;5;66;03m# re-raise KeyboardInterrupt, to truncate traceback\u001b[39;00m\n\u001b[32m   1324\u001b[39m     msg = \u001b[33m\"\u001b[39m\u001b[33mInterrupted by user\u001b[39m\u001b[33m\"\u001b[39m\n\u001b[32m-> \u001b[39m\u001b[32m1325\u001b[39m     \u001b[38;5;28;01mraise\u001b[39;00m \u001b[38;5;167;01mKeyboardInterrupt\u001b[39;00m(msg) \u001b[38;5;28;01mfrom\u001b[39;00m\u001b[38;5;250m \u001b[39m\u001b[38;5;28;01mNone\u001b[39;00m\n\u001b[32m   1326\u001b[39m \u001b[38;5;28;01mexcept\u001b[39;00m \u001b[38;5;167;01mException\u001b[39;00m:\n\u001b[32m   1327\u001b[39m     \u001b[38;5;28mself\u001b[39m.log.warning(\u001b[33m\"\u001b[39m\u001b[33mInvalid Message:\u001b[39m\u001b[33m\"\u001b[39m, exc_info=\u001b[38;5;28;01mTrue\u001b[39;00m)\n",
      "\u001b[31mKeyboardInterrupt\u001b[39m: Interrupted by user"
     ]
    }
   ],
   "source": [
    "first_number = int(input('write the first number'))\n",
    "second_number = int(input('write the second number'))\n",
    "third_number = int(input('write the third number'))\n",
    "\n",
    "new_list = [first_number,second_number,third_number]\n",
    "max_number = new_list[0]\n",
    "for x in new_list:\n",
    "    if x > max_number:\n",
    "        max_number = x\n",
    "print(max_number)"
   ]
  },
  {
   "cell_type": "markdown",
   "id": "0ed24650",
   "metadata": {},
   "source": [
    "8.Write a Python program that checks if a given word is a palindrome (reads the same forward and backward).\n",
    "\n"
   ]
  },
  {
   "cell_type": "code",
   "execution_count": 3,
   "id": "b5db0649",
   "metadata": {},
   "outputs": [
    {
     "name": "stdout",
     "output_type": "stream",
     "text": [
      "It is palindrome\n"
     ]
    }
   ],
   "source": [
    "new_input = input('Write something')\n",
    "if new_input[::-1] == new_input:\n",
    "    print ('It is palindrome')\n",
    "else:\n",
    "    print('It is not palindrome')"
   ]
  },
  {
   "cell_type": "markdown",
   "id": "34cf3a56",
   "metadata": {},
   "source": [
    "9.Write a Python program that extracts and prints the domain from an email address provided by the user.\n",
    "\n"
   ]
  },
  {
   "cell_type": "code",
   "execution_count": null,
   "id": "3a050f6e",
   "metadata": {},
   "outputs": [
    {
     "name": "stdout",
     "output_type": "stream",
     "text": [
      "['']\n"
     ]
    }
   ],
   "source": [
    "email = input('Write your email')\n",
    "list_with_split = email.split('@')\n",
    "print(list_with_split[1])"
   ]
  },
  {
   "cell_type": "markdown",
   "id": "2cd46235",
   "metadata": {},
   "source": [
    "10.Write a Python program to generate a random password containing letters, digits, and special characters.\n",
    "\n"
   ]
  },
  {
   "cell_type": "code",
   "execution_count": null,
   "id": "350a4f69",
   "metadata": {},
   "outputs": [],
   "source": [
    "import random\n",
    "import string\n",
    "\n",
    "letters = string.ascii_letters     \n",
    "digits = string.digits            \n",
    "special_chars = string.punctuation \n",
    "\n",
    "\n",
    "all_chars = letters + digits + special_chars\n",
    "\n",
    "# Ask user for the desired password length\n",
    "password_length = int(input(\"Enter the desired password length: \"))\n",
    "\n",
    "# Generate a random password\n",
    "password = ''.join(random.choice(all_chars) for _ in range(password_length))\n",
    "\n",
    "# Display the result\n",
    "print(\"Generated password:\", password)"
   ]
  }
 ],
 "metadata": {
  "kernelspec": {
   "display_name": "Python 3",
   "language": "python",
   "name": "python3"
  },
  "language_info": {
   "codemirror_mode": {
    "name": "ipython",
    "version": 3
   },
   "file_extension": ".py",
   "mimetype": "text/x-python",
   "name": "python",
   "nbconvert_exporter": "python",
   "pygments_lexer": "ipython3",
   "version": "3.13.3"
  }
 },
 "nbformat": 4,
 "nbformat_minor": 5
}

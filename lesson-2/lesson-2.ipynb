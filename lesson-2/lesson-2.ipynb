{
 "cells": [
  {
   "cell_type": "markdown",
   "id": "fa420f85",
   "metadata": {},
   "source": [
    "#STRING"
   ]
  },
  {
   "cell_type": "code",
   "execution_count": 25,
   "id": "e4992a94",
   "metadata": {},
   "outputs": [
    {
     "name": "stdout",
     "output_type": "stream",
     "text": [
      "Humoyun\n",
      "This\n",
      "is a multiline string\n"
     ]
    }
   ],
   "source": [
    "name = 'Humoyun'\n",
    "print (name)\n",
    "\n",
    "sentence = '''This\n",
    "is a multiline string'''\n",
    "print(sentence)"
   ]
  },
  {
   "cell_type": "code",
   "execution_count": 26,
   "id": "3a66aef8",
   "metadata": {},
   "outputs": [
    {
     "name": "stdout",
     "output_type": "stream",
     "text": [
      "My name is Humoyun. I'm 12 years old\n",
      "My name is Khumoyun\n",
      " I am 12 years old\n"
     ]
    }
   ],
   "source": [
    "sentence = \"My name is Humoyun. I'm 12 years old\"\n",
    "print(sentence)\n",
    "#double quotes are used when there is single quote inside the double quotes\n",
    "new_sentence = 'My name is Khumoyun\\n I am 12 years old'\n",
    "print(new_sentence)\n",
    "# is used to go to the next line"
   ]
  },
  {
   "cell_type": "code",
   "execution_count": 27,
   "id": "3530f6f6",
   "metadata": {},
   "outputs": [
    {
     "name": "stdout",
     "output_type": "stream",
     "text": [
      "o\n",
      "l\n"
     ]
    }
   ],
   "source": [
    "word = 'Hello world'\n",
    "print(word[4])\n",
    "#takes the order number of character. Starts from zero when you go from left to right\n",
    "\n",
    "words = 'Hello wordl'\n",
    "print(words[-1])\n",
    "#starts from -1 when goes from right to left"
   ]
  },
  {
   "cell_type": "markdown",
   "id": "d4e6fe25",
   "metadata": {},
   "source": [
    "SLICING\n"
   ]
  },
  {
   "cell_type": "code",
   "execution_count": 28,
   "id": "714a7fd5",
   "metadata": {},
   "outputs": [
    {
     "name": "stdout",
     "output_type": "stream",
     "text": [
      "llo w\n",
      "llo world\n",
      "Hello wor\n",
      "el \n",
      "3\n"
     ]
    }
   ],
   "source": [
    "word = 'Hello world'\n",
    "print(word[2:7])\n",
    "#slicing takes from the 2nd character to the seventh character including\n",
    "\n",
    "words = 'Hello world'\n",
    "print(words[2:])\n",
    "#takes from the second to the end\n",
    "\n",
    "wordy = 'Hello world'\n",
    "print(wordy[:-2])\n",
    "#takes from the begining to the next character\n",
    "\n",
    "wb = 'Hello world'\n",
    "print(wb[1:7:2])\n",
    "print(len(wb[1:7:2]))\n"
   ]
  },
  {
   "cell_type": "code",
   "execution_count": 29,
   "id": "e12b7899",
   "metadata": {},
   "outputs": [
    {
     "name": "stdout",
     "output_type": "stream",
     "text": [
      "HELLO\n",
      "hello\n",
      "Hello\n"
     ]
    }
   ],
   "source": [
    "word = 'Hello'\n",
    "print(word.upper())\n",
    "print(word.lower())\n",
    "print(word.capitalize())\n"
   ]
  },
  {
   "cell_type": "code",
   "execution_count": 30,
   "id": "a807de3e",
   "metadata": {},
   "outputs": [
    {
     "name": "stdout",
     "output_type": "stream",
     "text": [
      "hello\n"
     ]
    }
   ],
   "source": [
    "given_word = input('Say something')\n",
    "given_word = given_word.lstrip()\n",
    "#takes away white spaces from left\n",
    "print(given_word)"
   ]
  },
  {
   "cell_type": "code",
   "execution_count": null,
   "id": "60a5e4b4",
   "metadata": {},
   "outputs": [],
   "source": [
    "given_word = input('Say something')\n",
    "given_word = given_word.strip()\n",
    "#takes away white spaces from both left and right\n",
    "print(given_word)"
   ]
  },
  {
   "cell_type": "code",
   "execution_count": null,
   "id": "17092359",
   "metadata": {},
   "outputs": [],
   "source": [
    "given_word = input('Say something')\n",
    "given_word = given_word.rstrip()\n",
    "#takes away white spaces from righ\n",
    "print(given_word)"
   ]
  },
  {
   "cell_type": "code",
   "execution_count": null,
   "id": "1c55e2c3",
   "metadata": {},
   "outputs": [
    {
     "data": {
      "text/plain": [
       "['this', 'is', 'lesson', '2', 'about', 'strings']"
      ]
     },
     "execution_count": 3,
     "metadata": {},
     "output_type": "execute_result"
    }
   ],
   "source": [
    "given_word = 'this is lesson 2 about strings'\n",
    "given_word.split('2')\n",
    "given_word.split(' ')\n",
    "#splits the string with the sign inside the brackets"
   ]
  },
  {
   "cell_type": "code",
   "execution_count": null,
   "id": "c320559b",
   "metadata": {},
   "outputs": [
    {
     "name": "stdout",
     "output_type": "stream",
     "text": [
      "Your name is 20 and your age Anna\n"
     ]
    }
   ],
   "source": [
    "name = 'Anna'\n",
    "age = 20\n",
    "print ('Your name is {} and your age {}'.format(age,name))\n"
   ]
  },
  {
   "cell_type": "code",
   "execution_count": 5,
   "id": "9a5c9760",
   "metadata": {},
   "outputs": [
    {
     "name": "stdout",
     "output_type": "stream",
     "text": [
      "Your name is 20 and your age Anna\n"
     ]
    }
   ],
   "source": [
    "name = 'Anna'\n",
    "age = 20\n",
    "print ('Your name is {first_name} and your age {your_age}'.format(first_name = age,your_age = name))"
   ]
  },
  {
   "cell_type": "code",
   "execution_count": null,
   "id": "cc184fbc",
   "metadata": {},
   "outputs": [
    {
     "ename": "NameError",
     "evalue": "name 'FSTRING' is not defined",
     "output_type": "error",
     "traceback": [
      "\u001b[31m---------------------------------------------------------------------------\u001b[39m",
      "\u001b[31mNameError\u001b[39m                                 Traceback (most recent call last)",
      "\u001b[36mCell\u001b[39m\u001b[36m \u001b[39m\u001b[32mIn[6]\u001b[39m\u001b[32m, line 1\u001b[39m\n\u001b[32m----> \u001b[39m\u001b[32m1\u001b[39m \u001b[43mFSTRING\u001b[49m\n",
      "\u001b[31mNameError\u001b[39m: name 'FSTRING' is not defined"
     ]
    }
   ],
   "source": [
    "FSTRING\n"
   ]
  },
  {
   "cell_type": "code",
   "execution_count": null,
   "id": "702e2e51",
   "metadata": {},
   "outputs": [],
   "source": [
    "name = 'Anna'\n",
    "age = 20\n",
    "print (f'Your name is {name} and your age {age}')"
   ]
  },
  {
   "cell_type": "code",
   "execution_count": 1,
   "id": "68fea6cc",
   "metadata": {},
   "outputs": [
    {
     "name": "stdout",
     "output_type": "stream",
     "text": [
      "this\n",
      " is my home\n",
      "this\\is my home\n",
      "this\t is my home\n"
     ]
    },
    {
     "name": "stderr",
     "output_type": "stream",
     "text": [
      "<>:2: SyntaxWarning: invalid escape sequence '\\i'\n",
      "<>:2: SyntaxWarning: invalid escape sequence '\\i'\n",
      "C:\\Users\\Asus\\AppData\\Local\\Temp\\ipykernel_21880\\3118569965.py:2: SyntaxWarning: invalid escape sequence '\\i'\n",
      "  sentence1 = 'this\\is my home'\n"
     ]
    }
   ],
   "source": [
    "sentence = 'this\\n is my home'\n",
    "sentence1 = 'this\\is my home'\n",
    "sentence2= 'this\\t is my home'\n",
    "print (sentence)\n",
    "print (sentence1)\n",
    "print (sentence2)"
   ]
  },
  {
   "cell_type": "code",
   "execution_count": 2,
   "id": "ea90e43b",
   "metadata": {},
   "outputs": [
    {
     "name": "stdout",
     "output_type": "stream",
     "text": [
      "This is lesson 2 about strings\n",
      "This,is,lesson,2,about,strings\n",
      "This-----is-----lesson-----2-----about-----strings\n"
     ]
    }
   ],
   "source": [
    "list_sentence = ['This','is','lesson','2','about','strings']\n",
    "print (' '.join(list_sentence) )\n",
    "print (','.join(list_sentence) )\n",
    "print ('-----'.join(list_sentence) )"
   ]
  },
  {
   "cell_type": "code",
   "execution_count": null,
   "id": "418c4c9b",
   "metadata": {},
   "outputs": [
    {
     "data": {
      "text/plain": [
       "'Jack Daniels'"
      ]
     },
     "execution_count": 3,
     "metadata": {},
     "output_type": "execute_result"
    }
   ],
   "source": [
    "first_name = 'Jack'\n",
    "last_name = 'Daniels'\n",
    "' '.join([first_name,last_name])\n"
   ]
  },
  {
   "cell_type": "code",
   "execution_count": 4,
   "id": "57f8493f",
   "metadata": {},
   "outputs": [
    {
     "name": "stdout",
     "output_type": "stream",
     "text": [
      "JoshJoshJoshJoshJosh\n"
     ]
    }
   ],
   "source": [
    "first_name = 'Josh'\n",
    "print(first_name*5)"
   ]
  }
 ],
 "metadata": {
  "kernelspec": {
   "display_name": "Python 3",
   "language": "python",
   "name": "python3"
  },
  "language_info": {
   "codemirror_mode": {
    "name": "ipython",
    "version": 3
   },
   "file_extension": ".py",
   "mimetype": "text/x-python",
   "name": "python",
   "nbconvert_exporter": "python",
   "pygments_lexer": "ipython3",
   "version": "3.13.3"
  }
 },
 "nbformat": 4,
 "nbformat_minor": 5
}

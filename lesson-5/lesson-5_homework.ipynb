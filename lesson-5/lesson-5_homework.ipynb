{
 "cells": [
  {
   "cell_type": "markdown",
   "id": "5eb148d4",
   "metadata": {},
   "source": [
    "1. A year is a leap year if:\n",
    "- It is divisible by 4, and\n",
    "- It is NOT divisible by 100, unless it is also divisible by 400.\n",
    "\n",
    "Parameters:\n",
    "year (int): The year to be checked.\n",
    "\n",
    "Returns:\n",
    "bool: True if the year is a leap year, False otherwise.\n",
    "\"\"\"\n",
    "if not isinstance(year, int):\n",
    "    raise ValueError(\"Year must be an integer.\")\n",
    "\n",
    "return (year % 4 == 0 and year % 100 != 0) or (year % 400 == 0)"
   ]
  },
  {
   "cell_type": "code",
   "execution_count": null,
   "id": "ddd8bfa6",
   "metadata": {},
   "outputs": [],
   "source": [
    "year = int(input('enter a year'))\n",
    "if year % 4 == 0:\n",
    "    if year % 100 == 0:\n",
    "        if year % 400 == 0:\n",
    "            print('It is a leap year')\n",
    "        else:\n",
    "            print('It is not a leap year')\n",
    "    else:\n",
    "        print('It is a leap year')\n",
    "else:\n",
    "    print('It is not a leap year')"
   ]
  },
  {
   "cell_type": "markdown",
   "id": "cc122684",
   "metadata": {},
   "source": [
    "2.Given an integer, n, perform the following conditional actions:\n",
    "\n",
    "If n is odd, print Weird\n",
    "If n is even and in the inclusive range of 2 to 5, print Not Weird\n",
    "If n is even and in the inclusive range of 6 to 20, print Weird\n",
    "If n is even and greater than 20, print Not Weird"
   ]
  },
  {
   "cell_type": "code",
   "execution_count": null,
   "id": "ada0e1c6",
   "metadata": {},
   "outputs": [],
   "source": [
    "n = int(input('Enter the number: '))\n",
    "\n",
    "if 1 <= n <= 100:\n",
    "    if n % 2 != 0:\n",
    "        print('Weird')\n",
    "    elif n % 2 == 0:\n",
    "        if 2 <= n <= 5:\n",
    "            print ('Not Weird')\n",
    "        elif 6 <= n <= 20:\n",
    "            print ('Weird')\n",
    "        else:\n",
    "            print ('Not Weird')\n",
    "else:\n",
    "    print('Out of range')\n"
   ]
  },
  {
   "cell_type": "markdown",
   "id": "2cce09c8",
   "metadata": {},
   "source": [
    "3.Given two integer numbers a and b. Find even numbers between this numbers. a and b are inclusive. Don't use loop.\n"
   ]
  },
  {
   "cell_type": "code",
   "execution_count": null,
   "id": "64c01a6d",
   "metadata": {},
   "outputs": [],
   "source": [
    "first_number = int(input('Enter the first number: '))\n",
    "second_number = int(input('Enter the second number: '))\n",
    "if first_number != second_number: \n",
    "    if first_number % 2 == 0 and second_number % 2 != 0:\n",
    "        print (f'{first_number} is even number')\n",
    "    elif first_number % 2 != 0 and second_number % 2 == 0:\n",
    "        print (f'{second_number} is even number')\n",
    "    elif first_number % 2 == 0 and second_number % 2 == 0:\n",
    "        print ('Both numbers are even')\n",
    "    else:\n",
    "        print ('None of them are even')\n",
    "else:\n",
    "    print('Numbers should not be equal')"
   ]
  }
 ],
 "metadata": {
  "kernelspec": {
   "display_name": "Python 3",
   "language": "python",
   "name": "python3"
  },
  "language_info": {
   "codemirror_mode": {
    "name": "ipython",
    "version": 3
   },
   "file_extension": ".py",
   "mimetype": "text/x-python",
   "name": "python",
   "nbconvert_exporter": "python",
   "pygments_lexer": "ipython3",
   "version": "3.13.3"
  }
 },
 "nbformat": 4,
 "nbformat_minor": 5
}

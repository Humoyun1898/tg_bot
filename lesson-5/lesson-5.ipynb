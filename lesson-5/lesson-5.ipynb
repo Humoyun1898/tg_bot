{
 "cells": [
  {
   "cell_type": "markdown",
   "id": "5f18d636",
   "metadata": {},
   "source": [
    "### BOOLEAN\n",
    "TRUE AND FALSE"
   ]
  },
  {
   "cell_type": "code",
   "execution_count": 1,
   "id": "4536d773",
   "metadata": {},
   "outputs": [
    {
     "data": {
      "text/plain": [
       "True"
      ]
     },
     "execution_count": 1,
     "metadata": {},
     "output_type": "execute_result"
    }
   ],
   "source": [
    "True == 1 "
   ]
  },
  {
   "cell_type": "code",
   "execution_count": 2,
   "id": "2d3e2478",
   "metadata": {},
   "outputs": [
    {
     "data": {
      "text/plain": [
       "True"
      ]
     },
     "execution_count": 2,
     "metadata": {},
     "output_type": "execute_result"
    }
   ],
   "source": [
    "False == 0"
   ]
  },
  {
   "cell_type": "code",
   "execution_count": 5,
   "id": "393eb131",
   "metadata": {},
   "outputs": [
    {
     "data": {
      "text/plain": [
       "False"
      ]
     },
     "execution_count": 5,
     "metadata": {},
     "output_type": "execute_result"
    }
   ],
   "source": [
    "45 == 34"
   ]
  },
  {
   "cell_type": "markdown",
   "id": "5022abf7",
   "metadata": {},
   "source": [
    "bool"
   ]
  },
  {
   "cell_type": "code",
   "execution_count": 3,
   "id": "f7262b78",
   "metadata": {},
   "outputs": [
    {
     "data": {
      "text/plain": [
       "True"
      ]
     },
     "execution_count": 3,
     "metadata": {},
     "output_type": "execute_result"
    }
   ],
   "source": [
    "bool1 = bool('Hello')\n",
    "bool1"
   ]
  },
  {
   "cell_type": "code",
   "execution_count": 4,
   "id": "e3087ee3",
   "metadata": {},
   "outputs": [
    {
     "data": {
      "text/plain": [
       "True"
      ]
     },
     "execution_count": 4,
     "metadata": {},
     "output_type": "execute_result"
    }
   ],
   "source": [
    "bool2 = bool([1,2,3,4,5])\n",
    "bool2"
   ]
  },
  {
   "cell_type": "code",
   "execution_count": null,
   "id": "6d7a32e8",
   "metadata": {},
   "outputs": [
    {
     "data": {
      "text/plain": [
       "False"
      ]
     },
     "execution_count": 6,
     "metadata": {},
     "output_type": "execute_result"
    }
   ],
   "source": [
    "bool2 = bool([]) # if there is no any value inside the value, it is a False\n",
    "bool2"
   ]
  },
  {
   "cell_type": "markdown",
   "id": "03d3e7a5",
   "metadata": {},
   "source": [
    "### CONDITIONALS"
   ]
  },
  {
   "cell_type": "code",
   "execution_count": 8,
   "id": "e16c015e",
   "metadata": {},
   "outputs": [
    {
     "name": "stdout",
     "output_type": "stream",
     "text": [
      "No way\n"
     ]
    }
   ],
   "source": [
    "a = 1\n",
    "b = 8\n",
    "if a > b:\n",
    "    print ('Excellent')\n",
    "else:\n",
    "    print ('No way')"
   ]
  },
  {
   "cell_type": "markdown",
   "id": "18286f22",
   "metadata": {},
   "source": [
    "special characters\n",
    "is\n",
    "in\n",
    "not it"
   ]
  },
  {
   "cell_type": "code",
   "execution_count": null,
   "id": "4b4945ae",
   "metadata": {},
   "outputs": [
    {
     "data": {
      "text/plain": [
       "True"
      ]
     },
     "execution_count": 9,
     "metadata": {},
     "output_type": "execute_result"
    }
   ],
   "source": [
    "x = [1,2,4,5]\n",
    "y = [1,2,4,5]\n",
    "x==y #compares the values inside x and y"
   ]
  },
  {
   "cell_type": "code",
   "execution_count": null,
   "id": "95ba7560",
   "metadata": {},
   "outputs": [],
   "source": [
    "x = [1,2,4,5]\n",
    "y = [1,2,4,5]\n",
    "x is y #False since it compares the id of x and y\n"
   ]
  },
  {
   "cell_type": "code",
   "execution_count": null,
   "id": "e3b4d228",
   "metadata": {},
   "outputs": [],
   "source": [
    "a = None\n",
    "b = None\n",
    "a is b\n",
    "a == b\n",
    "#you always get true since id of none is always the same\n",
    "# 'is' checks both id and values"
   ]
  },
  {
   "cell_type": "code",
   "execution_count": 10,
   "id": "9e4e1cc8",
   "metadata": {},
   "outputs": [
    {
     "data": {
      "text/plain": [
       "False"
      ]
     },
     "execution_count": 10,
     "metadata": {},
     "output_type": "execute_result"
    }
   ],
   "source": [
    "x = [1,2,4,5]\n",
    "y = [1,2,4,5]\n",
    "x in y\n"
   ]
  },
  {
   "cell_type": "code",
   "execution_count": 12,
   "id": "c3af0c1d",
   "metadata": {},
   "outputs": [
    {
     "data": {
      "text/plain": [
       "True"
      ]
     },
     "execution_count": 12,
     "metadata": {},
     "output_type": "execute_result"
    }
   ],
   "source": [
    "x = [1,2,4,5]\n",
    "y = [1,2,4,5,[1,2,4,5]]\n",
    "x in y\n"
   ]
  },
  {
   "cell_type": "code",
   "execution_count": 1,
   "id": "b2213bee",
   "metadata": {},
   "outputs": [
    {
     "ename": "ValueError",
     "evalue": "invalid literal for int() with base 10: ''",
     "output_type": "error",
     "traceback": [
      "\u001b[31m---------------------------------------------------------------------------\u001b[39m",
      "\u001b[31mValueError\u001b[39m                                Traceback (most recent call last)",
      "\u001b[36mCell\u001b[39m\u001b[36m \u001b[39m\u001b[32mIn[1]\u001b[39m\u001b[32m, line 1\u001b[39m\n\u001b[32m----> \u001b[39m\u001b[32m1\u001b[39m year = \u001b[38;5;28;43mint\u001b[39;49m\u001b[43m(\u001b[49m\u001b[38;5;28;43minput\u001b[39;49m\u001b[43m(\u001b[49m\u001b[33;43m'\u001b[39;49m\u001b[33;43menter a year\u001b[39;49m\u001b[33;43m'\u001b[39;49m\u001b[43m)\u001b[49m\u001b[43m)\u001b[49m\n\u001b[32m      2\u001b[39m \u001b[38;5;28;01mif\u001b[39;00m year % \u001b[32m4\u001b[39m == \u001b[32m0\u001b[39m:\n\u001b[32m      3\u001b[39m     \u001b[38;5;28;01mif\u001b[39;00m year % \u001b[32m400\u001b[39m == \u001b[32m0\u001b[39m \u001b[38;5;129;01mand\u001b[39;00m year%\u001b[32m100\u001b[39m == \u001b[32m0\u001b[39m:\n",
      "\u001b[31mValueError\u001b[39m: invalid literal for int() with base 10: ''"
     ]
    }
   ],
   "source": [
    "year = int(input('enter a year'))\n",
    "if year % 4 == 0:\n",
    "    if year % 400 == 0 and year%100 == 0:\n",
    "        print('this is not a leap year')\n",
    "    else:\n",
    "        print('Leap year')"
   ]
  },
  {
   "cell_type": "markdown",
   "id": "0729b5f7",
   "metadata": {},
   "source": []
  }
 ],
 "metadata": {
  "kernelspec": {
   "display_name": "Python 3",
   "language": "python",
   "name": "python3"
  },
  "language_info": {
   "codemirror_mode": {
    "name": "ipython",
    "version": 3
   },
   "file_extension": ".py",
   "mimetype": "text/x-python",
   "name": "python",
   "nbconvert_exporter": "python",
   "pygments_lexer": "ipython3",
   "version": "3.13.3"
  }
 },
 "nbformat": 4,
 "nbformat_minor": 5
}

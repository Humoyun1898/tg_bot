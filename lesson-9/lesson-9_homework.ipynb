{
 "cells": [
  {
   "cell_type": "markdown",
   "id": "19727731",
   "metadata": {},
   "source": [
    "1.Write a Python program to create a class representing a Circle. Include methods to calculate its area and perimeter."
   ]
  },
  {
   "cell_type": "code",
   "execution_count": 5,
   "id": "247359ee",
   "metadata": {},
   "outputs": [
    {
     "name": "stdout",
     "output_type": "stream",
     "text": [
      "50.26548245743669\n",
      "25.132741228718345\n"
     ]
    }
   ],
   "source": [
    "import math\n",
    "\n",
    "class Circle():\n",
    "    def __init__(self,radius):\n",
    "        self.radius = radius\n",
    "    \n",
    "    def perimeter(self):\n",
    "        self.perimeter = 2*math.pi*self.radius\n",
    "        print(self.perimeter)\n",
    "\n",
    "    def area(self):\n",
    "        self.area = math.pi*self.radius**2\n",
    "        print(self.area)\n",
    "\n",
    "circle_ = Circle(4)\n",
    "circle_.area()\n",
    "circle_.perimeter()"
   ]
  },
  {
   "cell_type": "markdown",
   "id": "cdebab94",
   "metadata": {},
   "source": [
    "2.Write a Python program to create a Person class. Include attributes like name, country, and date of birth. Implement a method to determine the person's age."
   ]
  },
  {
   "cell_type": "code",
   "execution_count": 18,
   "id": "908a45a8",
   "metadata": {},
   "outputs": [
    {
     "name": "stdout",
     "output_type": "stream",
     "text": [
      "Your name is John.You are from USA. You are 24 years old.\n"
     ]
    }
   ],
   "source": [
    "from datetime import datetime\n",
    "today = datetime.now()\n",
    "\n",
    "class Person():\n",
    "    def __init__(self,name, country, date_of_birth):\n",
    "        self.name = name\n",
    "        self.country = country\n",
    "        self.date_of_birth = datetime.strptime(date_of_birth, \"%Y-%m-%d\")\n",
    "    \n",
    "    def age(self):\n",
    "        age = today.year - self.date_of_birth.year\n",
    "        if (today.month, today.day) < (self.date_of_birth.month, self.date_of_birth.day):\n",
    "            age -= 1\n",
    "        return f'Your name is {self.name}.You are from {self.country}. You are {age} years old.'\n",
    "    \n",
    "\n",
    "man = Person('John', 'USA', '2000-11-06')\n",
    "print(man.age())\n",
    "        "
   ]
  },
  {
   "cell_type": "markdown",
   "id": "db08ebd1",
   "metadata": {},
   "source": [
    "3.Write a Python program to create a Calculator class. Include methods for basic arithmetic operations."
   ]
  },
  {
   "cell_type": "code",
   "execution_count": 22,
   "id": "40c263df",
   "metadata": {},
   "outputs": [
    {
     "data": {
      "text/plain": [
       "1.0"
      ]
     },
     "execution_count": 22,
     "metadata": {},
     "output_type": "execute_result"
    }
   ],
   "source": [
    "class calculator():\n",
    "    def add(self,a,b):\n",
    "        return a+b\n",
    "    def subtract(self,a,b):\n",
    "        return a-b\n",
    "    def multiply(self,a,b):\n",
    "        return a*b\n",
    "    def devide(self,a,b):\n",
    "        if b==0:\n",
    "            return 'You cannot devide by 0'\n",
    "        else:\n",
    "            return a/b\n",
    "\n",
    "calculate = calculator()\n",
    "calculate.devide(5,5)"
   ]
  },
  {
   "cell_type": "markdown",
   "id": "99abf794",
   "metadata": {},
   "source": [
    "4.Write a Python program to create a class that represents a shape. Include methods to calculate its area and perimeter. Implement subclasses for different shapes like Circle, Triangle, and Square."
   ]
  },
  {
   "cell_type": "code",
   "execution_count": 28,
   "id": "763af2ae",
   "metadata": {},
   "outputs": [
    {
     "name": "stdout",
     "output_type": "stream",
     "text": [
      "50.26548245743669 25.132741228718345\n",
      "8 4\n",
      "4.683748498798798 13\n"
     ]
    }
   ],
   "source": [
    "import math\n",
    "\n",
    "class Shape:\n",
    "    def area(self):\n",
    "        raise NotImplementedError\n",
    "\n",
    "    def perimeter(self):\n",
    "        raise NotImplementedError\n",
    "\n",
    "class Circle(Shape):\n",
    "    def __init__(self, radius):\n",
    "        self.radius = radius\n",
    "\n",
    "    def area(self):\n",
    "        return math.pi * self.radius ** 2\n",
    "\n",
    "    def perimeter(self):\n",
    "        return 2 * math.pi * self.radius\n",
    "\n",
    "class Triangle(Shape):\n",
    "    def __init__(self, a, b, c):\n",
    "        self.a = a\n",
    "        self.b = b\n",
    "        self.c = c\n",
    "\n",
    "    def perimeter(self):\n",
    "        return self.a + self.b + self.c\n",
    "\n",
    "    def area(self):\n",
    "        s = self.perimeter() / 2\n",
    "        return (s * (s - self.a) * (s - self.b) * (s - self.c)) ** 0.5\n",
    "\n",
    "class Square(Shape):\n",
    "    def __init__(self, side):\n",
    "        self.side = side\n",
    "\n",
    "    def area(self):\n",
    "        return self.side ** 2\n",
    "\n",
    "    def perimeter(self):\n",
    "        return 4 * self.side\n",
    "    \n",
    "circle1 = Circle(4)\n",
    "square1 = Square(2)\n",
    "triangle1 = Triangle(2,5,6)\n",
    "    \n",
    "print(circle1.area(),circle1.perimeter())\n",
    "print(square1.perimeter(),square1.area())\n",
    "print(triangle1.area(),triangle1.perimeter())"
   ]
  },
  {
   "cell_type": "markdown",
   "id": "e967f971",
   "metadata": {},
   "source": [
    "5.Binary Search Tree Class\n",
    "Write a Python program to create a class representing a binary search tree. Include methods for inserting and searching for elements in the binary tree."
   ]
  },
  {
   "cell_type": "code",
   "execution_count": null,
   "id": "fe447e44",
   "metadata": {},
   "outputs": [],
   "source": [
    "class Node:\n",
    "    def __init__(self, value):\n",
    "        self.value = value\n",
    "        self.left = None\n",
    "        self.right = None\n",
    "\n",
    "class BinarySearchTree:\n",
    "    def __init__(self):\n",
    "        self.root = None\n",
    "\n",
    "    def insert(self, value):\n",
    "        def _insert(current, value):\n",
    "            if not current:\n",
    "                return Node(value)\n",
    "            if value < current.value:\n",
    "                current.left = _insert(current.left, value)\n",
    "            elif value > current.value:\n",
    "                current.right = _insert(current.right, value)\n",
    "            return current\n",
    "        self.root = _insert(self.root, value)\n",
    "\n",
    "    def search(self, value):\n",
    "        def _search(current, value):\n",
    "            if not current:\n",
    "                return False\n",
    "            if value == current.value:\n",
    "                return True\n",
    "            return _search(current.left, value) if value < current.value else _search(current.right, value)\n",
    "        return _search(self.root, value)\n",
    "    \n"
   ]
  },
  {
   "cell_type": "markdown",
   "id": "c46735fd",
   "metadata": {},
   "source": [
    "6.Write a Python program to create a class representing a stack data structure. Include methods for pushing and popping elements.\n",
    "\n"
   ]
  },
  {
   "cell_type": "code",
   "execution_count": null,
   "id": "881d3bf2",
   "metadata": {},
   "outputs": [
    {
     "name": "stdout",
     "output_type": "stream",
     "text": [
      "Pushed: 10\n",
      "Pushed: 20\n",
      "Pushed: 30\n",
      "Stack (top to bottom): [30, 20, 10]\n"
     ]
    }
   ],
   "source": [
    "class Stack:\n",
    "    def __init__(self):\n",
    "        self.items = []\n",
    "\n",
    "    def is_empty(self):\n",
    "        return len(self.items) == 0\n",
    "\n",
    "    def push(self, item):\n",
    "        self.items.append(item)\n",
    "        print(f\"Pushed: {item}\")\n",
    "\n",
    "    def pop(self):\n",
    "        if self.is_empty():\n",
    "            print(\"Stack is empty. Nothing to pop.\")\n",
    "            return None\n",
    "        return self.items.pop()\n",
    "\n",
    "    def peek(self):\n",
    "        if self.is_empty():\n",
    "            return None\n",
    "        return self.items[-1]\n",
    "\n",
    "    def size(self):\n",
    "        return len(self.items)\n",
    "\n",
    "    def display(self):\n",
    "        print(\"Stack (top to bottom):\", self.items[::-1])\n",
    "\n",
    "stack = Stack()\n",
    "stack.push(10)\n",
    "stack.push(20)\n",
    "stack.push(30)\n",
    "stack.display()\n"
   ]
  },
  {
   "cell_type": "markdown",
   "id": "c97b351f",
   "metadata": {},
   "source": [
    "7.Write a Python program to create a class representing a linked list data structure. Include methods for displaying linked list data, inserting, and deleting nodes."
   ]
  },
  {
   "cell_type": "code",
   "execution_count": null,
   "id": "72247d34",
   "metadata": {},
   "outputs": [],
   "source": [
    "class Node:\n",
    "    def __init__(self, data):\n",
    "        self.data = data\n",
    "        self.next = None \n",
    "\n",
    "\n",
    "class LinkedList:\n",
    "    def __init__(self):\n",
    "        self.head = None\n",
    "\n",
    "    def display(self):\n",
    "        current = self.head\n",
    "        if current is None:\n",
    "            print(\"Linked list is empty.\")\n",
    "            return\n",
    "        print(\"Linked list:\", end=\" \")\n",
    "        while current:\n",
    "            print(current.data, end=\" -> \")\n",
    "            current = current.next\n",
    "        print(\"None\")\n",
    "\n",
    "    def insert(self, data):\n",
    "        new_node = Node(data)\n",
    "        if self.head is None:\n",
    "            self.head = new_node\n",
    "            print(f\"Inserted {data} as head.\")\n",
    "            return\n",
    "        current = self.head\n",
    "        while current.next:\n",
    "            current = current.next\n",
    "        current.next = new_node\n",
    "        print(f\"Inserted {data} at the end.\")\n",
    "\n",
    "    def delete(self, data):\n",
    "        current = self.head\n",
    "        previous = None\n",
    "\n",
    "        while current:\n",
    "            if current.data == data:\n",
    "                if previous is None:\n",
    "                    self.head = current.next\n",
    "                else:\n",
    "                    previous.next = current.next\n",
    "                print(f\"Deleted node with data {data}.\")\n",
    "                return\n",
    "            previous = current\n",
    "            current = current.next\n",
    "        print(f\"Node with data {data} not found.\")"
   ]
  },
  {
   "cell_type": "markdown",
   "id": "446486c7",
   "metadata": {},
   "source": [
    "8.Write a Python program to create a class representing a shopping cart. Include methods for adding and removing items, and calculating the total price."
   ]
  },
  {
   "cell_type": "code",
   "execution_count": null,
   "id": "3fa8a373",
   "metadata": {},
   "outputs": [],
   "source": [
    "class ShoppingCart:\n",
    "    def __init__(self):\n",
    "        self.items = {}  \n",
    "\n",
    "    def add_item(self, name, price, quantity=1):\n",
    "        if name in self.items:\n",
    "            old_price, old_quantity = self.items[name]\n",
    "            self.items[name] = (price, old_quantity + quantity)\n",
    "            print(f\"Updated {name}: new quantity = {old_quantity + quantity}\")\n",
    "        else:\n",
    "            self.items[name] = (price, quantity)\n",
    "            print(f\"Added {name} to cart.\")\n",
    "\n",
    "    def remove_item(self, name):\n",
    "        if name in self.items:\n",
    "            del self.items[name]\n",
    "            print(f\"Removed {name} from cart.\")\n",
    "        else:\n",
    "            print(f\"{name} is not in the cart.\")\n",
    "\n",
    "    def calculate_total(self):\n",
    "        total = sum(price * quantity for price, quantity in self.items.values())\n",
    "        return total\n",
    "\n",
    "    def show_cart(self):\n",
    "        if not self.items:\n",
    "            print(\"Your cart is empty.\")\n",
    "            return\n",
    "        print(\"Shopping Cart Contents:\")\n",
    "        for name, (price, quantity) in self.items.items():\n",
    "            print(f\"- {name}: ${price} x {quantity}\")\n",
    "        print(f\"Total: ${self.calculate_total():.2f}\")"
   ]
  },
  {
   "cell_type": "markdown",
   "id": "79176bad",
   "metadata": {},
   "source": [
    "9.Write a Python program to create a class representing a stack data structure. Include methods for pushing, popping, and displaying elements.\n",
    "\n"
   ]
  },
  {
   "cell_type": "code",
   "execution_count": 30,
   "id": "8af2bc34",
   "metadata": {},
   "outputs": [
    {
     "name": "stdout",
     "output_type": "stream",
     "text": [
      "Pushed: 10\n",
      "Pushed: 20\n",
      "Pushed: 30\n",
      "Stack (top to bottom):\n",
      "30\n",
      "20\n",
      "10\n",
      "Popped: 30\n",
      "Stack (top to bottom):\n",
      "20\n",
      "10\n"
     ]
    }
   ],
   "source": [
    "class Stack:\n",
    "    def __init__(self):\n",
    "        self.items = []\n",
    "\n",
    "    \n",
    "    def is_empty(self):\n",
    "        return len(self.items) == 0\n",
    "\n",
    "\n",
    "    def push(self, item):\n",
    "        self.items.append(item)\n",
    "        print(f\"Pushed: {item}\")\n",
    "\n",
    "    def pop(self):\n",
    "        if self.is_empty():\n",
    "            print(\"Stack is empty. Nothing to pop.\")\n",
    "            return None\n",
    "        removed = self.items.pop()\n",
    "        print(f\"Popped: {removed}\")\n",
    "        return removed\n",
    "\n",
    "    def display(self):\n",
    "        if self.is_empty():\n",
    "            print(\"Stack is empty.\")\n",
    "        else:\n",
    "            print(\"Stack (top to bottom):\")\n",
    "            for item in reversed(self.items):\n",
    "                print(item)\n",
    "\n",
    "\n",
    "stack = Stack()\n",
    "stack.push(10)\n",
    "stack.push(20)\n",
    "stack.push(30)\n",
    "stack.display()\n",
    "\n",
    "stack.pop()\n",
    "stack.display()"
   ]
  },
  {
   "cell_type": "markdown",
   "id": "27a2099c",
   "metadata": {},
   "source": [
    "10.Write a Python program to create a class representing a queue data structure. Include methods for enqueueing and dequeueing elements.\n",
    "\n"
   ]
  },
  {
   "cell_type": "code",
   "execution_count": null,
   "id": "b0a3b2ad",
   "metadata": {},
   "outputs": [],
   "source": [
    "class Queue:\n",
    "    def __init__(self):\n",
    "        self.items = []\n",
    "\n",
    "    def enqueue(self, item):\n",
    "        self.items.append(item)\n",
    "        print(f\"Enqueued: {item}\")\n",
    "\n",
    "    def dequeue(self):\n",
    "        if self.is_empty():\n",
    "            print(\"Queue is empty. Nothing to dequeue.\")\n",
    "            return None\n",
    "        removed = self.items.pop(0)\n",
    "        print(f\"Dequeued: {removed}\")\n",
    "        return removed\n",
    "\n",
    "    def is_empty(self):\n",
    "        return len(self.items) == 0\n",
    "\n",
    "    def display(self):\n",
    "        if self.is_empty():\n",
    "            print(\"Queue is empty.\")\n",
    "        else:\n",
    "            print(\"Queue (front to back):\", self.items)\n",
    "\n",
    "# Example usage\n",
    "q = Queue()\n",
    "q.enqueue(100)\n",
    "q.enqueue(200)\n",
    "q.enqueue(300)\n",
    "q.display()\n",
    "\n",
    "q.dequeue()\n",
    "q.display()"
   ]
  },
  {
   "cell_type": "markdown",
   "id": "2b8fdc33",
   "metadata": {},
   "source": []
  }
 ],
 "metadata": {
  "kernelspec": {
   "display_name": "Python 3",
   "language": "python",
   "name": "python3"
  },
  "language_info": {
   "codemirror_mode": {
    "name": "ipython",
    "version": 3
   },
   "file_extension": ".py",
   "mimetype": "text/x-python",
   "name": "python",
   "nbconvert_exporter": "python",
   "pygments_lexer": "ipython3",
   "version": "3.13.3"
  }
 },
 "nbformat": 4,
 "nbformat_minor": 5
}

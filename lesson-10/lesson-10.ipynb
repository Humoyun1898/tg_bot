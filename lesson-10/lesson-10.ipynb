{
 "cells": [
  {
   "cell_type": "markdown",
   "id": "95041cb0",
   "metadata": {},
   "source": [
    "#### classes"
   ]
  },
  {
   "cell_type": "code",
   "execution_count": 5,
   "id": "172f218a",
   "metadata": {},
   "outputs": [
    {
     "name": "stdout",
     "output_type": "stream",
     "text": [
      "black 2.2 8.5\n",
      "The ball is bouncing\n",
      "Ball is bouncing\n",
      "60.79040000000001\n"
     ]
    }
   ],
   "source": [
    "class Ball:\n",
    "    def __init__(self,weight,radius,color):\n",
    "        self.weight = weight\n",
    "        self.radius = radius\n",
    "        self.color = 'black'\n",
    "    \n",
    "    def bounce(self):\n",
    "        print('The ball is bouncing')\n",
    "\n",
    "    def roll(self):\n",
    "        print('Ball is bouncing')\n",
    "    \n",
    "    def area(self):\n",
    "        self.area = 4 * 3.14 * self.radius ** 2\n",
    "        print(self.area)\n",
    "\n",
    "soccer_ball = Ball(8.5,2.2,'Blue')\n",
    "print(soccer_ball.color,soccer_ball.radius,soccer_ball.weight)\n",
    "soccer_ball.bounce()\n",
    "soccer_ball.roll()\n",
    "soccer_ball.area()"
   ]
  },
  {
   "cell_type": "code",
   "execution_count": 10,
   "id": "d1659ec8",
   "metadata": {},
   "outputs": [
    {
     "ename": "TypeError",
     "evalue": "Person.__init__() missing 3 required positional arguments: 'id', 'name', and 'age'",
     "output_type": "error",
     "traceback": [
      "\u001b[31m---------------------------------------------------------------------------\u001b[39m",
      "\u001b[31mTypeError\u001b[39m                                 Traceback (most recent call last)",
      "\u001b[36mCell\u001b[39m\u001b[36m \u001b[39m\u001b[32mIn[10]\u001b[39m\u001b[32m, line 15\u001b[39m\n\u001b[32m     12\u001b[39m     \u001b[38;5;28;01mdef\u001b[39;00m\u001b[38;5;250m \u001b[39m\u001b[34mwork\u001b[39m(\u001b[38;5;28mself\u001b[39m):\n\u001b[32m     13\u001b[39m         \u001b[38;5;28mprint\u001b[39m(\u001b[33mf\u001b[39m\u001b[33m'\u001b[39m\u001b[38;5;132;01m{\u001b[39;00m\u001b[38;5;28mself\u001b[39m.name\u001b[38;5;132;01m}\u001b[39;00m\u001b[33m is working\u001b[39m\u001b[33m'\u001b[39m)\n\u001b[32m---> \u001b[39m\u001b[32m15\u001b[39m worker1 = \u001b[43mWorker\u001b[49m\u001b[43m(\u001b[49m\u001b[43m)\u001b[49m\n\u001b[32m     16\u001b[39m worker1.work()\n",
      "\u001b[31mTypeError\u001b[39m: Person.__init__() missing 3 required positional arguments: 'id', 'name', and 'age'"
     ]
    }
   ],
   "source": [
    "class Person:\n",
    "    def __init__(self,id,name,age):\n",
    "        self.id = id\n",
    "        self.name = name\n",
    "        self.age = age\n",
    "\n",
    "    def introduce(self):\n",
    "        print (f'Hello my name is {self.name}, I am {self.age} years old')\n",
    "\n",
    "class Worker(Person):\n",
    "   \n",
    "    def work(self):\n",
    "        print(f'{self.name} is working')\n",
    "\n",
    "worker1 = Worker()\n",
    "worker1.work()\n"
   ]
  }
 ],
 "metadata": {
  "kernelspec": {
   "display_name": "Python 3",
   "language": "python",
   "name": "python3"
  },
  "language_info": {
   "codemirror_mode": {
    "name": "ipython",
    "version": 3
   },
   "file_extension": ".py",
   "mimetype": "text/x-python",
   "name": "python",
   "nbconvert_exporter": "python",
   "pygments_lexer": "ipython3",
   "version": "3.13.3"
  }
 },
 "nbformat": 4,
 "nbformat_minor": 5
}

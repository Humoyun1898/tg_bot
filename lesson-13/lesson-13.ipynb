{
 "cells": [
  {
   "cell_type": "markdown",
   "id": "40a526c7",
   "metadata": {},
   "source": [
    "### THREADING"
   ]
  },
  {
   "cell_type": "markdown",
   "id": "4d031ccf",
   "metadata": {},
   "source": [
    "THREADING ALLOWS YOU TO RUN MULTIPLE PROGRAMS PARALLEL"
   ]
  },
  {
   "cell_type": "code",
   "execution_count": null,
   "id": "00f47125",
   "metadata": {},
   "outputs": [],
   "source": [
    "import threading\n",
    "import time\n",
    "import logging"
   ]
  },
  {
   "cell_type": "code",
   "execution_count": 7,
   "id": "d933d69a",
   "metadata": {},
   "outputs": [
    {
     "name": "stdout",
     "output_type": "stream",
     "text": [
      "Before execution start\n",
      "Thread John:starting\n",
      "waiting to finish\n",
      "execution is complete\n"
     ]
    },
    {
     "name": "stdout",
     "output_type": "stream",
     "text": [
      "Thread John:finishing\n"
     ]
    }
   ],
   "source": [
    "def thread_function(name):\n",
    "    print(f'Thread {name}:starting')\n",
    "    time.sleep(2)\n",
    "    print(f'Thread {name}:finishing')\n",
    "\n",
    "x = threading.Thread(target=thread_function, args=('John',), daemon=True)\n",
    "\n",
    "print('Before execution start')\n",
    "x.start()\n",
    "print('waiting to finish')\n",
    "print('execution is complete')\n",
    "\n"
   ]
  },
  {
   "cell_type": "code",
   "execution_count": null,
   "id": "777a07b9",
   "metadata": {},
   "outputs": [],
   "source": [
    "def thread_function(name):\n",
    "    print(f'Thread {name}:starting')\n",
    "    time.sleep(2)\n",
    "    print(f'Thread {name}:finishing')\n",
    "\n",
    "x = threading.Thread(target=thread_function, args=(1,))\n",
    "\n",
    "format = \"%(asctime)s: %(message)s\"\n",
    "logging.basicConfig(format = format, level = logging.INFO , datefmt=\"%H:%M:%S\")\n",
    "\n",
    "print('Before execution start')\n",
    "x.start()\n",
    "print('waiting to finish')\n",
    "print('execution is complete')"
   ]
  },
  {
   "cell_type": "markdown",
   "id": "0ffd5375",
   "metadata": {},
   "source": [
    "if your thread is daemon, the main program will not wait for the thread to finish and exit the execution"
   ]
  },
  {
   "cell_type": "markdown",
   "id": "ca6eaf7a",
   "metadata": {},
   "source": [
    "2.Write a Python program to find the indexes of numbers in a following list below a given threshold.\n",
    "  ls = [0, 12, 45, 3, 4923, 322, 105, 29, 15, 39, 55]\n",
    "  threshold = 100\n",
    "  expected output: [0, 1, 2, 3, 7, 8, 9, 10]\n"
   ]
  },
  {
   "cell_type": "code",
   "execution_count": null,
   "id": "8baf9180",
   "metadata": {},
   "outputs": [
    {
     "name": "stdout",
     "output_type": "stream",
     "text": [
      "[0, 1, 2, 3, 7, 8, 9, 10]\n",
      "0\n",
      "1\n",
      "2\n",
      "3\n",
      "4\n",
      "5\n",
      "6\n",
      "7\n",
      "8\n",
      "9\n",
      "10\n"
     ]
    }
   ],
   "source": [
    "ls = [0, 12, 45, 3, 4923, 322, 105, 29, 15, 39, 55]\n",
    "threshold = 100\n",
    "indexes = []\n",
    "for x in ls:\n",
    "    if x < threshold:\n",
    "        index = ls.index(x)\n",
    "        indexes.append(index)\n",
    "print(indexes)\n"
   ]
  },
  {
   "cell_type": "markdown",
   "id": "b4478e3e",
   "metadata": {},
   "source": []
  },
  {
   "cell_type": "code",
   "execution_count": 22,
   "id": "37f22f4e",
   "metadata": {},
   "outputs": [
    {
     "name": "stdout",
     "output_type": "stream",
     "text": [
      "12\n"
     ]
    }
   ],
   "source": [
    "number = input('Please enter the number please')\n",
    "sum = 0\n",
    "for x in number:\n",
    "    new_num = int(x)\n",
    "    sum+=new_num\n",
    "print(sum)\n",
    "\n"
   ]
  }
 ],
 "metadata": {
  "kernelspec": {
   "display_name": "Python 3",
   "language": "python",
   "name": "python3"
  },
  "language_info": {
   "codemirror_mode": {
    "name": "ipython",
    "version": 3
   },
   "file_extension": ".py",
   "mimetype": "text/x-python",
   "name": "python",
   "nbconvert_exporter": "python",
   "pygments_lexer": "ipython3",
   "version": "3.13.3"
  }
 },
 "nbformat": 4,
 "nbformat_minor": 5
}

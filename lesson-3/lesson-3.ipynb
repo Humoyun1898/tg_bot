{
 "cells": [
  {
   "cell_type": "markdown",
   "id": "cd94730c",
   "metadata": {},
   "source": [
    "LISTS AND TUPLES"
   ]
  },
  {
   "cell_type": "code",
   "execution_count": null,
   "id": "af187c64",
   "metadata": {},
   "outputs": [
    {
     "data": {
      "text/plain": [
       "[]"
      ]
     },
     "execution_count": 6,
     "metadata": {},
     "output_type": "execute_result"
    }
   ],
   "source": [
    "#creating list\n",
    "\n",
    "my_list = ['a','b','c']\n",
    "my_list = list('HELLO') #here each character of hello will be independent element in the list\n",
    "my_list"
   ]
  },
  {
   "cell_type": "code",
   "execution_count": null,
   "id": "a6a60121",
   "metadata": {},
   "outputs": [
    {
     "name": "stdout",
     "output_type": "stream",
     "text": [
      "5\n"
     ]
    },
    {
     "data": {
      "text/plain": [
       "2"
      ]
     },
     "execution_count": 14,
     "metadata": {},
     "output_type": "execute_result"
    }
   ],
   "source": [
    "\n",
    "#object of the list\n",
    "dir(my_list) # showing the objects that can be done with the element\n",
    "print(len(my_list))\n",
    "my_list=['h','e','l','l','o']\n",
    "my_list.count('l') #count how many l there are in the list\n",
    "my_list.index('l') #shows the index of the element in the brackets in the list\n"
   ]
  },
  {
   "cell_type": "code",
   "execution_count": 15,
   "id": "f9c433f9",
   "metadata": {},
   "outputs": [
    {
     "data": {
      "text/plain": [
       "['o', 'l', 'l', 'e', 'h']"
      ]
     },
     "execution_count": 15,
     "metadata": {},
     "output_type": "execute_result"
    }
   ],
   "source": [
    "#REVERSE\n",
    "my_list=['h','e','l','l','o']\n",
    "my_list.reverse()\n",
    "my_list"
   ]
  },
  {
   "cell_type": "code",
   "execution_count": 16,
   "id": "3937336b",
   "metadata": {},
   "outputs": [
    {
     "name": "stdout",
     "output_type": "stream",
     "text": [
      "[12, 13, 14, 15, 65, 77]\n"
     ]
    }
   ],
   "source": [
    "#ADDING NEW ELEMENT TO THE LIST\n",
    "#APPEND\n",
    "my_list = [12,13,14,15,65]\n",
    "my_list.append(77)\n",
    "print(my_list)"
   ]
  },
  {
   "cell_type": "code",
   "execution_count": null,
   "id": "c52d653f",
   "metadata": {},
   "outputs": [
    {
     "name": "stdout",
     "output_type": "stream",
     "text": [
      "['Hello', 'Man', 'World', 'Dears']\n",
      "['Hello', 'Man', 'World', 'HI', 'Dears']\n",
      "['Hello', 'Man', 'World', 'HI', 'Dears', 'so']\n"
     ]
    }
   ],
   "source": [
    "#INSERT\n",
    "my_list = ['Hello', 'World', 'Dears']\n",
    "my_list.insert(1,'Man')\n",
    "print(my_list) # adds the element to the provided index\n",
    "my_list.insert(-1,'HI') # if you use - values index, it adds the element one before the given index\n",
    "print(my_list)\n",
    "my_list.insert(15,'so')# if you put the index that does not exist, it will put it to the end of the list\n",
    "print(my_list)"
   ]
  },
  {
   "cell_type": "code",
   "execution_count": null,
   "id": "1816d460",
   "metadata": {},
   "outputs": [
    {
     "name": "stdout",
     "output_type": "stream",
     "text": [
      "[2, 3, 5, 5, 6, 7]\n"
     ]
    }
   ],
   "source": [
    "#EXTEND\n",
    "my_list = [2,3,5]\n",
    "other_list = [5,6,7]\n",
    "my_list.extend(other_list) #YOU CANNOT PUT INTEGERS TO THE BRACKET\n",
    "print(my_list) # joins two lists\n"
   ]
  },
  {
   "cell_type": "code",
   "execution_count": null,
   "id": "f6bb8903",
   "metadata": {},
   "outputs": [
    {
     "name": "stdout",
     "output_type": "stream",
     "text": [
      "[2, 3, 5, [11, 12, 13]]\n"
     ]
    }
   ],
   "source": [
    "my_list = [2,3,5]\n",
    "other_list = [11,12,13]\n",
    "my_list.append(other_list) #IN THIS CASE WE PUT OTHER LIST AS INDEPENDENT ELEMENT IN THE MY LIST\n",
    "print(my_list)"
   ]
  },
  {
   "cell_type": "code",
   "execution_count": 24,
   "id": "91a91f9e",
   "metadata": {},
   "outputs": [
    {
     "name": "stdout",
     "output_type": "stream",
     "text": [
      "[2, 3, 5, 11, 12, 13]\n"
     ]
    }
   ],
   "source": [
    "#AUGMENTED ASSIGNMENT\n",
    "my_list = [2,3,5]\n",
    "other_list = [11,12,13]\n",
    "my_list += other_list\n",
    "print(my_list) #ALSO ADDS TWO LISTS"
   ]
  },
  {
   "cell_type": "markdown",
   "id": "ce0b31c0",
   "metadata": {},
   "source": [
    "ACCESSING THE ELEMENTS"
   ]
  },
  {
   "cell_type": "code",
   "execution_count": null,
   "id": "a823a157",
   "metadata": {},
   "outputs": [
    {
     "data": {
      "text/plain": [
       "[2, 3, 5, 11, 12, 13]"
      ]
     },
     "execution_count": 25,
     "metadata": {},
     "output_type": "execute_result"
    }
   ],
   "source": [
    "my_list[-1]\n",
    "my_list[2]\n",
    "my_list[1:]"
   ]
  },
  {
   "cell_type": "code",
   "execution_count": null,
   "id": "839eb848",
   "metadata": {},
   "outputs": [
    {
     "name": "stdout",
     "output_type": "stream",
     "text": [
      "[]\n"
     ]
    },
    {
     "data": {
      "text/plain": [
       "6"
      ]
     },
     "execution_count": 33,
     "metadata": {},
     "output_type": "execute_result"
    }
   ],
   "source": [
    "#DELETING THE ELEMENTS IN THE LIST\n",
    "my_list.clear()\n",
    "print(my_list) #deletes all elements in the list\n",
    "my_list =[]\n",
    "my_list = [1,2,3,5,6]\n",
    "my_list.pop(1) # deletes by index and show the deleted number.\n",
    "my_list.pop() # if you dont put index inside the brackets, it will delete the last one and show the deleted element\n",
    "my_list = [1,2,3,5,6]\n",
    "my_list.remove(2) # deletes not by index but by element itself"
   ]
  },
  {
   "cell_type": "code",
   "execution_count": null,
   "id": "8192f3ca",
   "metadata": {},
   "outputs": [
    {
     "name": "stdout",
     "output_type": "stream",
     "text": [
      "[3, 5, 5, 6, 6, 9, 10]\n"
     ]
    }
   ],
   "source": [
    "my_list = [9,10,5,6,3,5,6]\n",
    "my_list.sort() #ascending\n",
    "my_list.sort(reverse=True) #descending\n",
    "print(my_list)\n",
    "#returns anything. You should use print (it is method)"
   ]
  },
  {
   "cell_type": "code",
   "execution_count": null,
   "id": "90d4709f",
   "metadata": {},
   "outputs": [
    {
     "data": {
      "text/plain": [
       "[3, 5, 5, 6, 6, 9, 10]"
      ]
     },
     "execution_count": 37,
     "metadata": {},
     "output_type": "execute_result"
    }
   ],
   "source": [
    "my_list = [9,10,5,6,3,5,6]\n",
    "sorted(my_list) #ascending \n",
    "sorted(my_list,reverse=True) # descending\n"
   ]
  },
  {
   "cell_type": "code",
   "execution_count": 40,
   "id": "be1b4573",
   "metadata": {},
   "outputs": [
    {
     "name": "stdout",
     "output_type": "stream",
     "text": [
      "[1, 3, 5, 6]\n"
     ]
    }
   ],
   "source": [
    "#COPYING\n",
    "my_list = [1,3,5,6]\n",
    "\n",
    "new_list = my_list.copy()\n",
    "print(new_list)\n"
   ]
  }
 ],
 "metadata": {
  "kernelspec": {
   "display_name": "Python 3",
   "language": "python",
   "name": "python3"
  },
  "language_info": {
   "codemirror_mode": {
    "name": "ipython",
    "version": 3
   },
   "file_extension": ".py",
   "mimetype": "text/x-python",
   "name": "python",
   "nbconvert_exporter": "python",
   "pygments_lexer": "ipython3",
   "version": "3.13.3"
  }
 },
 "nbformat": 4,
 "nbformat_minor": 5
}

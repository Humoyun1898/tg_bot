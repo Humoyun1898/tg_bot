{
 "cells": [
  {
   "cell_type": "markdown",
   "id": "9eb376c8",
   "metadata": {},
   "source": [
    "1. Create and Access List Elements.Create a list containing five different fruits and print the third fruit."
   ]
  },
  {
   "cell_type": "code",
   "execution_count": 1,
   "id": "b31506cc",
   "metadata": {},
   "outputs": [
    {
     "name": "stdout",
     "output_type": "stream",
     "text": [
      "banana\n"
     ]
    }
   ],
   "source": [
    "fruits = ['apple','orrange','banana','pineapple','lemon']\n",
    "third_fruit = fruits[2]\n",
    "print(third_fruit)"
   ]
  },
  {
   "cell_type": "markdown",
   "id": "4fc43d2b",
   "metadata": {},
   "source": [
    "2. Concatenate Two Lists.Create two lists of numbers and concatenate them into a single list.\n"
   ]
  },
  {
   "cell_type": "code",
   "execution_count": 5,
   "id": "b94b1f4c",
   "metadata": {},
   "outputs": [
    {
     "name": "stdout",
     "output_type": "stream",
     "text": [
      "[12, 13, 14, 15, 16, 17]\n"
     ]
    }
   ],
   "source": [
    "numbers_1 = [12,13,14]\n",
    "numbers_2 = [15,16,17]\n",
    "new_list = numbers_1 + numbers_2\n",
    "print(new_list)"
   ]
  },
  {
   "cell_type": "markdown",
   "id": "51a34283",
   "metadata": {},
   "source": [
    "3.Given a list of numbers, extract the first, middle, and last elements and store them in a new list."
   ]
  },
  {
   "cell_type": "code",
   "execution_count": 6,
   "id": "b25dc6c3",
   "metadata": {},
   "outputs": [
    {
     "name": "stdout",
     "output_type": "stream",
     "text": [
      "[11, 8, 12]\n"
     ]
    }
   ],
   "source": [
    "numbers = [11,12,5,7,8]\n",
    "new_list = []\n",
    "new_list.append(numbers[0])\n",
    "new_list.append(numbers[-1])\n",
    "new_list.append(numbers[len(numbers)%2])\n",
    "print(new_list)"
   ]
  },
  {
   "cell_type": "markdown",
   "id": "dc0ab609",
   "metadata": {},
   "source": [
    "4.Create a list of your five favorite movies and convert it into a tuple."
   ]
  },
  {
   "cell_type": "code",
   "execution_count": 7,
   "id": "ebe9bdde",
   "metadata": {},
   "outputs": [
    {
     "name": "stdout",
     "output_type": "stream",
     "text": [
      "('Joe Black', 'Avengers', 'Showshank Redemption', 'Forest Hump', 'It')\n"
     ]
    }
   ],
   "source": [
    "my_movies = ['Joe Black', 'Avengers', 'Showshank Redemption', 'Forest Hump', 'It']\n",
    "tuple_movies = tuple(my_movies)\n",
    "print(tuple_movies)"
   ]
  },
  {
   "cell_type": "markdown",
   "id": "b08b6df7",
   "metadata": {},
   "source": [
    "5.Given a list of cities, check if \"Paris\" is in the list and print the result."
   ]
  },
  {
   "cell_type": "code",
   "execution_count": 12,
   "id": "9a1b0cf9",
   "metadata": {},
   "outputs": [
    {
     "name": "stdout",
     "output_type": "stream",
     "text": [
      "it is there\n"
     ]
    }
   ],
   "source": [
    "cities = ['New York','Dehli','Tokyo','Madrid','Paris','Istanbul']\n",
    "number_of_city = cities.count('Paris')\n",
    "if number_of_city == 0:\n",
    "    print('There is no such city')\n",
    "else:\n",
    "    print('it is there')"
   ]
  },
  {
   "cell_type": "markdown",
   "id": "42253563",
   "metadata": {},
   "source": [
    "6. Create a list of numbers and duplicate it without using loops."
   ]
  },
  {
   "cell_type": "code",
   "execution_count": 13,
   "id": "54a7e530",
   "metadata": {},
   "outputs": [
    {
     "name": "stdout",
     "output_type": "stream",
     "text": [
      "[1, 9, 5, 10, 12, 0, 1, 9, 5, 10, 12, 0]\n"
     ]
    }
   ],
   "source": [
    "numbers = [1,9,5,10,12,0]\n",
    "duplicated = numbers * 2\n",
    "print(duplicated)"
   ]
  },
  {
   "cell_type": "markdown",
   "id": "efabd41b",
   "metadata": {},
   "source": [
    "7.Given a list of numbers, swap the first and last elements."
   ]
  },
  {
   "cell_type": "code",
   "execution_count": 23,
   "id": "560e14fa",
   "metadata": {},
   "outputs": [
    {
     "name": "stdout",
     "output_type": "stream",
     "text": [
      "[48, 24, 55, 78, 99, 12]\n"
     ]
    }
   ],
   "source": [
    "list = [12,24,55,78,99,48]\n",
    "first_element = list[0]\n",
    "last_element = list[-1]\n",
    "list.pop(0)\n",
    "list.pop(-1)\n",
    "list.insert(0,last_element)\n",
    "list.append(first_element)\n",
    "print(list)"
   ]
  },
  {
   "cell_type": "markdown",
   "id": "14b5c97d",
   "metadata": {},
   "source": [
    "8.Create a tuple of numbers from 1 to 10 and print a slice from index 3 to 7."
   ]
  },
  {
   "cell_type": "code",
   "execution_count": 25,
   "id": "fee4c797",
   "metadata": {},
   "outputs": [
    {
     "name": "stdout",
     "output_type": "stream",
     "text": [
      "(4, 5, 6, 7)\n"
     ]
    }
   ],
   "source": [
    "tuple = (1,2,3,4,5,6,7,8,9,10)\n",
    "new_tuple = tuple[3:7] \n",
    "print(new_tuple)"
   ]
  },
  {
   "cell_type": "markdown",
   "id": "855a9d03",
   "metadata": {},
   "source": [
    "9. Count Occurrences in a List"
   ]
  },
  {
   "cell_type": "code",
   "execution_count": 26,
   "id": "ff7ffe25",
   "metadata": {},
   "outputs": [
    {
     "name": "stdout",
     "output_type": "stream",
     "text": [
      "2\n"
     ]
    }
   ],
   "source": [
    "colors = ['red','black','blue','purple','orange','yellow','blue']\n",
    "number_of_colors = colors.count('blue')\n",
    "print(number_of_colors)"
   ]
  },
  {
   "cell_type": "markdown",
   "id": "26b7994b",
   "metadata": {},
   "source": [
    "10.Given a tuple of animals, find the index of \"lion\"."
   ]
  },
  {
   "cell_type": "code",
   "execution_count": 27,
   "id": "b6b9983f",
   "metadata": {},
   "outputs": [
    {
     "name": "stdout",
     "output_type": "stream",
     "text": [
      "5\n"
     ]
    }
   ],
   "source": [
    "animals = ('zebra','giraffe', 'cat','cheetah','bear','lion','snake')\n",
    "lion_index = animals.index('lion')\n",
    "print(lion_index)\n"
   ]
  },
  {
   "cell_type": "markdown",
   "id": "8783a2e4",
   "metadata": {},
   "source": [
    "11.Create two tuples of numbers and merge them into a single tuple."
   ]
  },
  {
   "cell_type": "code",
   "execution_count": 28,
   "id": "8b358812",
   "metadata": {},
   "outputs": [
    {
     "name": "stdout",
     "output_type": "stream",
     "text": [
      "(1, 2, 3, 5, 6, 8, 9, 4, 5, 5)\n"
     ]
    }
   ],
   "source": [
    "number_1 = (1,2,3,5,6)\n",
    "number_2 = (8,9,4,5,5)\n",
    "merged = number_1 + number_2\n",
    "print(merged)"
   ]
  },
  {
   "cell_type": "markdown",
   "id": "dee6282c",
   "metadata": {},
   "source": [
    "12.Given a list and a tuple, find and print their lengths."
   ]
  },
  {
   "cell_type": "code",
   "execution_count": null,
   "id": "885873b5",
   "metadata": {},
   "outputs": [
    {
     "name": "stdout",
     "output_type": "stream",
     "text": [
      "6\n",
      "3\n"
     ]
    }
   ],
   "source": [
    "list = [1,2,4,5,6,7]\n",
    "tuple = ('hello','world','guys')\n",
    "list_length =len(list)\n",
    "tuple_lenght = len(tuple)\n",
    "print(len(list))\n",
    "print(len(tuple))"
   ]
  },
  {
   "cell_type": "markdown",
   "id": "936fd1a9",
   "metadata": {},
   "source": [
    "13.Create a tuple of five numbers and convert it into a list."
   ]
  },
  {
   "cell_type": "code",
   "execution_count": null,
   "id": "ed6c98db",
   "metadata": {},
   "outputs": [
    {
     "name": "stdout",
     "output_type": "stream",
     "text": [
      "[1, 2, 3, 5, 7, 8, 19]\n"
     ]
    }
   ],
   "source": [
    "cities = (1,2,3,5,7,8,19)\n",
    "my_list = list(cities)\n",
    "print(my_list)"
   ]
  },
  {
   "cell_type": "markdown",
   "id": "6685fbae",
   "metadata": {},
   "source": [
    "14.Given a tuple of numbers, find and print the maximum and minimum values."
   ]
  },
  {
   "cell_type": "code",
   "execution_count": 37,
   "id": "e00ebebe",
   "metadata": {},
   "outputs": [
    {
     "name": "stdout",
     "output_type": "stream",
     "text": [
      "33\n",
      "1\n"
     ]
    }
   ],
   "source": [
    "numbers = (33,1,2,3,5,8,9)\n",
    "max_number = max(numbers)\n",
    "min_num = min (numbers)\n",
    "print(max_number)\n",
    "print(min_num)"
   ]
  },
  {
   "cell_type": "markdown",
   "id": "5ac837a5",
   "metadata": {},
   "source": [
    "15.Create a tuple of words and print it in reverse order."
   ]
  },
  {
   "cell_type": "code",
   "execution_count": 2,
   "id": "aade538a",
   "metadata": {},
   "outputs": [
    {
     "name": "stdout",
     "output_type": "stream",
     "text": [
      "('Dears', 'My', 'World', 'Hello')\n"
     ]
    }
   ],
   "source": [
    "my_tuple = ('Hello','World','My','Dears')\n",
    "my_tuple[::-1]\n",
    "print(my_tuple[::-1])"
   ]
  },
  {
   "cell_type": "markdown",
   "id": "96a213dc",
   "metadata": {},
   "source": []
  }
 ],
 "metadata": {
  "kernelspec": {
   "display_name": "Python 3",
   "language": "python",
   "name": "python3"
  },
  "language_info": {
   "codemirror_mode": {
    "name": "ipython",
    "version": 3
   },
   "file_extension": ".py",
   "mimetype": "text/x-python",
   "name": "python",
   "nbconvert_exporter": "python",
   "pygments_lexer": "ipython3",
   "version": "3.13.3"
  }
 },
 "nbformat": 4,
 "nbformat_minor": 5
}

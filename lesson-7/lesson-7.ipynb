{
 "cells": [
  {
   "cell_type": "markdown",
   "id": "3e83558c",
   "metadata": {},
   "source": [
    "LIST COMPREHENSION\n"
   ]
  },
  {
   "cell_type": "code",
   "execution_count": 3,
   "id": "f789843b",
   "metadata": {},
   "outputs": [
    {
     "name": "stdout",
     "output_type": "stream",
     "text": [
      "[1, 2, 4, 5, 6, 7, 8]\n",
      "[1, 2, 4, 5, 6, 7, 8]\n"
     ]
    }
   ],
   "source": [
    "numbers  = [1,2,4,5,6,7,8]\n",
    "numbers1 = []\n",
    "for i in numbers:\n",
    "    numbers1.append(i)\n",
    "print(numbers1)\n",
    "\n",
    "numbers2 = numbers.copy()\n",
    "print(numbers2)\n"
   ]
  },
  {
   "cell_type": "code",
   "execution_count": null,
   "id": "2b5d4368",
   "metadata": {},
   "outputs": [
    {
     "name": "stdout",
     "output_type": "stream",
     "text": [
      "[2, 4, 6, 8]\n"
     ]
    }
   ],
   "source": [
    "numbers  = [1,2,4,5,6,7,8]\n",
    "numbers3 = [num for num in numbers if num % 2 ==0]\n",
    "print(numbers3)\n",
    "numbers4 = [num + 1 for num in numbers if num % 2 == 0]"
   ]
  },
  {
   "cell_type": "code",
   "execution_count": 6,
   "id": "e799c762",
   "metadata": {},
   "outputs": [
    {
     "name": "stdout",
     "output_type": "stream",
     "text": [
      "[[2, 4, 6], [8, 10, 12], [14, 16, 18]]\n"
     ]
    }
   ],
   "source": [
    "matrix = [[1,2,3],\n",
    "          [4,5,6],\n",
    "          [7,8,9]]\n",
    "new_list = [[value*2 for value in each] for each in matrix]\n",
    "print(new_list)"
   ]
  },
  {
   "cell_type": "markdown",
   "id": "aa636479",
   "metadata": {},
   "source": [
    "DICTIONARY COMPREHENSION"
   ]
  },
  {
   "cell_type": "code",
   "execution_count": 12,
   "id": "b14b25ef",
   "metadata": {},
   "outputs": [
    {
     "name": "stdout",
     "output_type": "stream",
     "text": [
      "(0, 'a')\n",
      "(1, 'b')\n",
      "(2, 'c')\n",
      "(3, 'd')\n",
      "(4, 'e')\n",
      "{0: 'a', 1: 'b', 2: 'c', 3: 'd', 4: 'e'}\n"
     ]
    }
   ],
   "source": [
    "my_dict = enumerate('abcde')\n",
    "for i in my_dict:\n",
    "    print(i)\n",
    "\n",
    "for value,key in my_dict:\n",
    "    print(key,value)\n",
    "\n",
    "new_dict = {key:value for key,value in enumerate('abcde')}\n",
    "print(new_dict)"
   ]
  },
  {
   "cell_type": "code",
   "execution_count": 16,
   "id": "f32c2e02",
   "metadata": {},
   "outputs": [
    {
     "name": "stdout",
     "output_type": "stream",
     "text": [
      "dict_items([('apple', 6), ('orange', 9), ('melon', 15), ('watermelon', 11)])\n",
      "{'apple': 12, 'orange': 18, 'melon': 30, 'watermelon': 22}\n"
     ]
    }
   ],
   "source": [
    "fruits = {'apple':6, 'orange':9, 'melon':15,'watermelon':11}\n",
    "print(fruits.items())\n",
    "\n",
    "new_fruits = {key:value*2 for key,value in fruits.items() if value>0}\n",
    "print(new_fruits)"
   ]
  },
  {
   "cell_type": "markdown",
   "id": "697b79f4",
   "metadata": {},
   "source": [
    "SET COMPREHENSION "
   ]
  },
  {
   "cell_type": "code",
   "execution_count": 17,
   "id": "dad1570a",
   "metadata": {},
   "outputs": [
    {
     "name": "stdout",
     "output_type": "stream",
     "text": [
      "{2.5, 3.0, 5.5}\n"
     ]
    }
   ],
   "source": [
    "my_set = {1,1,2,3,5,5,6,2,6,11,4}\n",
    "new_set = {i*0.5 for i in my_set if i >4}\n",
    "print(new_set)"
   ]
  },
  {
   "cell_type": "markdown",
   "id": "789712f9",
   "metadata": {},
   "source": [
    "### FUNCTIONS\n",
    "function_name should all in lower case and underscres should be used to seperate the words"
   ]
  },
  {
   "cell_type": "code",
   "execution_count": 19,
   "id": "478e7739",
   "metadata": {},
   "outputs": [],
   "source": [
    "def my_function():\n",
    "    pass"
   ]
  },
  {
   "cell_type": "code",
   "execution_count": 20,
   "id": "c74f021d",
   "metadata": {},
   "outputs": [
    {
     "name": "stdout",
     "output_type": "stream",
     "text": [
      "Hello\n"
     ]
    }
   ],
   "source": [
    "def my_function():\n",
    "    print('Hello')\n",
    "my_function()"
   ]
  },
  {
   "cell_type": "code",
   "execution_count": 21,
   "id": "5be8ce6f",
   "metadata": {},
   "outputs": [
    {
     "name": "stdout",
     "output_type": "stream",
     "text": [
      "Hello:  John\n"
     ]
    }
   ],
   "source": [
    "def welcome(name):\n",
    "    print('Hello: ', name)\n",
    "\n",
    "welcome('John')"
   ]
  },
  {
   "cell_type": "code",
   "execution_count": null,
   "id": "fe07cb29",
   "metadata": {},
   "outputs": [
    {
     "name": "stdout",
     "output_type": "stream",
     "text": [
      "This is the print inside the return,John\n"
     ]
    }
   ],
   "source": [
    "#type hinting argumets\n",
    "def welcome(name:str):\n",
    "    return f'This is the print inside the return,{name}'\n",
    "\n",
    "new_function = welcome('John')\n",
    "\n",
    "print(new_function)"
   ]
  },
  {
   "cell_type": "code",
   "execution_count": 26,
   "id": "261b4759",
   "metadata": {},
   "outputs": [
    {
     "name": "stdout",
     "output_type": "stream",
     "text": [
      "Hello Anna, you are 25 years old\n"
     ]
    }
   ],
   "source": [
    "def welcome(name:str,age:int):\n",
    "    print(f'Hello {name}, you are {age} years old')\n",
    "\n",
    "welcome('Anna', 25)"
   ]
  },
  {
   "cell_type": "code",
   "execution_count": 30,
   "id": "ca03f73f",
   "metadata": {},
   "outputs": [
    {
     "name": "stdout",
     "output_type": "stream",
     "text": [
      "Hello,Son. You are 25 years old\n"
     ]
    },
    {
     "data": {
      "text/plain": [
       "20"
      ]
     },
     "execution_count": 30,
     "metadata": {},
     "output_type": "execute_result"
    }
   ],
   "source": [
    "def welcom(name:str, age:int):\n",
    "    print(f'Hello,{name}. You are {age} years old')\n",
    "    return age-5\n",
    "\n",
    "welcom('Son',25)\n"
   ]
  },
  {
   "cell_type": "code",
   "execution_count": 32,
   "id": "bdc1fabe",
   "metadata": {},
   "outputs": [
    {
     "name": "stdout",
     "output_type": "stream",
     "text": [
      "(1, 2, 5, 3, 3, 5, 10, 'baby', 11)\n"
     ]
    }
   ],
   "source": [
    "def my_func (*args):\n",
    "    print(args)\n",
    "\n",
    "my_func(1,2,5,3,3,5,10,'baby',11)"
   ]
  },
  {
   "cell_type": "code",
   "execution_count": 31,
   "id": "ccec5a1a",
   "metadata": {},
   "outputs": [
    {
     "name": "stdout",
     "output_type": "stream",
     "text": [
      "1\n",
      "2\n",
      "5\n",
      "3\n",
      "3\n",
      "5\n",
      "10\n",
      "baby\n",
      "11\n"
     ]
    }
   ],
   "source": [
    "def my_func (*args):\n",
    "    for arg in args:\n",
    "        print(arg)\n",
    "\n",
    "my_func(1,2,5,3,3,5,10,'baby',11)"
   ]
  },
  {
   "cell_type": "code",
   "execution_count": 33,
   "id": "1007502c",
   "metadata": {},
   "outputs": [
    {
     "name": "stdout",
     "output_type": "stream",
     "text": [
      "The name is HUMOYUN, the age is 25, the other arguments are (2424, 52, 'SSS')\n"
     ]
    }
   ],
   "source": [
    "def my_funktion (name:str, age:int,*args):\n",
    "    print(f'The name is {name}, the age is {age}, the other arguments are {args}')\n",
    "\n",
    "my_funktion('HUMOYUN',25,2424,52,'SSS')"
   ]
  },
  {
   "cell_type": "markdown",
   "id": "c708fe48",
   "metadata": {},
   "source": [
    "### KWARGS\n"
   ]
  },
  {
   "cell_type": "code",
   "execution_count": 34,
   "id": "c5028cff",
   "metadata": {},
   "outputs": [
    {
     "name": "stdout",
     "output_type": "stream",
     "text": [
      "Hello 25, you are John years old\n"
     ]
    }
   ],
   "source": [
    "def welcome(name,age):\n",
    "    print(f'Hello {name}, you are {age} years old')\n",
    "\n",
    "welcome (name=25,age='John')"
   ]
  },
  {
   "cell_type": "code",
   "execution_count": 35,
   "id": "d7aada28",
   "metadata": {},
   "outputs": [
    {
     "name": "stdout",
     "output_type": "stream",
     "text": [
      "Hello John, you are 25 years old\n"
     ]
    }
   ],
   "source": [
    "def welcome(name,age = 25):\n",
    "    print(f'Hello {name}, you are {age} years old')\n",
    "\n",
    "welcome ('John')"
   ]
  },
  {
   "cell_type": "code",
   "execution_count": null,
   "id": "3a9db70d",
   "metadata": {},
   "outputs": [
    {
     "ename": "TypeError",
     "evalue": "kwargss() got an unexpected keyword argument 'name'",
     "output_type": "error",
     "traceback": [
      "\u001b[31m---------------------------------------------------------------------------\u001b[39m",
      "\u001b[31mTypeError\u001b[39m                                 Traceback (most recent call last)",
      "\u001b[36mCell\u001b[39m\u001b[36m \u001b[39m\u001b[32mIn[38]\u001b[39m\u001b[32m, line 4\u001b[39m\n\u001b[32m      1\u001b[39m \u001b[38;5;28;01mdef\u001b[39;00m\u001b[38;5;250m \u001b[39m\u001b[34mkwargss\u001b[39m(*kwargs):\n\u001b[32m      2\u001b[39m     \u001b[38;5;28mprint\u001b[39m (kwargs)\n\u001b[32m----> \u001b[39m\u001b[32m4\u001b[39m \u001b[43mkwargss\u001b[49m\u001b[43m(\u001b[49m\u001b[43mname\u001b[49m\u001b[43m \u001b[49m\u001b[43m=\u001b[49m\u001b[43m \u001b[49m\u001b[33;43m'\u001b[39;49m\u001b[33;43mJohn\u001b[39;49m\u001b[33;43m'\u001b[39;49m\u001b[43m,\u001b[49m\u001b[43mage\u001b[49m\u001b[43m \u001b[49m\u001b[43m=\u001b[49m\u001b[43m \u001b[49m\u001b[32;43m50\u001b[39;49m\u001b[43m)\u001b[49m\n",
      "\u001b[31mTypeError\u001b[39m: kwargss() got an unexpected keyword argument 'name'"
     ]
    }
   ],
   "source": [
    "def kwargss(**kwargs):\n",
    "    print (kwargs)\n",
    "\n",
    "kwargss(name = 'John',age = 50)"
   ]
  }
 ],
 "metadata": {
  "kernelspec": {
   "display_name": "Python 3",
   "language": "python",
   "name": "python3"
  },
  "language_info": {
   "codemirror_mode": {
    "name": "ipython",
    "version": 3
   },
   "file_extension": ".py",
   "mimetype": "text/x-python",
   "name": "python",
   "nbconvert_exporter": "python",
   "pygments_lexer": "ipython3",
   "version": "3.13.3"
  }
 },
 "nbformat": 4,
 "nbformat_minor": 5
}

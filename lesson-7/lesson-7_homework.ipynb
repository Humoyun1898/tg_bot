{
 "cells": [
  {
   "cell_type": "markdown",
   "id": "0956cad3",
   "metadata": {},
   "source": [
    "1.is_prime(n) funksiyasini hosil qiling (n > 0). Agar n soni tub bo'lsa True, aks holda False qiymat qaytarsin."
   ]
  },
  {
   "cell_type": "code",
   "execution_count": 1,
   "id": "af7be82f",
   "metadata": {},
   "outputs": [
    {
     "name": "stdout",
     "output_type": "stream",
     "text": [
      "True\n"
     ]
    }
   ],
   "source": [
    "def is_prime(n):\n",
    "    prime = True\n",
    "    if n > 1:\n",
    "        for x in range(2,int(n**0.5) + 1):\n",
    "            if n % x == 0:\n",
    "                prime = False\n",
    "                break\n",
    "    else:\n",
    "        prime = False\n",
    "\n",
    "    if prime == True:\n",
    "        return True\n",
    "    else:\n",
    "        return False\n",
    "print (is_prime(7))"
   ]
  },
  {
   "cell_type": "markdown",
   "id": "fed6fb21",
   "metadata": {},
   "source": [
    "2.digit_sum(k) funksiyasini yozing, u k sonining raqamlari yig'indisini hisoblaydi."
   ]
  },
  {
   "cell_type": "code",
   "execution_count": null,
   "id": "ce32a736",
   "metadata": {},
   "outputs": [],
   "source": [
    "def digit_sum(k:int):\n",
    "    new_list = [int(x) for x in str(abs(k))]\n",
    "    return sum(new_list)\n",
    "\n",
    "print(digit_sum(52))"
   ]
  },
  {
   "cell_type": "markdown",
   "id": "6eb2aca8",
   "metadata": {},
   "source": [
    "3.Berilgan N sonidan oshmaydigan barcha 2 ning darajalarini (ya'ni, 2**k shaklidagi sonlarni) chop etuvchi funksiyani yozing.\n",
    "\n"
   ]
  },
  {
   "cell_type": "code",
   "execution_count": null,
   "id": "e5a8db8f",
   "metadata": {},
   "outputs": [],
   "source": [
    "def power_of_two (n):\n",
    "    m = 1\n",
    "    while 2**m <= n:\n",
    "        print(2**m, end=' ')\n",
    "        m += 1\n",
    "power_of_two(17)\n"
   ]
  }
 ],
 "metadata": {
  "kernelspec": {
   "display_name": "Python 3",
   "language": "python",
   "name": "python3"
  },
  "language_info": {
   "codemirror_mode": {
    "name": "ipython",
    "version": 3
   },
   "file_extension": ".py",
   "mimetype": "text/x-python",
   "name": "python",
   "nbconvert_exporter": "python",
   "pygments_lexer": "ipython3",
   "version": "3.13.3"
  }
 },
 "nbformat": 4,
 "nbformat_minor": 5
}

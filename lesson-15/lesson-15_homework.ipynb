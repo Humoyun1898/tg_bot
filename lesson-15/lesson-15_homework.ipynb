{
 "cells": [
  {
   "cell_type": "markdown",
   "id": "a7311c4b",
   "metadata": {},
   "source": [
    "1.Age Calculator: Ask the user to enter their birthdate. Calculate and print their age in years, months, and days.\n"
   ]
  },
  {
   "cell_type": "code",
   "execution_count": 34,
   "id": "2b6a8d56",
   "metadata": {},
   "outputs": [],
   "source": [
    "import datetime\n",
    "from datetime import datetime, date"
   ]
  },
  {
   "cell_type": "code",
   "execution_count": 22,
   "id": "e1fd02eb",
   "metadata": {},
   "outputs": [
    {
     "name": "stdout",
     "output_type": "stream",
     "text": [
      "20 years 2 months 6 days\n"
     ]
    }
   ],
   "source": [
    "birth_date = input('Enter your birthdate?')\n",
    "corrected_birth_date = datetime.strptime(birth_date, '%d %B, %Y')\n",
    "current_date = datetime.today()\n",
    "current_date_month = current_date.month\n",
    "current_date_day = current_date.day\n",
    "current_date_year = current_date.year\n",
    "\n",
    "year = current_date_year - corrected_birth_date.year\n",
    "month = current_date_month - corrected_birth_date.month\n",
    "day = current_date_day - corrected_birth_date.day\n",
    "\n",
    "if month < 0:\n",
    "    year -= 1\n",
    "    month += 12\n",
    "\n",
    "if day < 0:\n",
    "    month -= 12\n",
    "    day = (datetime(current_date_year, current_date_month,1)- datetime(current_date_year,current_date_month - 1,1)).days\n",
    "\n",
    "print(f'{year} years',f'{month} months',f'{day} days')"
   ]
  },
  {
   "cell_type": "markdown",
   "id": "cc59bc73",
   "metadata": {},
   "source": [
    "2.Days Until Next Birthday: Similar to the first exercise, but this time, calculate and print the number of days remaining until the user's next birthday."
   ]
  },
  {
   "cell_type": "code",
   "execution_count": null,
   "id": "82e03a4a",
   "metadata": {},
   "outputs": [
    {
     "name": "stdout",
     "output_type": "stream",
     "text": [
      "2025-04-12\n",
      "2011-04-12 00:00:00\n",
      "2025-06-23\n",
      "293\n"
     ]
    }
   ],
   "source": [
    "birth_date = input('Enter your birthdate?')\n",
    "corrected_birth_date = datetime.strptime(birth_date, '%d %B, %Y')\n",
    "\n",
    "today = date.today()\n",
    "\n",
    "this_year_birthday = date(today.year,corrected_birth_date.month,corrected_birth_date.day)\n",
    "\n",
    "\n",
    "if today > this_year_birthday:\n",
    "    next_birthday = date(today.year + 1, corrected_birth_date.month, corrected_birth_date.day)\n",
    "else:\n",
    "    next_birthday = this_year_birthday\n",
    "\n",
    "days_left = (next_birthday - today).days\n",
    "print(days_left)"
   ]
  },
  {
   "cell_type": "markdown",
   "id": "4c24b8fc",
   "metadata": {},
   "source": [
    "3. Meeting Scheduler: Ask the user to enter the current date and time, as well as the duration of a meeting in hours and minutes. Calculate and print the date and time when the meeting will end."
   ]
  },
  {
   "cell_type": "code",
   "execution_count": null,
   "id": "c1acd05d",
   "metadata": {},
   "outputs": [
    {
     "name": "stdout",
     "output_type": "stream",
     "text": [
      "2:30:00\n",
      "2025-06-24 15:45:47.035322\n"
     ]
    }
   ],
   "source": [
    "import datetime\n",
    "from datetime import datetime, time, timedelta\n",
    "today = datetime.today()\n",
    "duration = input('Enter the duration, please (in this format\"02:30\"')\n",
    "hours, minutes = map(int, duration.split(':'))\n",
    "delta = timedelta(hours=hours, minutes=minutes)\n",
    "end_time = today + delta\n",
    "print(end_time)\n"
   ]
  },
  {
   "cell_type": "markdown",
   "id": "35b48c5d",
   "metadata": {},
   "source": [
    "4.Timezone Converter: Create a program that allows the user to enter a date and time along with their current timezone, and then convert and print the date and time in another timezone of their choice."
   ]
  },
  {
   "cell_type": "code",
   "execution_count": null,
   "id": "ba0d7bbe",
   "metadata": {},
   "outputs": [
    {
     "ename": "AttributeError",
     "evalue": "'datetime.datetime' object has no attribute 'localize'",
     "output_type": "error",
     "traceback": [
      "\u001b[31m---------------------------------------------------------------------------\u001b[39m",
      "\u001b[31mAttributeError\u001b[39m                            Traceback (most recent call last)",
      "\u001b[36mCell\u001b[39m\u001b[36m \u001b[39m\u001b[32mIn[20]\u001b[39m\u001b[32m, line 7\u001b[39m\n\u001b[32m      4\u001b[39m current_datetime = datetime.strptime(time,\u001b[33m'\u001b[39m\u001b[38;5;132;01m%d\u001b[39;00m\u001b[33m/\u001b[39m\u001b[33m%\u001b[39m\u001b[33mm/\u001b[39m\u001b[33m%\u001b[39m\u001b[33mY \u001b[39m\u001b[33m%\u001b[39m\u001b[33mH:\u001b[39m\u001b[33m%\u001b[39m\u001b[33mM:\u001b[39m\u001b[33m%\u001b[39m\u001b[33mS\u001b[39m\u001b[33m'\u001b[39m)\n\u001b[32m      6\u001b[39m current_time_zone = pytz.timezone(timezone)\n\u001b[32m----> \u001b[39m\u001b[32m7\u001b[39m current_time = \u001b[43mcurrent_datetime\u001b[49m\u001b[43m.\u001b[49m\u001b[43mlocalize\u001b[49m(current_time_zone)\n\u001b[32m      8\u001b[39m \u001b[38;5;28mprint\u001b[39m(current_time)\n\u001b[32m      9\u001b[39m another_time_zone = \u001b[33m'\u001b[39m\u001b[33mAmerica/New_York\u001b[39m\u001b[33m'\u001b[39m\n",
      "\u001b[31mAttributeError\u001b[39m: 'datetime.datetime' object has no attribute 'localize'"
     ]
    }
   ],
   "source": [
    "import pytz\n",
    "time = input('Give me current datetime')\n",
    "timezone = input ('Give me a timezone')\n",
    "another_time_zone = input('Give me timezone you want to switch to')\n",
    "\n",
    "current_datetime = datetime.strptime(time,'%d/%m/%Y %H:%M:%S')\n",
    "\n",
    "current_time_zone = pytz.timezone(timezone)\n",
    "current_time = current_time_zone.localize(current_datetime)\n",
    "\n",
    "another_time_zone = 'America/New_York'\n",
    "another_time_zone_pytz = pytz.timezone(another_time_zone)\n",
    "another_time = current_time.astimezone(another_time_zone_pytz)\n",
    "print(another_time)"
   ]
  },
  {
   "cell_type": "markdown",
   "id": "4b92ca53",
   "metadata": {},
   "source": [
    "5.Countdown Timer: Implement a countdown timer. Ask the user to input a future date and time, and then continuously print the time remaining until that point in regular intervals (e.g., every second)."
   ]
  },
  {
   "cell_type": "code",
   "execution_count": 23,
   "id": "97377b13",
   "metadata": {},
   "outputs": [
    {
     "name": "stdout",
     "output_type": "stream",
     "text": [
      "10\n",
      "11\n",
      "12\n",
      "13\n",
      "14\n",
      "15\n"
     ]
    },
    {
     "ename": "KeyboardInterrupt",
     "evalue": "",
     "output_type": "error",
     "traceback": [
      "\u001b[31m---------------------------------------------------------------------------\u001b[39m",
      "\u001b[31mKeyboardInterrupt\u001b[39m                         Traceback (most recent call last)",
      "\u001b[36mCell\u001b[39m\u001b[36m \u001b[39m\u001b[32mIn[23]\u001b[39m\u001b[32m, line 10\u001b[39m\n\u001b[32m      8\u001b[39m     \u001b[38;5;28;01mbreak\u001b[39;00m\n\u001b[32m      9\u001b[39m \u001b[38;5;28mprint\u001b[39m(today.second)\n\u001b[32m---> \u001b[39m\u001b[32m10\u001b[39m \u001b[43mtime\u001b[49m\u001b[43m.\u001b[49m\u001b[43msleep\u001b[49m\u001b[43m(\u001b[49m\u001b[32;43m1\u001b[39;49m\u001b[43m)\u001b[49m\n",
      "\u001b[31mKeyboardInterrupt\u001b[39m: "
     ]
    }
   ],
   "source": [
    "import time\n",
    "date_str = '24/06/2025 20:04:00'\n",
    "datetime_format = datetime.strptime(date_str,'%d/%m/%Y %H:%M:%S')\n",
    "\n",
    "while True:\n",
    "    today = datetime.today()\n",
    "    if today>datetime_format:\n",
    "        break\n",
    "    print(today.second)\n",
    "    time.sleep(1)"
   ]
  },
  {
   "cell_type": "markdown",
   "id": "8e2383a1",
   "metadata": {},
   "source": [
    "6.Email Validator: Write a program that validates email addresses. Ask the user to input an email address, and check if it follows a valid email format."
   ]
  },
  {
   "cell_type": "code",
   "execution_count": 26,
   "id": "e2de4a31",
   "metadata": {},
   "outputs": [
    {
     "name": "stdout",
     "output_type": "stream",
     "text": [
      "Valid\n"
     ]
    }
   ],
   "source": [
    "import re\n",
    "email = input('Enter your email: ')\n",
    "pattern = r'^[a-zA-Z0-9._%+-]+@[a-zA-Z0-9.-]+\\.[a-zA-Z]{2,}$'\n",
    "\n",
    "if re.match(pattern, email):\n",
    "    print('Valid')\n",
    "else:\n",
    "    print('Not valid')"
   ]
  },
  {
   "cell_type": "markdown",
   "id": "2a4fe973",
   "metadata": {},
   "source": [
    "7.Phone Number Formatter: Create a program that takes a phone number as input and formats it according to a standard format. For example, convert \"1234567890\" to \"(123) 456-7890\"."
   ]
  },
  {
   "cell_type": "code",
   "execution_count": null,
   "id": "a6aba8e5",
   "metadata": {},
   "outputs": [
    {
     "name": "stdout",
     "output_type": "stream",
     "text": [
      "['1', '2', '3', '4', '5', '6', '7', '8', '9', '0']\n",
      "(123) 456-7890\n"
     ]
    }
   ],
   "source": [
    "number = \"+1234567890\"\n",
    "valid_phone_chars = ['+', '-', '(', ')', ' ']\n",
    "\n",
    "new_list =[]\n",
    "for x in number:\n",
    "    new_list.append(x)\n",
    "\n",
    "for y in new_list:\n",
    "    if y in valid_phone_chars:\n",
    "        new_list.remove(y)\n",
    "if len(new_list) == 10:\n",
    "    formatted_number = '(' + f'{new_list[0]}' + f'{new_list[1]}' + f'{new_list[2]}' + ') ' + f'{new_list[3]}' + f'{new_list[4]}' + f'{new_list[5]}' + '-' + f'{new_list[6]}' + f'{new_list[7]}' + f'{new_list[8]}' + f'{new_list[9]}'\n",
    "    print(formatted_number)\n",
    "else:\n",
    "    print('Not valid format')"
   ]
  },
  {
   "cell_type": "markdown",
   "id": "3bdf889d",
   "metadata": {},
   "source": [
    "8. Password Strength Checker: Implement a password strength checker. Ask the user to input a password and check if it meets certain criteria (e.g., minimum length, contains at least one uppercase letter, one lowercase letter, and one digit)."
   ]
  },
  {
   "cell_type": "code",
   "execution_count": null,
   "id": "429da905",
   "metadata": {},
   "outputs": [
    {
     "name": "stdout",
     "output_type": "stream",
     "text": [
      "It is medium password\n"
     ]
    }
   ],
   "source": [
    "password = input('Enter your password')\n",
    "\n",
    "if len(password) < 6:\n",
    "    print('It is weak password')\n",
    "elif re.search(r'[a-zA-Z]', password) and re.search('[0-9]', password) and 6<=len(password)<10:\n",
    "    print('It is medium password')\n",
    "elif re.search(r'[a-zA-Z]', password) and re.search(r'[0-9]', password) and re.search(r'[._%+-]',password) and len(password) >= 10:\n",
    "    print('It is hard level password')\n",
    "else:\n",
    "    print('⚠️ Password does not meet any clear strength level')\n"
   ]
  },
  {
   "cell_type": "markdown",
   "id": "7ae5aaac",
   "metadata": {},
   "source": [
    "9. Word Finder: Develop a program that finds all occurrences of a specific word in a given text. Ask the user to input a word, and then search for and print all occurrences of that word in a sample text."
   ]
  },
  {
   "cell_type": "code",
   "execution_count": null,
   "id": "1b285d1a",
   "metadata": {},
   "outputs": [
    {
     "name": "stdout",
     "output_type": "stream",
     "text": [
      "It occured 1 times\n"
     ]
    }
   ],
   "source": [
    "text = 'Word Finder: Develop a program that finds all occurrences of a specific word in a given text. Ask the user to input a word, and then search for and print all occurrences of that word in a sample text.'\n",
    "given_word = input('Write a word that you want to find')\n",
    "times = re.findall(rf'\\b{re.escape(given_word)}\\b', text, flags=re.IGNORECASE)\n",
    "\n",
    "if len(times) > 0:\n",
    "    print(f'It occures {len(times)} times')\n",
    "else:\n",
    "    print('There is no such word')"
   ]
  },
  {
   "cell_type": "markdown",
   "id": "a91e10ad",
   "metadata": {},
   "source": [
    "10.Date Extractor: Write a program that extracts dates from a given text. Ask the user to input a text, and then identify and print all the dates present in the text."
   ]
  },
  {
   "cell_type": "code",
   "execution_count": null,
   "id": "a7a19751",
   "metadata": {},
   "outputs": [],
   "source": [
    "import re\n",
    "\n",
    "text = input(\"Enter a text containing dates: \")\n",
    "\n",
    "pattern = r'\\d{2}[/-]\\d{2}[/-]\\d{4}'\n",
    "\n",
    "dates = re.findall(pattern, text)\n",
    "\n",
    "if len(dates) > 0:\n",
    "    print(f'Time occures {len(times)} times')\n",
    "else:\n",
    "    print('There is no time')"
   ]
  }
 ],
 "metadata": {
  "kernelspec": {
   "display_name": "Python 3",
   "language": "python",
   "name": "python3"
  },
  "language_info": {
   "codemirror_mode": {
    "name": "ipython",
    "version": 3
   },
   "file_extension": ".py",
   "mimetype": "text/x-python",
   "name": "python",
   "nbconvert_exporter": "python",
   "pygments_lexer": "ipython3",
   "version": "undefined.undefined.undefined"
  }
 },
 "nbformat": 4,
 "nbformat_minor": 5
}

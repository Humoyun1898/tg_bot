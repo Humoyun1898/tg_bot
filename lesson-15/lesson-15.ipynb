{
 "cells": [
  {
   "cell_type": "markdown",
   "id": "2061736b",
   "metadata": {},
   "source": [
    "### datetime, Regex"
   ]
  },
  {
   "cell_type": "markdown",
   "id": "cca2c67d",
   "metadata": {},
   "source": [
    "Datetime module is used to work with datetime objects in python"
   ]
  },
  {
   "cell_type": "code",
   "execution_count": null,
   "id": "87436c3a",
   "metadata": {},
   "outputs": [
    {
     "ename": "AttributeError",
     "evalue": "module 'datetime' has no attribute 'now'",
     "output_type": "error",
     "traceback": [
      "\u001b[31m---------------------------------------------------------------------------\u001b[39m",
      "\u001b[31mAttributeError\u001b[39m                            Traceback (most recent call last)",
      "\u001b[36mCell\u001b[39m\u001b[36m \u001b[39m\u001b[32mIn[5]\u001b[39m\u001b[32m, line 8\u001b[39m\n\u001b[32m      4\u001b[39m datetime.UTC\n\u001b[32m      6\u001b[39m datetime.datetime.now()\n\u001b[32m----> \u001b[39m\u001b[32m8\u001b[39m \u001b[43mdatetime\u001b[49m\u001b[43m.\u001b[49m\u001b[43mnow\u001b[49m()\n",
      "\u001b[31mAttributeError\u001b[39m: module 'datetime' has no attribute 'now'"
     ]
    }
   ],
   "source": [
    "import datetime \n",
    "dir(datetime)\n",
    "\n",
    "datetime.UTC\n",
    "\n",
    "datetime.datetime.now()\n"
   ]
  },
  {
   "cell_type": "code",
   "execution_count": 6,
   "id": "58f03a02",
   "metadata": {},
   "outputs": [
    {
     "data": {
      "text/plain": [
       "datetime.date(2025, 6, 20)"
      ]
     },
     "execution_count": 6,
     "metadata": {},
     "output_type": "execute_result"
    }
   ],
   "source": [
    "datetime.date.today()"
   ]
  },
  {
   "cell_type": "code",
   "execution_count": 11,
   "id": "d5fce9e7",
   "metadata": {},
   "outputs": [
    {
     "name": "stdout",
     "output_type": "stream",
     "text": [
      "2021-06-02\n"
     ]
    }
   ],
   "source": [
    "from datetime import date\n",
    "\n",
    "my_date = date(2020,10,5)\n",
    "my_date\n",
    "\n",
    "year = 2021\n",
    "month = 6\n",
    "day = 2\n",
    "\n",
    "my_d= date(year, month, day)\n",
    "print(my_d)"
   ]
  },
  {
   "cell_type": "code",
   "execution_count": 13,
   "id": "88825090",
   "metadata": {},
   "outputs": [
    {
     "data": {
      "text/plain": [
       "datetime.date(2033, 5, 18)"
      ]
     },
     "execution_count": 13,
     "metadata": {},
     "output_type": "execute_result"
    }
   ],
   "source": [
    "# we give the number of second and it will return a date by adding the provided seconds to 1970 January 1 UTC\n",
    "\n",
    "from datetime import date\n",
    "\n",
    "timestamp = date.fromtimestamp(2000000000)\n",
    "timestamp"
   ]
  },
  {
   "cell_type": "code",
   "execution_count": 14,
   "id": "5bafcbf3",
   "metadata": {},
   "outputs": [
    {
     "data": {
      "text/plain": [
       "4"
      ]
     },
     "execution_count": 14,
     "metadata": {},
     "output_type": "execute_result"
    }
   ],
   "source": [
    "today = date.today()\n",
    "today.year\n",
    "today.day\n",
    "today.month\n",
    "today.weekday()"
   ]
  },
  {
   "cell_type": "markdown",
   "id": "f122fc99",
   "metadata": {},
   "source": [
    "datetime.time class"
   ]
  },
  {
   "cell_type": "code",
   "execution_count": 19,
   "id": "6720b5c0",
   "metadata": {},
   "outputs": [
    {
     "name": "stdout",
     "output_type": "stream",
     "text": [
      "20:19:55.000049\n",
      "20\n",
      "19\n"
     ]
    }
   ],
   "source": [
    "from datetime import time\n",
    "\n",
    "time (20,18,55,666999)\n",
    "\n",
    "my_time = time(20,19,55,49)\n",
    "\n",
    "my_time.microsecond\n",
    "\n",
    "print(my_time)\n",
    "\n",
    "print(my_time.hour)\n",
    "print(my_time.minute)"
   ]
  },
  {
   "cell_type": "markdown",
   "id": "71d75bf4",
   "metadata": {},
   "source": [
    "### datetime.datetime class"
   ]
  },
  {
   "cell_type": "code",
   "execution_count": 22,
   "id": "180e182b",
   "metadata": {},
   "outputs": [
    {
     "name": "stdout",
     "output_type": "stream",
     "text": [
      "2025-05-22 09:23:55.000692\n",
      "2025-05-05 04:00:00\n"
     ]
    }
   ],
   "source": [
    "from datetime import datetime\n",
    "\n",
    "my_datetime = datetime(2025,5,22,9,23,55,692)\n",
    "print(my_datetime)\n",
    "\n",
    "my_datetime1 = datetime(2025,5,5,4)\n",
    "print(my_datetime1)"
   ]
  },
  {
   "cell_type": "code",
   "execution_count": 28,
   "id": "7368b2aa",
   "metadata": {},
   "outputs": [
    {
     "name": "stdout",
     "output_type": "stream",
     "text": [
      "118 days, 10:24:46.215447\n"
     ]
    }
   ],
   "source": [
    "from datetime import timedelta\n",
    "\n",
    "t1 = datetime(2025,2,22,9,23,50,550)\n",
    "t2 = datetime.now()\n",
    "delta = t2-t1\n",
    "print(delta)\n"
   ]
  },
  {
   "cell_type": "code",
   "execution_count": 29,
   "id": "397f99c7",
   "metadata": {},
   "outputs": [
    {
     "ename": "TypeError",
     "evalue": "unsupported operand type(s) for -: 'datetime.time' and 'datetime.time'",
     "output_type": "error",
     "traceback": [
      "\u001b[31m---------------------------------------------------------------------------\u001b[39m",
      "\u001b[31mTypeError\u001b[39m                                 Traceback (most recent call last)",
      "\u001b[36mCell\u001b[39m\u001b[36m \u001b[39m\u001b[32mIn[29]\u001b[39m\u001b[32m, line 5\u001b[39m\n\u001b[32m      2\u001b[39m t1 = time (\u001b[32m20\u001b[39m,\u001b[32m22\u001b[39m,\u001b[32m35\u001b[39m,\u001b[32m50\u001b[39m)\n\u001b[32m      3\u001b[39m t2 = time (\u001b[32m18\u001b[39m,\u001b[32m55\u001b[39m,\u001b[32m10\u001b[39m,\u001b[32m60\u001b[39m)\n\u001b[32m----> \u001b[39m\u001b[32m5\u001b[39m delta = \u001b[43mt2\u001b[49m\u001b[43m-\u001b[49m\u001b[43mt1\u001b[49m\n\u001b[32m      6\u001b[39m \u001b[38;5;28mprint\u001b[39m(delta)\n",
      "\u001b[31mTypeError\u001b[39m: unsupported operand type(s) for -: 'datetime.time' and 'datetime.time'"
     ]
    }
   ],
   "source": [
    "from datetime import time \n",
    "t1 = time (20,22,35,50)\n",
    "t2 = time (18,55,10,60)\n",
    "\n",
    "delta = t2-t1\n",
    "print(delta)"
   ]
  },
  {
   "cell_type": "code",
   "execution_count": 33,
   "id": "c3781764",
   "metadata": {},
   "outputs": [
    {
     "data": {
      "text/plain": [
       "10232686.215447"
      ]
     },
     "execution_count": 33,
     "metadata": {},
     "output_type": "execute_result"
    }
   ],
   "source": [
    "delta.total_seconds()"
   ]
  },
  {
   "cell_type": "markdown",
   "id": "2e07a31a",
   "metadata": {},
   "source": []
  },
  {
   "cell_type": "code",
   "execution_count": null,
   "id": "5379deb0",
   "metadata": {},
   "outputs": [],
   "source": [
    "### strftime() is used tp convert(format) datetime object to str\n",
    "### strptime() is used to convert(format) str objects to datetime"
   ]
  },
  {
   "cell_type": "code",
   "execution_count": 37,
   "id": "1d3c6774",
   "metadata": {},
   "outputs": [
    {
     "data": {
      "text/plain": [
       "'20/06/2025,20:04:19'"
      ]
     },
     "execution_count": 37,
     "metadata": {},
     "output_type": "execute_result"
    }
   ],
   "source": [
    "current_time = datetime.now()\n",
    "current_time.strftime(\"%d/%m/%Y,%H:%M:%S\")\n"
   ]
  },
  {
   "cell_type": "markdown",
   "id": "7d71cbef",
   "metadata": {},
   "source": [
    "#### %Y - year (0001, .... , 2025, 2026, .... 9999)\n",
    "#### %m - month (1-12)\n",
    "#### %d - day (1-31)\n",
    "#### %H - hour (00, ...., 23)\n",
    "#### %M - minute (00, ...., 59)\n",
    "#### %S - second (00, ...., 59)\n",
    "#### %B - Full MonthName (January, February, ...., December)\n"
   ]
  },
  {
   "cell_type": "code",
   "execution_count": null,
   "id": "16860dcb",
   "metadata": {},
   "outputs": [
    {
     "name": "stdout",
     "output_type": "stream",
     "text": [
      "2025-06-28 20:04:00\n"
     ]
    }
   ],
   "source": [
    "from datetime import datetime\n",
    "date_str = '6/28/2025 20:04:00'\n",
    "new_date = datetime.strptime(date_str,'%m/%d/%Y %H:%M:%S')\n",
    "print(new_date)\n",
    "\n"
   ]
  },
  {
   "cell_type": "code",
   "execution_count": 46,
   "id": "57f57c98",
   "metadata": {},
   "outputs": [
    {
     "name": "stdout",
     "output_type": "stream",
     "text": [
      "current_time is 20:29 PM\n",
      "06/20/2025\n",
      "2025-06-20 11:29:03.357199-04:00\n"
     ]
    }
   ],
   "source": [
    "from datetime import datetime \n",
    "import pytz\n",
    "\n",
    "current_time = datetime.now()\n",
    "print('current_time is', current_time.strftime('%H:%M %p\\n%m/%d/%Y'))\n",
    "\n",
    "mt_tz = pytz.timezone('America/New_York')\n",
    "datetime_NY = datetime.now(mt_tz)\n",
    "print(datetime_NY)"
   ]
  },
  {
   "cell_type": "markdown",
   "id": "f774f3c7",
   "metadata": {},
   "source": [
    "### regex - regular expressions\n",
    "### metacharacters = \"'[]','.', '^', '*','+','+','?','()','\\','|'\"\n",
    "\n",
    "# '.' - any character\n",
    "# '..','sa' - true, 1 match\n",
    "# '..', 'salom' - true, 2 matches"
   ]
  },
  {
   "cell_type": "code",
   "execution_count": 50,
   "id": "33ab45b0",
   "metadata": {},
   "outputs": [
    {
     "name": "stdout",
     "output_type": "stream",
     "text": [
      "<re.Match object; span=(0, 2), match='sa'>\n",
      "<re.Match object; span=(1, 2), match='a'>\n"
     ]
    }
   ],
   "source": [
    "import re\n",
    "my_str = 'salom'\n",
    "print(re.search('..', my_str))\n",
    "print(re.search('a', my_str))"
   ]
  }
 ],
 "metadata": {
  "kernelspec": {
   "display_name": "Python 3",
   "language": "python",
   "name": "python3"
  },
  "language_info": {
   "codemirror_mode": {
    "name": "ipython",
    "version": 3
   },
   "file_extension": ".py",
   "mimetype": "text/x-python",
   "name": "python",
   "nbconvert_exporter": "python",
   "pygments_lexer": "ipython3",
   "version": "undefined.undefined.undefined"
  }
 },
 "nbformat": 4,
 "nbformat_minor": 5
}

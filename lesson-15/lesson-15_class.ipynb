{
 "cells": [
  {
   "cell_type": "markdown",
   "id": "3e3e8d1f",
   "metadata": {},
   "source": [
    "### Datetime, RegEx"
   ]
  },
  {
   "cell_type": "code",
   "execution_count": null,
   "id": "b6248ea6",
   "metadata": {},
   "outputs": [
    {
     "data": {
      "text/plain": [
       "datetime.datetime(2025, 6, 20, 19, 19, 35, 707375)"
      ]
     },
     "execution_count": 6,
     "metadata": {},
     "output_type": "execute_result"
    }
   ],
   "source": [
    "### datetime module is used to work with datetime objects in python.\n",
    "\n",
    "\n",
    "import datetime\n",
    "\n",
    "dir(datetime)\n",
    "\n",
    "datetime.datetime.now()\n",
    "\n",
    "# '2025-06-20 19:00:20.000'"
   ]
  },
  {
   "cell_type": "code",
   "execution_count": 7,
   "id": "9378fdcc",
   "metadata": {},
   "outputs": [
    {
     "data": {
      "text/plain": [
       "datetime.date(2025, 6, 20)"
      ]
     },
     "execution_count": 7,
     "metadata": {},
     "output_type": "execute_result"
    }
   ],
   "source": [
    "datetime.date.today()"
   ]
  },
  {
   "cell_type": "markdown",
   "id": "e67ebee2",
   "metadata": {},
   "source": [
    "### datetime.date class"
   ]
  },
  {
   "cell_type": "code",
   "execution_count": null,
   "id": "88c715e7",
   "metadata": {},
   "outputs": [
    {
     "data": {
      "text/plain": [
       "datetime.date(2020, 10, 5)"
      ]
     },
     "execution_count": 8,
     "metadata": {},
     "output_type": "execute_result"
    }
   ],
   "source": [
    "from datetime import date\n",
    "\n",
    "my_d = date(2020, 10, 5)\n",
    "\n",
    "my_d"
   ]
  },
  {
   "cell_type": "code",
   "execution_count": 9,
   "id": "1c3afc31",
   "metadata": {},
   "outputs": [
    {
     "data": {
      "text/plain": [
       "datetime.date(2025, 10, 20)"
      ]
     },
     "execution_count": 9,
     "metadata": {},
     "output_type": "execute_result"
    }
   ],
   "source": [
    "from datetime import date\n",
    "year = 2025\n",
    "\n",
    "month = 10\n",
    "\n",
    "day = 20\n",
    "\n",
    "date(day=day,year=year, month=month)\n",
    "\n"
   ]
  },
  {
   "cell_type": "code",
   "execution_count": 83,
   "id": "427a96a3",
   "metadata": {},
   "outputs": [
    {
     "data": {
      "text/plain": [
       "datetime.date(2025, 10, 30)"
      ]
     },
     "execution_count": 83,
     "metadata": {},
     "output_type": "execute_result"
    }
   ],
   "source": [
    "from datetime import date\n",
    "year = 2025\n",
    "\n",
    "month = 10\n",
    "\n",
    "day = 30\n",
    "\n",
    "date(day=day,year=year, month=month)\n"
   ]
  },
  {
   "cell_type": "code",
   "execution_count": 14,
   "id": "79c5f48b",
   "metadata": {},
   "outputs": [
    {
     "data": {
      "text/plain": [
       "datetime.date(2033, 5, 18)"
      ]
     },
     "execution_count": 14,
     "metadata": {},
     "output_type": "execute_result"
    }
   ],
   "source": [
    "# we give the number of second and i will return a date by adding the provided seconds to 1970 January 1 UTC.\n",
    "\n",
    "from datetime import date\n",
    "\n",
    "timestamp = date.fromtimestamp(2_000_000_000)\n",
    "\n",
    "\n",
    "timestamp"
   ]
  },
  {
   "cell_type": "code",
   "execution_count": 19,
   "id": "0fce4ba3",
   "metadata": {},
   "outputs": [
    {
     "data": {
      "text/plain": [
       "4"
      ]
     },
     "execution_count": 19,
     "metadata": {},
     "output_type": "execute_result"
    }
   ],
   "source": [
    "today = date.today()\n",
    "\n",
    "today.day\n",
    "today.year\n",
    "\n",
    "today.month\n",
    "\n",
    "today.weekday()"
   ]
  },
  {
   "cell_type": "markdown",
   "id": "07f06607",
   "metadata": {},
   "source": [
    "### datetime.time class"
   ]
  },
  {
   "cell_type": "code",
   "execution_count": 26,
   "id": "7c12d161",
   "metadata": {},
   "outputs": [
    {
     "name": "stdout",
     "output_type": "stream",
     "text": [
      "20\n",
      "55\n"
     ]
    }
   ],
   "source": [
    "from datetime import time\n",
    "\n",
    "\n",
    "time(20, 18, 55, 666999)\n",
    "\n",
    "\n",
    "my_time = time(20, 18, 55, 60)\n",
    "\n",
    "my_time.microsecond\n",
    "\n",
    "\n",
    "print(my_time.hour)\n",
    "print(my_time.second)\n",
    "\n",
    "\n",
    "\n"
   ]
  },
  {
   "cell_type": "code",
   "execution_count": 28,
   "id": "f2679d1d",
   "metadata": {},
   "outputs": [
    {
     "data": {
      "text/plain": [
       "datetime.time(15, 30, 20, 500)"
      ]
     },
     "execution_count": 28,
     "metadata": {},
     "output_type": "execute_result"
    }
   ],
   "source": [
    "from datetime import time\n",
    "\n",
    "\n",
    "new_time = time(microsecond=500, second=20, hour=15, minute=30)\n",
    "\n",
    "\n",
    "new_time\n",
    "\n"
   ]
  },
  {
   "cell_type": "markdown",
   "id": "db5382c9",
   "metadata": {},
   "source": [
    "### datetime.datetime class"
   ]
  },
  {
   "cell_type": "code",
   "execution_count": 32,
   "id": "cca19caf",
   "metadata": {},
   "outputs": [
    {
     "name": "stdout",
     "output_type": "stream",
     "text": [
      "<class 'datetime.datetime'>\n"
     ]
    }
   ],
   "source": [
    "from datetime import datetime\n",
    "\n",
    "my_datetime = datetime(2025, 5, 22, 9, 23, 50, 692)\n",
    "\n",
    "\n",
    "my_datetime\n",
    "\n",
    "my_datetime = datetime(2025, 5, 20)\n",
    "\n",
    "print(type(my_datetime))\n",
    "\n"
   ]
  },
  {
   "cell_type": "markdown",
   "id": "882bb8c4",
   "metadata": {},
   "source": [
    "### a timedelta objects represents the difference between 2 dates or times."
   ]
  },
  {
   "cell_type": "code",
   "execution_count": 59,
   "id": "f1f21e3c",
   "metadata": {},
   "outputs": [
    {
     "name": "stdout",
     "output_type": "stream",
     "text": [
      "170 days, 0:00:00\n",
      "1125 days, 10:32:00.550045\n"
     ]
    }
   ],
   "source": [
    "from datetime import datetime, date\n",
    "\n",
    "\n",
    "t1 = date(2025, 1, 1)\n",
    "t2 = date.today()\n",
    "\n",
    "\n",
    "date_delta = t2 - t1\n",
    "\n",
    "print(date_delta)\n",
    "\n",
    "t1 = datetime(2022, 5, 22, 9, 23, 50, 692)\n",
    "\n",
    "t2 = datetime.now()\n",
    "\n",
    "dt_delta = t2 - t1\n",
    "\n",
    "type(dt_delta)\n",
    "\n",
    "print(dt_delta)\n",
    "\n"
   ]
  },
  {
   "cell_type": "code",
   "execution_count": null,
   "id": "bab3d306",
   "metadata": {},
   "outputs": [
    {
     "ename": "TypeError",
     "evalue": "unsupported operand type(s) for -: 'datetime.time' and 'datetime.time'",
     "output_type": "error",
     "traceback": [
      "\u001b[31m---------------------------------------------------------------------------\u001b[39m",
      "\u001b[31mTypeError\u001b[39m                                 Traceback (most recent call last)",
      "\u001b[36mCell\u001b[39m\u001b[36m \u001b[39m\u001b[32mIn[49]\u001b[39m\u001b[32m, line 6\u001b[39m\n\u001b[32m      3\u001b[39m t1 = time(\u001b[32m20\u001b[39m, \u001b[32m22\u001b[39m, \u001b[32m36\u001b[39m, \u001b[32m50\u001b[39m)\n\u001b[32m      4\u001b[39m t2 = time(\u001b[32m18\u001b[39m, \u001b[32m55\u001b[39m, \u001b[32m10\u001b[39m, \u001b[32m60\u001b[39m)\n\u001b[32m----> \u001b[39m\u001b[32m6\u001b[39m time_delta = \u001b[43mt1\u001b[49m\u001b[43m \u001b[49m\u001b[43m-\u001b[49m\u001b[43m \u001b[49m\u001b[43mt2\u001b[49m\n\u001b[32m      8\u001b[39m \u001b[38;5;28mprint\u001b[39m(time_delta)\n",
      "\u001b[31mTypeError\u001b[39m: unsupported operand type(s) for -: 'datetime.time' and 'datetime.time'"
     ]
    }
   ],
   "source": [
    "from datetime import time\n",
    "# time(hour, minute, second, microsecond)\n",
    "t1 = time(20, 22, 36, 50)\n",
    "t2 = time(18, 55, 10, 60)\n",
    "\n",
    "# time_delta = t1 - t2\n",
    "\n",
    "# print(time_delta)"
   ]
  },
  {
   "cell_type": "code",
   "execution_count": 54,
   "id": "aa928098",
   "metadata": {},
   "outputs": [
    {
     "data": {
      "text/plain": [
       "97237695.43575"
      ]
     },
     "execution_count": 54,
     "metadata": {},
     "output_type": "execute_result"
    }
   ],
   "source": [
    "dt_delta.total_seconds()"
   ]
  },
  {
   "cell_type": "code",
   "execution_count": 58,
   "id": "1812f244",
   "metadata": {},
   "outputs": [
    {
     "name": "stdout",
     "output_type": "stream",
     "text": [
      "19:54\n"
     ]
    }
   ],
   "source": [
    "user_time = input(\"enter your current time\")\n",
    "\n",
    "print(user_time)\n",
    "\n",
    "\n",
    "\n"
   ]
  },
  {
   "cell_type": "code",
   "execution_count": null,
   "id": "62f266c2",
   "metadata": {},
   "outputs": [],
   "source": [
    "### strftime() is used to convert(format) datetime objects to str\n",
    "### strptime() is used to convert(format) str objects to datetime\n"
   ]
  },
  {
   "cell_type": "code",
   "execution_count": 63,
   "id": "146b4a3a",
   "metadata": {},
   "outputs": [
    {
     "data": {
      "text/plain": [
       "'20/06/2025, 19:59:49'"
      ]
     },
     "execution_count": 63,
     "metadata": {},
     "output_type": "execute_result"
    }
   ],
   "source": [
    "from datetime import datetime\n",
    "\n",
    "current_time = datetime.now()\n",
    "\n",
    "current_time.strftime(\"%d/%m/%Y, %H:%M:%S\")\n",
    "\n"
   ]
  },
  {
   "cell_type": "markdown",
   "id": "6170ea09",
   "metadata": {},
   "source": [
    "#### %Y - year (0001, .... , 2025, 2026, .... 9999)\n",
    "#### %m - month (1-12)\n",
    "#### %d - day (1-31)\n",
    "#### %H - hour (00, ...., 23)\n",
    "#### %M - minute (00, ...., 59)\n",
    "#### %S - second (00, ...., 59)\n",
    "#### %B - Full MonthName (January, February, ...., December)\n"
   ]
  },
  {
   "cell_type": "code",
   "execution_count": 71,
   "id": "d828ae40",
   "metadata": {},
   "outputs": [
    {
     "data": {
      "text/plain": [
       "datetime.datetime(2025, 4, 20, 0, 0)"
      ]
     },
     "execution_count": 71,
     "metadata": {},
     "output_type": "execute_result"
    }
   ],
   "source": [
    "from datetime import datetime\n",
    "date_str = \"6/20/2025 20:04:00\"\n",
    "\n",
    "datetime.strptime(date_str, \"%m/%d/%Y %H:%M:%S\")\n",
    "\n",
    "new_date_str = \"20 April, 2025\"\n",
    "\n",
    "format = \"%d %B, %Y\"\n",
    "datetime.strptime(new_date_str, format)\n",
    "\n"
   ]
  },
  {
   "cell_type": "code",
   "execution_count": 82,
   "id": "7d62a477",
   "metadata": {},
   "outputs": [
    {
     "name": "stdout",
     "output_type": "stream",
     "text": [
      "2025-06-20 16:30:27.142328+01:00\n"
     ]
    }
   ],
   "source": [
    "from datetime import datetime\n",
    "import pytz\n",
    "\n",
    "current_time = datetime.now()\n",
    "\n",
    "# print(\"Current time is\", current_time.strftime(\"%H:%M %p\\n%m/%d/%Y\"))\n",
    "\n",
    "\n",
    "my_tz = pytz.timezone(\"Asia/Dushanbe\")\n",
    "L_tz = pytz.timezone(\"Europe/London\")\n",
    "datetime_NY = datetime.now(my_tz)\n",
    "\n",
    "datetime_L = datetime.now(L_tz)\n",
    "\n",
    "# print(datetime_NY)\n",
    "\n",
    "print(datetime_L)"
   ]
  },
  {
   "cell_type": "code",
   "execution_count": null,
   "id": "153de23f",
   "metadata": {},
   "outputs": [],
   "source": [
    "### regex - regular expression. \n",
    "### metacharacters =  \" '[]', '.' , '^', '*', '+', '?', '()', '\\', '|'  \"\n",
    "\n",
    "# [abc] - a or b or c\n",
    "# [a-f] - a, b, c, d, e or f\n",
    "# [^abc] - not (a or b or c)\n",
    "# [^a-f] - not (a, b, c, d, e or f)\n",
    "\n"
   ]
  },
  {
   "cell_type": "code",
   "execution_count": null,
   "id": "eb0ae376",
   "metadata": {},
   "outputs": [],
   "source": [
    "# . - any character (except for \\n)\n",
    "# '..', \"sa\"   - true, 1 match\n",
    "# '..', \"salom\"  - true, 2 matches\n",
    "# . - dot"
   ]
  },
  {
   "cell_type": "code",
   "execution_count": null,
   "id": "08962b59",
   "metadata": {},
   "outputs": [],
   "source": [
    "# ^a - checks if the string starts with \"a\"(given character)\n",
    "# ^ - caret"
   ]
  },
  {
   "cell_type": "code",
   "execution_count": null,
   "id": "56c1738b",
   "metadata": {},
   "outputs": [
    {
     "name": "stdout",
     "output_type": "stream",
     "text": [
      "sa\n",
      "None\n"
     ]
    }
   ],
   "source": [
    "import re\n",
    "\n",
    "my_str = \"salom\"\n",
    "\n",
    "print(re.search(\"..\",my_str))\n",
    "print(re.search(\"^a\",my_str))\n",
    "\n",
    "# () - bracket, paranthesis\n",
    "\n",
    "\n",
    "\n"
   ]
  },
  {
   "cell_type": "code",
   "execution_count": null,
   "id": "3029ee58",
   "metadata": {},
   "outputs": [],
   "source": [
    "# char$ - checks if the given string ends with the given character.\n",
    "# m$  salom - true"
   ]
  },
  {
   "cell_type": "code",
   "execution_count": null,
   "id": "a283f4bf",
   "metadata": {},
   "outputs": [
    {
     "name": "stdout",
     "output_type": "stream",
     "text": [
      "None\n"
     ]
    }
   ],
   "source": [
    "print(re.search(\"m$\", \"salomn\"))\n",
    "\n"
   ]
  },
  {
   "cell_type": "code",
   "execution_count": null,
   "id": "94898127",
   "metadata": {},
   "outputs": [],
   "source": [
    "# * - star\n",
    "# start*char - star symbol checjs if the string matches zero or more accounrences of the patter."
   ]
  },
  {
   "cell_type": "code",
   "execution_count": 102,
   "id": "7547af4d",
   "metadata": {},
   "outputs": [
    {
     "name": "stdout",
     "output_type": "stream",
     "text": [
      "<re.Match object; span=(0, 3), match='sal'>\n"
     ]
    }
   ],
   "source": [
    "my_str = \"salom\"\n",
    "\n",
    "print(re.match(\"sa*l\", my_str))"
   ]
  },
  {
   "cell_type": "code",
   "execution_count": null,
   "id": "ea3c10bd",
   "metadata": {},
   "outputs": [],
   "source": [
    "# {n,m} - Braces. \n",
    "# char{n,m} - at least n and at most m repetitions exists in the patter\n"
   ]
  },
  {
   "cell_type": "code",
   "execution_count": 117,
   "id": "62168474",
   "metadata": {},
   "outputs": [
    {
     "name": "stdout",
     "output_type": "stream",
     "text": [
      "<re.Match object; span=(2, 5), match='lll'>\n"
     ]
    }
   ],
   "source": [
    "my_str = \"helllo world\"\n",
    "\n",
    "print(re.search(\"l{2,3}\", my_str))\n"
   ]
  },
  {
   "cell_type": "code",
   "execution_count": null,
   "id": "7c5b61f0",
   "metadata": {},
   "outputs": [],
   "source": [
    "# | - bar\n",
    "# a|b - a or b"
   ]
  },
  {
   "cell_type": "code",
   "execution_count": 125,
   "id": "f1feb9cd",
   "metadata": {},
   "outputs": [
    {
     "data": {
      "text/plain": [
       "['h', 'e']"
      ]
     },
     "execution_count": 125,
     "metadata": {},
     "output_type": "execute_result"
    }
   ],
   "source": [
    "my_str = \"hello world\"\n",
    "\n",
    "re.match(\"h|e\", my_str)\n",
    "\n",
    "re.findall(\"h|e\", my_str)\n"
   ]
  },
  {
   "cell_type": "code",
   "execution_count": null,
   "id": "7f971a45",
   "metadata": {},
   "outputs": [],
   "source": [
    "# sql escape \"\\\" is used to find wildcards from a string(column)\n",
    "# '%%%' in sql\n",
    "# select * from table_name where col_name like '%%%' -> returns everthing. where col_name like '%a%%' escape '\\a'"
   ]
  },
  {
   "cell_type": "code",
   "execution_count": null,
   "id": "4e140fad",
   "metadata": {},
   "outputs": [],
   "source": [
    "# \\ - back slash in python is used to escape metacharacters or some specified characters.\n",
    "\n",
    "# \\A(chars) - checks the given str if it starts with given chars\n",
    "# \\b(chars) - checks the given str if it ends(begins) with given chars"
   ]
  },
  {
   "cell_type": "code",
   "execution_count": 118,
   "id": "12eeb8b5",
   "metadata": {},
   "outputs": [
    {
     "name": "stderr",
     "output_type": "stream",
     "text": [
      "<>:3: SyntaxWarning: invalid escape sequence '\\A'\n",
      "<>:3: SyntaxWarning: invalid escape sequence '\\A'\n",
      "C:\\Users\\haric\\AppData\\Local\\Temp\\ipykernel_18880\\3905176772.py:3: SyntaxWarning: invalid escape sequence '\\A'\n",
      "  re.search(\"\\Athe\", my_str)\n"
     ]
    },
    {
     "data": {
      "text/plain": [
       "<re.Match object; span=(0, 3), match='the'>"
      ]
     },
     "execution_count": 118,
     "metadata": {},
     "output_type": "execute_result"
    }
   ],
   "source": [
    "my_str = \"the summer\"\n",
    "\n",
    "re.search(\"\\Athe\", my_str)"
   ]
  },
  {
   "cell_type": "code",
   "execution_count": 124,
   "id": "34e1886e",
   "metadata": {},
   "outputs": [
    {
     "name": "stdout",
     "output_type": "stream",
     "text": [
      "None\n"
     ]
    }
   ],
   "source": [
    "my_str = \"salom dunyo\"\n",
    "\n",
    "print(re.search(\"\\bdunyo\", my_str))"
   ]
  }
 ],
 "metadata": {
  "kernelspec": {
   "display_name": "Python 3",
   "language": "python",
   "name": "python3"
  },
  "language_info": {
   "codemirror_mode": {
    "name": "ipython",
    "version": 3
   },
   "file_extension": ".py",
   "mimetype": "text/x-python",
   "name": "python",
   "nbconvert_exporter": "python",
   "pygments_lexer": "ipython3",
   "version": "undefined.undefined.undefined"
  }
 },
 "nbformat": 4,
 "nbformat_minor": 5
}

{
 "cells": [
  {
   "cell_type": "code",
   "execution_count": null,
   "id": "7ef47c49",
   "metadata": {},
   "outputs": [],
   "source": [
    "### HTTP Requests\n",
    "### JSON"
   ]
  },
  {
   "cell_type": "code",
   "execution_count": null,
   "id": "b0bb83b3",
   "metadata": {},
   "outputs": [],
   "source": [
    "### convert python object to json\n",
    "### convert json to python object\n",
    "### flattening json\n",
    "\n"
   ]
  },
  {
   "cell_type": "code",
   "execution_count": null,
   "id": "1e92bc50",
   "metadata": {},
   "outputs": [
    {
     "data": {
      "text/plain": [
       "{'current_user_url': 'https://api.github.com/user',\n",
       " 'current_user_authorizations_html_url': 'https://github.com/settings/connections/applications{/client_id}',\n",
       " 'authorizations_url': 'https://api.github.com/authorizations',\n",
       " 'code_search_url': 'https://api.github.com/search/code?q={query}{&page,per_page,sort,order}',\n",
       " 'commit_search_url': 'https://api.github.com/search/commits?q={query}{&page,per_page,sort,order}',\n",
       " 'emails_url': 'https://api.github.com/user/emails',\n",
       " 'emojis_url': 'https://api.github.com/emojis',\n",
       " 'events_url': 'https://api.github.com/events',\n",
       " 'feeds_url': 'https://api.github.com/feeds',\n",
       " 'followers_url': 'https://api.github.com/user/followers',\n",
       " 'following_url': 'https://api.github.com/user/following{/target}',\n",
       " 'gists_url': 'https://api.github.com/gists{/gist_id}',\n",
       " 'hub_url': 'https://api.github.com/hub',\n",
       " 'issue_search_url': 'https://api.github.com/search/issues?q={query}{&page,per_page,sort,order}',\n",
       " 'issues_url': 'https://api.github.com/issues',\n",
       " 'keys_url': 'https://api.github.com/user/keys',\n",
       " 'label_search_url': 'https://api.github.com/search/labels?q={query}&repository_id={repository_id}{&page,per_page}',\n",
       " 'notifications_url': 'https://api.github.com/notifications',\n",
       " 'organization_url': 'https://api.github.com/orgs/{org}',\n",
       " 'organization_repositories_url': 'https://api.github.com/orgs/{org}/repos{?type,page,per_page,sort}',\n",
       " 'organization_teams_url': 'https://api.github.com/orgs/{org}/teams',\n",
       " 'public_gists_url': 'https://api.github.com/gists/public',\n",
       " 'rate_limit_url': 'https://api.github.com/rate_limit',\n",
       " 'repository_url': 'https://api.github.com/repos/{owner}/{repo}',\n",
       " 'repository_search_url': 'https://api.github.com/search/repositories?q={query}{&page,per_page,sort,order}',\n",
       " 'current_user_repositories_url': 'https://api.github.com/user/repos{?type,page,per_page,sort}',\n",
       " 'starred_url': 'https://api.github.com/user/starred{/owner}{/repo}',\n",
       " 'starred_gists_url': 'https://api.github.com/gists/starred',\n",
       " 'topic_search_url': 'https://api.github.com/search/topics?q={query}{&page,per_page}',\n",
       " 'user_url': 'https://api.github.com/users/{user}',\n",
       " 'user_organizations_url': 'https://api.github.com/user/orgs',\n",
       " 'user_repositories_url': 'https://api.github.com/users/{user}/repos{?type,page,per_page,sort}',\n",
       " 'user_search_url': 'https://api.github.com/search/users?q={query}{&page,per_page,sort,order}'}"
      ]
     },
     "execution_count": 6,
     "metadata": {},
     "output_type": "execute_result"
    }
   ],
   "source": [
    "import requests\n",
    "\n",
    "url = \"https://api.github.com\"\n",
    "\n",
    "response = requests.get(url)\n",
    "\n",
    "response.text\n",
    "\n",
    "response.json()\n",
    "\n",
    "\n",
    "\n"
   ]
  },
  {
   "cell_type": "code",
   "execution_count": null,
   "id": "ecb0c357",
   "metadata": {},
   "outputs": [
    {
     "name": "stdout",
     "output_type": "stream",
     "text": [
      "{'name': 'Tez omonati',\n",
      " 'duration': 'Muddati – 13 oy',\n",
      " 'percentage': 'Yillik 22% daromad',\n",
      " 'conditions': 'Omonat ochilganidan so‘ng 60 kun davomida to‘ldirish '\n",
      "               'imkoniyati mavjud'}\n",
      "\n",
      "{'name': 'Baraka omonati',\n",
      " 'duration': 'Muddati – 24 oy',\n",
      " 'percentage': 'Yillik 21% daromad',\n",
      " 'conditions': 'To‘ldirish va qisman yechib olish imkoniyati bilan'}\n",
      "\n",
      "{'name': 'YUQORI DAROMAD omonati',\n",
      " 'duration': 'Omonat muddati 25 oy',\n",
      " 'percentage': 'Yillik 23%',\n",
      " 'conditions': 'Maksimal summa - cheklanmagan'}\n",
      "\n",
      "{'name': 'KO‘RPACHA omonati',\n",
      " 'duration': 'Cheklovlarsiz to’ldirish birinchi 13 oy',\n",
      " 'percentage': 'Yillik 22%',\n",
      " 'conditions': 'Muddat - 24 oy'}\n",
      "\n",
      "{'name': 'BALANDDA omonati',\n",
      " 'duration': 'Omonat muddati - 24 oy',\n",
      " 'percentage': 'Yillik 8%',\n",
      " 'conditions': \"Omonatni ochgandan keyin 6 oy ichida omonatingizni to'ldiring\"}\n",
      "\n",
      "{'name': 'ELITE valyuta omonati',\n",
      " 'duration': 'Omonat muddati - 24 oy',\n",
      " 'percentage': 'Yillik 7%',\n",
      " 'conditions': 'Pasaymaydigan qoldiq – 10 000 AQSh dollari'}\n",
      "\n",
      "{'name': 'QULAY omonati',\n",
      " 'duration': 'Omonat muddati - 24 oy',\n",
      " 'percentage': 'Yillik 6,5%',\n",
      " 'conditions': \"Cheklovlarsiz qo'shimcha omonat qo'yish imkoniyati\"}\n",
      "\n"
     ]
    }
   ],
   "source": [
    "from bs4 import  BeautifulSoup as bs\n",
    "\n",
    "\n",
    "all_omonats = []\n",
    "\n",
    "url = \"https://anorbank.uz/uz/deposit/\"\n",
    "\n",
    "response = requests.get(url)\n",
    "\n",
    "response.text\n",
    "\n",
    "soup = bs(response.text)\n",
    "container = soup.find(class_= \"cards\")\n",
    "\n",
    "all_cards = container.find_all(class_= \"cards__wrap\")\n",
    "\n",
    "for card in all_cards:\n",
    "    blank_dict = {}\n",
    "    # print(card.find(\"h3\").text)\n",
    "    name = card.find(\"h3\").text\n",
    "\n",
    "    blank_dict[\"name\"] = name # adding name key and value\n",
    "\n",
    "    all_li_s = card.find_all(\"li\")\n",
    "    each_li_text = []\n",
    "    for li in all_li_s:\n",
    "        # print(li.text, name)\n",
    "        each_li_text.append(li.text.strip())\n",
    "\n",
    "    duration, percentage, conditions = each_li_text\n",
    "\n",
    "    blank_dict[\"duration\"] = duration\n",
    "    blank_dict[\"percentage\"] = percentage\n",
    "    blank_dict[\"conditions\"] = conditions\n",
    "\n",
    "    all_omonats.append(blank_dict)\n",
    "\n",
    "\n",
    "from pprint import pprint\n",
    "\n",
    "for omonat in all_omonats:\n",
    "    pprint(omonat,sort_dicts=False)\n",
    "    print()\n",
    "# print(names)\n",
    "\n",
    "\n",
    "\n",
    "\n",
    "\n",
    "\n"
   ]
  },
  {
   "cell_type": "code",
   "execution_count": 66,
   "id": "434f3d71",
   "metadata": {},
   "outputs": [
    {
     "name": "stdout",
     "output_type": "stream",
     "text": [
      "[{'name': 'Name', 'duration': '24 oy', 'annual rate': '24%', 'conditions': ''}, {'name': 'Name', 'duration': '24 oy', 'annual rate': '24%', 'conditions': ''}, {'name': 'Name', 'duration': '24 oy', 'annual rate': '24%', 'conditions': ''}, {'name': 'Name', 'duration': '24 oy', 'annual rate': '24%', 'conditions': ''}, {'name': 'Name', 'duration': '24 oy', 'annual rate': '24%', 'conditions': ''}, {'name': 'Name', 'duration': '24 oy', 'annual rate': '24%', 'conditions': ''}, {'name': 'Name', 'duration': '24 oy', 'annual rate': '24%', 'conditions': ''}]\n",
      "[{'name': 'Tez omonati', 'duration': 'Muddati – 13 oy', 'percentage': 'Yillik 22% daromad', 'conditions': 'Omonat ochilganidan so‘ng 60 kun davomida to‘ldirish imkoniyati mavjud'}, {'name': 'Baraka omonati', 'duration': 'Muddati – 24 oy', 'percentage': 'Yillik 21% daromad', 'conditions': 'To‘ldirish va qisman yechib olish imkoniyati bilan'}, {'name': 'YUQORI DAROMAD omonati', 'duration': 'Omonat muddati 25 oy', 'percentage': 'Yillik 23%', 'conditions': 'Maksimal summa - cheklanmagan'}, {'name': 'KO‘RPACHA omonati', 'duration': 'Cheklovlarsiz to’ldirish birinchi 13 oy', 'percentage': 'Yillik 22%', 'conditions': 'Muddat - 24 oy'}, {'name': 'BALANDDA omonati', 'duration': 'Omonat muddati - 24 oy', 'percentage': 'Yillik 8%', 'conditions': \"Omonatni ochgandan keyin 6 oy ichida omonatingizni to'ldiring\"}, {'name': 'ELITE valyuta omonati', 'duration': 'Omonat muddati - 24 oy', 'percentage': 'Yillik 7%', 'conditions': 'Pasaymaydigan qoldiq – 10 000 AQSh dollari'}, {'name': 'QULAY omonati', 'duration': 'Omonat muddati - 24 oy', 'percentage': 'Yillik 6,5%', 'conditions': \"Cheklovlarsiz qo'shimcha omonat qo'yish imkoniyati\"}]\n"
     ]
    }
   ],
   "source": [
    "\n",
    "omonatlar = [{\"name\": \"Name\",\n",
    "              \"duration\": \"24 oy\",\n",
    "              \"annual rate\": \"24%\",\n",
    "              \"conditions\": \"\"},\n",
    "\n",
    "              {\"name\": \"Name\",\n",
    "              \"duration\": \"24 oy\",\n",
    "              \"annual rate\": \"24%\",\n",
    "              \"conditions\": \"\"},\n",
    "\n",
    "              {\"name\": \"Name\",\n",
    "              \"duration\": \"24 oy\",\n",
    "              \"annual rate\": \"24%\",\n",
    "              \"conditions\": \"\"},\n",
    "\n",
    "              {\"name\": \"Name\",\n",
    "              \"duration\": \"24 oy\",\n",
    "              \"annual rate\": \"24%\",\n",
    "              \"conditions\": \"\"},\n",
    "              {\"name\": \"Name\",\n",
    "              \"duration\": \"24 oy\",\n",
    "              \"annual rate\": \"24%\",\n",
    "              \"conditions\": \"\"},\n",
    "              {\"name\": \"Name\",\n",
    "              \"duration\": \"24 oy\",\n",
    "              \"annual rate\": \"24%\",\n",
    "              \"conditions\": \"\"},\n",
    "             {\"name\": \"Name\",\n",
    "              \"duration\": \"24 oy\",\n",
    "              \"annual rate\": \"24%\",\n",
    "              \"conditions\": \"\"}\n",
    "              ]\n",
    "\n",
    "print(omonatlar)\n",
    "print(all_omonats)\n"
   ]
  },
  {
   "cell_type": "code",
   "execution_count": 61,
   "id": "8383c623",
   "metadata": {},
   "outputs": [
    {
     "name": "stdout",
     "output_type": "stream",
     "text": [
      "Muddati – 13 oy Yillik 22% daromad Omonat ochilganidan so‘ng 60 kun davomida to‘ldirish imkoniyati mavjud\n"
     ]
    }
   ],
   "source": [
    "my_list =['Muddati – 13 oy', 'Yillik 22% daromad', 'Omonat ochilganidan so‘ng 60 kun davomida to‘ldirish imkoniyati mavjud']\n",
    "my_list\n",
    "\n",
    "# duration = my_list[0]\n",
    "# percentage = my_list[1]\n",
    "# conditions = my_list[2]\n",
    "# print(duration, percentage, conditions)\n",
    "\n",
    "\n",
    "duration, percentage, conditions = my_list\n",
    "\n",
    "print(duration, percentage, conditions)\n"
   ]
  },
  {
   "cell_type": "code",
   "execution_count": null,
   "id": "b935adcf",
   "metadata": {},
   "outputs": [],
   "source": [
    "\n",
    "\n",
    "\n"
   ]
  },
  {
   "cell_type": "code",
   "execution_count": null,
   "id": "50482b88",
   "metadata": {},
   "outputs": [],
   "source": []
  },
  {
   "cell_type": "code",
   "execution_count": null,
   "id": "9d2b11bc",
   "metadata": {},
   "outputs": [
    {
     "name": "stdout",
     "output_type": "stream",
     "text": [
      "https://anorbank.uz/uz/deposit/vklad-tez-uz/\n",
      "https://anorbank.uz/uz/deposit/vklad-baraka-uz/\n",
      "https://anorbank.uz/uz/deposit/vklad-yuqori-daromad-2-uz/\n",
      "https://anorbank.uz/uz/deposit/vklad-ko-rpacha-3-uz/\n",
      "https://anorbank.uz/uz/deposit/vklad-balandda-uz/\n",
      "https://anorbank.uz/uz/deposit/valyutnyy-vklad-elite-new-uz/\n",
      "https://anorbank.uz/uz/deposit/vklad-qulay-uz/\n"
     ]
    }
   ],
   "source": [
    "from bs4 import  BeautifulSoup as bs\n",
    "\n",
    "main_url = \"https://anorbank.uz\"\n",
    "\n",
    "url = \"https://anorbank.uz/uz/deposit/\"\n",
    "\n",
    "response = requests.get(url)\n",
    "\n",
    "soup = bs(response.text)\n",
    "\n",
    "all_cards = soup.find(class_ = \"cards\")\n",
    "\n",
    "all_links = all_cards.find_all(class_ = \"cards__btns\")\n",
    "\n",
    "for link in all_links:\n",
    "\n",
    "    a_tag = link.find(\"a\")\n",
    "    link_only = a_tag[\"href\"]\n",
    "    each_batafsil_url = main_url + link_only\n",
    "    print(each_batafsil_url)\n",
    "\n",
    "\n",
    "\n"
   ]
  }
 ],
 "metadata": {
  "kernelspec": {
   "display_name": "Python 3",
   "language": "python",
   "name": "python3"
  },
  "language_info": {
   "codemirror_mode": {
    "name": "ipython",
    "version": 3
   },
   "file_extension": ".py",
   "mimetype": "text/x-python",
   "name": "python",
   "nbconvert_exporter": "python",
   "pygments_lexer": "ipython3",
   "version": "3.13.3"
  }
 },
 "nbformat": 4,
 "nbformat_minor": 5
}

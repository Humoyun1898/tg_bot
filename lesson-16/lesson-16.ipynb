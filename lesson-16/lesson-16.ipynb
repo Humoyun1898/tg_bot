{
 "cells": [
  {
   "cell_type": "code",
   "execution_count": 2,
   "id": "feb25d91",
   "metadata": {},
   "outputs": [],
   "source": [
    "import json"
   ]
  },
  {
   "cell_type": "markdown",
   "id": "668e3c20",
   "metadata": {},
   "source": [
    "Merge the two lists into one sorted list.\n",
    "Input: list1 = [1,2,4], list2 = [1,3,4]\n",
    "Output: [1,1,2,3,4,4]\n",
    "Example 2:\n",
    "\n",
    "Input: list1 = [], list2 = []\n",
    "Output: []\n",
    "Example 3:\n",
    "\n",
    "Input: list1 = [], list2 = [0]\n",
    "Output: [0]\n",
    " \n",
    "\n",
    "Constraints:\n",
    "\n",
    "\n",
    "Both list1 and list2 are sorted in non-decreasing order."
   ]
  },
  {
   "cell_type": "code",
   "execution_count": null,
   "id": "f1b0abc6",
   "metadata": {},
   "outputs": [
    {
     "name": "stdout",
     "output_type": "stream",
     "text": [
      "[1, 1, 2, 3, 4, 4]\n"
     ]
    }
   ],
   "source": [
    "list1 = [1,2,4]\n",
    "list2 = [1,3,4]\n",
    "joined = list1 + list2\n",
    "new_list = sorted(joined)\n",
    "print(new_list)\n"
   ]
  },
  {
   "cell_type": "code",
   "execution_count": 14,
   "id": "b505f48e",
   "metadata": {},
   "outputs": [
    {
     "name": "stdout",
     "output_type": "stream",
     "text": [
      "[1, 1, 2, 3, 4, 4]\n"
     ]
    }
   ],
   "source": [
    "list1 = [1,2,4]\n",
    "list2 = [1,3,4]\n",
    "joined = list1 + list2\n",
    "joined.sort()\n",
    "print(joined)"
   ]
  },
  {
   "cell_type": "markdown",
   "id": "8513f37d",
   "metadata": {},
   "source": [
    "Find the length of the last word.\n",
    "A word is a maximal substring consisting of non-space characters only.\n",
    "\n",
    " \n",
    "\n",
    "Example 1:\n",
    "\n",
    "Input: s = \"Hello World\"\n",
    "Output: 5\n",
    "Explanation: The last word is \"World\" with length 5.\n",
    "Example 2:\n",
    "\n",
    "Input: s = \"   fly me   to   the moon  \"\n",
    "Output: 4\n",
    "Explanation: The last word is \"moon\" with length 4.\n",
    "Example 3:\n",
    "\n",
    "Input: s = \"luffy is still joyboy\"\n",
    "Output: 6\n",
    "Explanation: The last word is \"joyboy\" with length 6."
   ]
  },
  {
   "cell_type": "code",
   "execution_count": 22,
   "id": "17ae923a",
   "metadata": {},
   "outputs": [
    {
     "name": "stdout",
     "output_type": "stream",
     "text": [
      "4\n"
     ]
    }
   ],
   "source": [
    "word = \"   fly me   to   the moon  \"\n",
    "new_word = word.strip()\n",
    "new_list = new_word.split(' ')\n",
    "print(len(new_list[-1]))\n",
    "\n"
   ]
  },
  {
   "cell_type": "markdown",
   "id": "7eed9ae4",
   "metadata": {},
   "source": [
    "Delete Duplicates From a list.\n",
    " \n",
    "\n",
    "Example 1:\n",
    "Input: head = [1,1,2]\n",
    "Output: [1,2]\n",
    "\n",
    "Example 2:\n",
    "Input: head = [1,1,2,3,3]\n",
    "Output: [1,2,3]"
   ]
  },
  {
   "cell_type": "code",
   "execution_count": 26,
   "id": "ddc6754e",
   "metadata": {},
   "outputs": [
    {
     "name": "stdout",
     "output_type": "stream",
     "text": [
      "[1, 2]\n"
     ]
    }
   ],
   "source": [
    "head = [1,1,2]\n",
    "new_list = []\n",
    "\n",
    "for x in head:\n",
    "    if head.count(x) > 1:\n",
    "        new_list.append(x)\n",
    "        head.remove(x)\n",
    "    else:\n",
    "        new_list.append(x)\n",
    "\n",
    "print(new_list)"
   ]
  },
  {
   "cell_type": "markdown",
   "id": "6e670916",
   "metadata": {},
   "source": [
    "###JSON AND HTTP REQUEST METHODS\n",
    "JSON IS JAVA SCRYPT OBJECT NOTATION\n"
   ]
  },
  {
   "cell_type": "code",
   "execution_count": 7,
   "id": "08e9920c",
   "metadata": {},
   "outputs": [
    {
     "data": {
      "text/plain": [
       "'{\"name\": \"John\", \"age\": 25, \"address\": {\"city\": \"Gonduroas\", \"country\": \"UK\", \"zipcode\": \"99985\"}}'"
      ]
     },
     "execution_count": 7,
     "metadata": {},
     "output_type": "execute_result"
    }
   ],
   "source": [
    "import json\n",
    "\n",
    "sample = {'name':'John',\n",
    "          'age':25,\n",
    "          'address':{\n",
    "                'city':'Gonduroas',\n",
    "                'country':'UK',\n",
    "                'zipcode':'99985'}\n",
    "            }\n",
    "json.dumps(sample)"
   ]
  },
  {
   "cell_type": "code",
   "execution_count": 8,
   "id": "b888a0da",
   "metadata": {},
   "outputs": [],
   "source": [
    "with open ('sample_cust.json', 'w') as file:\n",
    "    json.dump(sample, file)"
   ]
  },
  {
   "cell_type": "code",
   "execution_count": 14,
   "id": "9a74556c",
   "metadata": {},
   "outputs": [
    {
     "data": {
      "text/plain": [
       "'{\"brand\":\"Chevrolet\",\\n            \"Year\": 2000,\\n            \"Model\":\"Cobalt\",\\n            \"color\":\"white\",\\n            \"distance\":200000}'"
      ]
     },
     "execution_count": 14,
     "metadata": {},
     "output_type": "execute_result"
    }
   ],
   "source": [
    "import json\n",
    "car_json = \"\"\"{\"brand\":\"Chevrolet\",\n",
    "            \"Year\": 2000,\n",
    "            \"Model\":\"Cobalt\",\n",
    "            \"color\":\"white\",\n",
    "            \"distance\":200000}\"\"\"\n",
    "car_json\n",
    "\n"
   ]
  },
  {
   "cell_type": "code",
   "execution_count": 15,
   "id": "b7ff61dc",
   "metadata": {},
   "outputs": [
    {
     "data": {
      "text/plain": [
       "{'brand': 'Chevrolet',\n",
       " 'Year': 2000,\n",
       " 'Model': 'Cobalt',\n",
       " 'color': 'white',\n",
       " 'distance': 200000}"
      ]
     },
     "execution_count": 15,
     "metadata": {},
     "output_type": "execute_result"
    }
   ],
   "source": [
    "json.loads(car_json)"
   ]
  },
  {
   "cell_type": "code",
   "execution_count": 17,
   "id": "7d16d2fc",
   "metadata": {},
   "outputs": [
    {
     "name": "stdout",
     "output_type": "stream",
     "text": [
      "{'name': 'John', 'age': 25, 'address': {'city': 'Gonduroas', 'country': 'UK', 'zipcode': '99985'}}\n"
     ]
    }
   ],
   "source": [
    "with open(\"sample_cust.json\",\"r\") as my_file:\n",
    "    print (json.load(my_file))\n",
    "\n",
    "### flattening"
   ]
  },
  {
   "cell_type": "markdown",
   "id": "2a1b9d6a",
   "metadata": {},
   "source": [
    "### http request"
   ]
  }
 ],
 "metadata": {
  "kernelspec": {
   "display_name": "Python 3",
   "language": "python",
   "name": "python3"
  },
  "language_info": {
   "codemirror_mode": {
    "name": "ipython",
    "version": 3
   },
   "file_extension": ".py",
   "mimetype": "text/x-python",
   "name": "python",
   "nbconvert_exporter": "python",
   "pygments_lexer": "ipython3",
   "version": "3.13.3"
  }
 },
 "nbformat": 4,
 "nbformat_minor": 5
}

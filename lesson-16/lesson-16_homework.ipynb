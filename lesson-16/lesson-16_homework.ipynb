{
 "cells": [
  {
   "cell_type": "markdown",
   "id": "4d1497f9",
   "metadata": {},
   "source": [
    "1.write a Python script that reads the students.jon JSON file and prints details of each student."
   ]
  },
  {
   "cell_type": "code",
   "execution_count": 9,
   "id": "a3c1e1d2",
   "metadata": {},
   "outputs": [
    {
     "name": "stdout",
     "output_type": "stream",
     "text": [
      "student1: {'name': 'Alice', 'age': 20, 'grade': 'A'}\n",
      "student2: {'name': 'Bob', 'age': 21, 'grade': 'B'}\n"
     ]
    }
   ],
   "source": [
    "import json\n",
    "\n",
    "with open(\"students.json\", \"r\") as file:\n",
    "    students = json.load(file)\n",
    "\n",
    "for key, value in students.items():\n",
    "    print(f\"{key}: {value}\")"
   ]
  },
  {
   "cell_type": "markdown",
   "id": "78e1e98c",
   "metadata": {},
   "source": [
    "Task: Weather API\n",
    "Use this url : https://openweathermap.org/\n",
    "Use the requests library to fetch weather data for a specific city(ex. your hometown: Tashkent) and print relevant information (temperature, humidity, etc.)."
   ]
  },
  {
   "cell_type": "code",
   "execution_count": 20,
   "id": "e16fa677",
   "metadata": {},
   "outputs": [
    {
     "name": "stdout",
     "output_type": "stream",
     "text": [
      "coord:{'lon': 69.2406, 'lat': 41.3111}\n",
      "weather:[{'id': 800, 'main': 'Clear', 'description': 'clear sky', 'icon': '01d'}]\n",
      "base:stations\n",
      "main:{'temp': 308.2, 'feels_like': 305.49, 'temp_min': 308.2, 'temp_max': 308.2, 'pressure': 1004, 'humidity': 8, 'sea_level': 1004, 'grnd_level': 957}\n",
      "visibility:10000\n",
      "wind:{'speed': 4.44, 'deg': 325, 'gust': 3.58}\n",
      "clouds:{'all': 0}\n",
      "dt:1751022700\n",
      "sys:{'country': 'UZ', 'sunrise': 1750981900, 'sunset': 1751036416}\n",
      "timezone:18000\n",
      "id:1514635\n",
      "name:Aktepa\n",
      "cod:200\n"
     ]
    }
   ],
   "source": [
    "import requests\n",
    "\n",
    "arguments = {\n",
    "'latitude': 41.311081,\n",
    "'longitude': 69.240562,\n",
    "'api_key':'f7dcece58c4df14d6edf8ebf027f6935'}\n",
    "\n",
    "response = requests.get('https://api.openweathermap.org/data/2.5/weather?lat=41.311081&lon=69.240562&appid=f7dcece58c4df14d6edf8ebf027f6935')\n",
    "response.raise_for_status\n",
    "s = response.json()\n",
    "\n",
    "for key,value in s.items():\n",
    "    print(f'{key}:{value}')\n",
    "\n",
    "    "
   ]
  },
  {
   "cell_type": "markdown",
   "id": "0a3460ba",
   "metadata": {},
   "source": [
    "3.Task: JSON Modification\n",
    "Write a program that allows users to add new books, update existing book information, and delete books from the books.json JSON file."
   ]
  },
  {
   "cell_type": "code",
   "execution_count": 20,
   "id": "ffe64525",
   "metadata": {},
   "outputs": [
    {
     "name": "stdout",
     "output_type": "stream",
     "text": [
      "\n",
      "--- Book Manager ---\n",
      "1. Add Book\n",
      "2. Update Book\n",
      "3. Delete Book\n",
      "4. View All Books\n",
      "5. Exit\n"
     ]
    },
    {
     "ename": "FileNotFoundError",
     "evalue": "[Errno 2] No such file or directory: 'books.json'",
     "output_type": "error",
     "traceback": [
      "\u001b[31m---------------------------------------------------------------------------\u001b[39m",
      "\u001b[31mFileNotFoundError\u001b[39m                         Traceback (most recent call last)",
      "\u001b[36mCell\u001b[39m\u001b[36m \u001b[39m\u001b[32mIn[20]\u001b[39m\u001b[32m, line 54\u001b[39m\n\u001b[32m     51\u001b[39m choice = \u001b[38;5;28minput\u001b[39m(\u001b[33m\"\u001b[39m\u001b[33mChoose an option (1–5): \u001b[39m\u001b[33m\"\u001b[39m)\n\u001b[32m     53\u001b[39m \u001b[38;5;28;01mif\u001b[39;00m choice == \u001b[33m'\u001b[39m\u001b[33m1\u001b[39m\u001b[33m'\u001b[39m:\n\u001b[32m---> \u001b[39m\u001b[32m54\u001b[39m     \u001b[43madd_book\u001b[49m\u001b[43m(\u001b[49m\u001b[43m)\u001b[49m\n\u001b[32m     55\u001b[39m \u001b[38;5;28;01melif\u001b[39;00m choice == \u001b[33m'\u001b[39m\u001b[33m2\u001b[39m\u001b[33m'\u001b[39m:\n\u001b[32m     56\u001b[39m     update_book()\n",
      "\u001b[36mCell\u001b[39m\u001b[36m \u001b[39m\u001b[32mIn[20]\u001b[39m\u001b[32m, line 17\u001b[39m, in \u001b[36madd_book\u001b[39m\u001b[34m()\u001b[39m\n\u001b[32m     15\u001b[39m author = \u001b[38;5;28minput\u001b[39m(\u001b[33m\"\u001b[39m\u001b[33mEnter author: \u001b[39m\u001b[33m\"\u001b[39m)\n\u001b[32m     16\u001b[39m year = \u001b[38;5;28minput\u001b[39m(\u001b[33m\"\u001b[39m\u001b[33mEnter year: \u001b[39m\u001b[33m\"\u001b[39m)\n\u001b[32m---> \u001b[39m\u001b[32m17\u001b[39m books = \u001b[43mload_books\u001b[49m\u001b[43m(\u001b[49m\u001b[43m)\u001b[49m\n\u001b[32m     18\u001b[39m books.append({\u001b[33m\"\u001b[39m\u001b[33mtitle\u001b[39m\u001b[33m\"\u001b[39m: title, \u001b[33m\"\u001b[39m\u001b[33mauthor\u001b[39m\u001b[33m\"\u001b[39m: author, \u001b[33m\"\u001b[39m\u001b[33myear\u001b[39m\u001b[33m\"\u001b[39m: \u001b[38;5;28mint\u001b[39m(year)})\n\u001b[32m     19\u001b[39m save_books(books)\n",
      "\u001b[36mCell\u001b[39m\u001b[36m \u001b[39m\u001b[32mIn[20]\u001b[39m\u001b[32m, line 6\u001b[39m, in \u001b[36mload_books\u001b[39m\u001b[34m()\u001b[39m\n\u001b[32m      5\u001b[39m \u001b[38;5;28;01mdef\u001b[39;00m\u001b[38;5;250m \u001b[39m\u001b[34mload_books\u001b[39m():\n\u001b[32m----> \u001b[39m\u001b[32m6\u001b[39m     \u001b[38;5;28;01mwith\u001b[39;00m \u001b[38;5;28;43mopen\u001b[39;49m\u001b[43m(\u001b[49m\u001b[43mfilename\u001b[49m\u001b[43m,\u001b[49m\u001b[43m \u001b[49m\u001b[33;43m'\u001b[39;49m\u001b[33;43mr\u001b[39;49m\u001b[33;43m'\u001b[39;49m\u001b[43m)\u001b[49m \u001b[38;5;28;01mas\u001b[39;00m file:\n\u001b[32m      7\u001b[39m         \u001b[38;5;28;01mreturn\u001b[39;00m json.load(file)\n",
      "\u001b[36mFile \u001b[39m\u001b[32m~\\AppData\\Roaming\\Python\\Python313\\site-packages\\IPython\\core\\interactiveshell.py:326\u001b[39m, in \u001b[36m_modified_open\u001b[39m\u001b[34m(file, *args, **kwargs)\u001b[39m\n\u001b[32m    319\u001b[39m \u001b[38;5;28;01mif\u001b[39;00m file \u001b[38;5;129;01min\u001b[39;00m {\u001b[32m0\u001b[39m, \u001b[32m1\u001b[39m, \u001b[32m2\u001b[39m}:\n\u001b[32m    320\u001b[39m     \u001b[38;5;28;01mraise\u001b[39;00m \u001b[38;5;167;01mValueError\u001b[39;00m(\n\u001b[32m    321\u001b[39m         \u001b[33mf\u001b[39m\u001b[33m\"\u001b[39m\u001b[33mIPython won\u001b[39m\u001b[33m'\u001b[39m\u001b[33mt let you open fd=\u001b[39m\u001b[38;5;132;01m{\u001b[39;00mfile\u001b[38;5;132;01m}\u001b[39;00m\u001b[33m by default \u001b[39m\u001b[33m\"\u001b[39m\n\u001b[32m    322\u001b[39m         \u001b[33m\"\u001b[39m\u001b[33mas it is likely to crash IPython. If you know what you are doing, \u001b[39m\u001b[33m\"\u001b[39m\n\u001b[32m    323\u001b[39m         \u001b[33m\"\u001b[39m\u001b[33myou can use builtins\u001b[39m\u001b[33m'\u001b[39m\u001b[33m open.\u001b[39m\u001b[33m\"\u001b[39m\n\u001b[32m    324\u001b[39m     )\n\u001b[32m--> \u001b[39m\u001b[32m326\u001b[39m \u001b[38;5;28;01mreturn\u001b[39;00m \u001b[43mio_open\u001b[49m\u001b[43m(\u001b[49m\u001b[43mfile\u001b[49m\u001b[43m,\u001b[49m\u001b[43m \u001b[49m\u001b[43m*\u001b[49m\u001b[43margs\u001b[49m\u001b[43m,\u001b[49m\u001b[43m \u001b[49m\u001b[43m*\u001b[49m\u001b[43m*\u001b[49m\u001b[43mkwargs\u001b[49m\u001b[43m)\u001b[49m\n",
      "\u001b[31mFileNotFoundError\u001b[39m: [Errno 2] No such file or directory: 'books.json'"
     ]
    }
   ],
   "source": [
    "import json\n",
    "\n",
    "filename = 'books.json'\n",
    "\n",
    "def load_books():\n",
    "    with open(filename, 'r') as file:\n",
    "        return json.load(file)\n",
    "\n",
    "def save_books(books):\n",
    "    with open(filename, 'w') as file:\n",
    "        json.dump(books, file, indent=4)\n",
    "\n",
    "def add_book():\n",
    "    title = input(\"Enter book title: \")\n",
    "    author = input(\"Enter author: \")\n",
    "    year = input(\"Enter year: \")\n",
    "    books = load_books()\n",
    "    books.append({\"title\": title, \"author\": author, \"year\": int(year)})\n",
    "    save_books(books)\n",
    "    print(\"✅ Book added!\")\n",
    "\n",
    "def update_book():\n",
    "    title = input(\"Enter the title of the book to update: \")\n",
    "    books = load_books()\n",
    "    for book in books:\n",
    "        if book['title'].lower() == title.lower():\n",
    "            book['author'] = input(\"Enter new author: \")\n",
    "            book['year'] = int(input(\"Enter new year: \"))\n",
    "            save_books(books)\n",
    "            print(\" Book updated!\")\n",
    "            return\n",
    "    print(\" Book not found.\")\n",
    "\n",
    "def delete_book():\n",
    "    title = input(\"Enter the title of the book to delete: \")\n",
    "    books = load_books()\n",
    "    new_books = [book for book in books if book['title'].lower() != title.lower()]\n",
    "    if len(books) == len(new_books):\n",
    "        print(\"Book not found.\")\n",
    "    else:\n",
    "        save_books(new_books)\n",
    "        print(\"Book deleted!\")\n",
    "\n",
    "while True:\n",
    "    print(\"\\n--- Book Manager ---\")\n",
    "    print(\"1. Add Book\")\n",
    "    print(\"2. Update Book\")\n",
    "    print(\"3. Delete Book\")\n",
    "    print(\"4. View All Books\")\n",
    "    print(\"5. Exit\")\n",
    "    choice = input(\"Choose an option (1–5): \")\n",
    "\n",
    "    if choice == '1':\n",
    "        add_book()\n",
    "    elif choice == '2':\n",
    "        update_book()\n",
    "    elif choice == '3':\n",
    "        delete_book()\n",
    "    elif choice == '4':\n",
    "        books = load_books()\n",
    "        for i, book in enumerate(books, 1):\n",
    "            print(f\"{i}. {book['title']} by {book['author']} ({book['year']})\")\n",
    "    elif choice == '5':\n",
    "        print(\"Goodbye! 👋\")\n",
    "        break\n",
    "    else:\n",
    "        print(\"Invalid choice. Please try again.\")"
   ]
  },
  {
   "cell_type": "markdown",
   "id": "fc3cdb52",
   "metadata": {},
   "source": [
    "4.Task: Movie Recommendation System\n",
    "Use this url http://www.omdbapi.com/ to fetch information about movies.\n",
    "Create a program that asks users for a movie genre and recommends a random movie from that genre."
   ]
  },
  {
   "cell_type": "code",
   "execution_count": 19,
   "id": "b43fba13",
   "metadata": {},
   "outputs": [
    {
     "name": "stdout",
     "output_type": "stream",
     "text": [
      "Title:Love\n",
      "Year:2015\n",
      "Rated:TV-MA\n",
      "Released:30 Oct 2015\n",
      "Runtime:135 min\n",
      "Genre:Drama, Romance\n",
      "Director:Gaspar Noé\n",
      "Writer:Gaspar Noé\n",
      "Actors:Aomi Muyock, Karl Glusman, Klara Kristin\n",
      "Plot:Murphy is an American cinema school student, living in Paris. He had a French girlfriend, called Electra, whom he dated for two years. One day, they met and had a no-strings-attached threesome with another woman, a young blonde Danish teenager named Omi, as a way to add some excitement to their love life. But later, he had sex with her behind Electra's back, as a result of which Omi became pregnant. This unplanned pregnancy ended the relationship between Murphy and Electra on a horrible note, and it forced Murphy to marry Omi. In one morning, Electra's mother, Nora, phones him to ask if he's heard from Electra, because she hasn't heard from her for three months, and given her daughter's suicidal tendencies. For the rest of this day, he recalls his past two years with Electra in a series of fragmented, nonlinear flashbacks; how they first met in Paris, their quick hookup, and their lives over the next two years which is filled with drug abuse, rough sex and tender moments.\n",
      "Language:English, French\n",
      "Country:France, Belgium, Brazil\n",
      "Awards:2 wins & 1 nomination total\n",
      "Poster:https://m.media-amazon.com/images/M/MV5BNDg1MTg0ZDgtZTM5Ny00OTFmLWE1OWItNTAzZDgxOWU1YTA2XkEyXkFqcGc@._V1_SX300.jpg\n",
      "Ratings:[{'Source': 'Internet Movie Database', 'Value': '6.1/10'}, {'Source': 'Rotten Tomatoes', 'Value': '42%'}, {'Source': 'Metacritic', 'Value': '51/100'}]\n",
      "Metascore:51\n",
      "imdbRating:6.1\n",
      "imdbVotes:70,922\n",
      "imdbID:tt3774694\n",
      "Type:movie\n",
      "DVD:N/A\n",
      "BoxOffice:$249,083\n",
      "Production:N/A\n",
      "Website:N/A\n",
      "Response:True\n"
     ]
    }
   ],
   "source": [
    "import requests\n",
    "\n",
    "arguments = {'t':'Love',\n",
    "             'type': 'movie',\n",
    "             'plot': 'full',\n",
    "             'genre':'Drama'\n",
    "}\n",
    "api_key = 'eca4ccd5'\n",
    "\n",
    "response = requests.get('http://www.omdbapi.com/?apikey=eca4ccd5&',params= arguments)\n",
    "response.raise_for_status\n",
    "film_data = response.json()\n",
    "for key,value in film_data.items():\n",
    "    print(f'{key}:{value}')"
   ]
  }
 ],
 "metadata": {
  "kernelspec": {
   "display_name": "Python 3",
   "language": "python",
   "name": "python3"
  },
  "language_info": {
   "codemirror_mode": {
    "name": "ipython",
    "version": 3
   },
   "file_extension": ".py",
   "mimetype": "text/x-python",
   "name": "python",
   "nbconvert_exporter": "python",
   "pygments_lexer": "ipython3",
   "version": "3.13.3"
  }
 },
 "nbformat": 4,
 "nbformat_minor": 5
}

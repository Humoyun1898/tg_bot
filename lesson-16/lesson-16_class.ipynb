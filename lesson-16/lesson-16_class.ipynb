{
 "cells": [
  {
   "cell_type": "markdown",
   "id": "3b14c9de",
   "metadata": {},
   "source": [
    "### JSON\n",
    "### HTTP request methods\n",
    "### Get Data From web"
   ]
  },
  {
   "cell_type": "code",
   "execution_count": null,
   "id": "175782bd",
   "metadata": {},
   "outputs": [],
   "source": [
    "# JSON - JavaScript Object Notation."
   ]
  },
  {
   "cell_type": "code",
   "execution_count": null,
   "id": "5887543a",
   "metadata": {},
   "outputs": [],
   "source": [
    "import json\n",
    "\n",
    "# pip install json\n"
   ]
  },
  {
   "cell_type": "markdown",
   "id": "6f73546d",
   "metadata": {},
   "source": [
    "### Encoding JSON string, Decoding JSON string\n",
    "### Saving JSON to Disk, Reading JSON from Disk"
   ]
  },
  {
   "cell_type": "code",
   "execution_count": 2,
   "id": "00b7618e",
   "metadata": {},
   "outputs": [
    {
     "data": {
      "text/plain": [
       "dict"
      ]
     },
     "execution_count": 2,
     "metadata": {},
     "output_type": "execute_result"
    }
   ],
   "source": [
    "sample_json = {\n",
    "    \"name\": \"John\",\n",
    "    \"age\": 30,\n",
    "    \"Address\":{\n",
    "        \"Country\": \"USA\",\n",
    "        \"City\": \"New York\"\n",
    "    }\n",
    "}\n",
    "\n",
    "type(sample_json)"
   ]
  },
  {
   "cell_type": "code",
   "execution_count": null,
   "id": "3bb6ad82",
   "metadata": {},
   "outputs": [],
   "source": [
    "import json\n",
    "\n",
    "sample_json = {\n",
    "    \"name\": \"John\",\n",
    "    \"age\": 30,\n",
    "    \"Address\":{\n",
    "        \"Country\": \"USA\",\n",
    "        \"City\": \"New York\"\n",
    "    }\n",
    "}\n",
    "\n",
    "# json.dumps(sam)\n"
   ]
  },
  {
   "cell_type": "code",
   "execution_count": null,
   "id": "c8bbde35",
   "metadata": {},
   "outputs": [
    {
     "name": "stdout",
     "output_type": "stream",
     "text": [
      "{\"menu\": {\"id\": \"file\", \"value\": \"File\", \"popup\": {\"menuitem\": [{\"value\": \"New\", \"onclick\": \"CreateNewDoc()\"}, {\"value\": \"Open\", \"onclick\": \"OpenDoc()\"}, {\"value\": \"Close\", \"onclick\": \"CloseDoc()\"}]}}}\n",
      "<class 'str'>\n"
     ]
    }
   ],
   "source": [
    "import json\n",
    "j = {\"menu\": {\n",
    "        \"id\": \"file\",\n",
    "        \"value\": \"File\",\n",
    "        \"popup\": {\n",
    "            \"menuitem\": [\n",
    "            {\"value\": \"New\", \"onclick\": \"CreateNewDoc()\"},\n",
    "            {\"value\": \"Open\", \"onclick\": \"OpenDoc()\"},\n",
    "            {\"value\": \"Close\", \"onclick\": \"CloseDoc()\"}\n",
    "            ]\n",
    "        }\n",
    "    }}\n",
    "print(json.dumps(j))\n",
    "print(type(json.dumps(j)))\n",
    "\n",
    "\n"
   ]
  },
  {
   "cell_type": "code",
   "execution_count": null,
   "id": "31e053ce",
   "metadata": {},
   "outputs": [],
   "source": [
    "with open(\"test.json\", 'w') as filee:\n",
    "    json.dump(j, filee)\n",
    "\n",
    "\n"
   ]
  }
 ],
 "metadata": {
  "kernelspec": {
   "display_name": "Python 3",
   "language": "python",
   "name": "python3"
  },
  "language_info": {
   "codemirror_mode": {
    "name": "ipython",
    "version": 3
   },
   "file_extension": ".py",
   "mimetype": "text/x-python",
   "name": "python",
   "nbconvert_exporter": "python",
   "pygments_lexer": "ipython3",
   "version": "3.13.3"
  }
 },
 "nbformat": 4,
 "nbformat_minor": 5
}
